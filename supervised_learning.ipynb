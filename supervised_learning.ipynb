{
 "cells": [
  {
   "cell_type": "markdown",
   "metadata": {
    "toc": true
   },
   "source": [
    "<h1>Содержание<span class=\"tocSkip\"></span></h1>\n",
    "<div class=\"toc\"><ul class=\"toc-item\"><li><span><a href=\"#Подключение-библиотек\" data-toc-modified-id=\"Подключение-библиотек-1\"><span class=\"toc-item-num\">1&nbsp;&nbsp;</span>Подключение библиотек</a></span></li><li><span><a href=\"#Подготовка-данных\" data-toc-modified-id=\"Подготовка-данных-2\"><span class=\"toc-item-num\">2&nbsp;&nbsp;</span>Подготовка данных</a></span><ul class=\"toc-item\"><li><span><a href=\"#Предобработка-данных\" data-toc-modified-id=\"Предобработка-данных-2.1\"><span class=\"toc-item-num\">2.1&nbsp;&nbsp;</span>Предобработка данных</a></span></li><li><span><a href=\"#Разделение-признаков-и-целевого-признака\" data-toc-modified-id=\"Разделение-признаков-и-целевого-признака-2.2\"><span class=\"toc-item-num\">2.2&nbsp;&nbsp;</span>Разделение признаков и целевого признака</a></span></li><li><span><a href=\"#Прямое-кодирование-(OHE)\" data-toc-modified-id=\"Прямое-кодирование-(OHE)-2.3\"><span class=\"toc-item-num\">2.3&nbsp;&nbsp;</span>Прямое кодирование (OHE)</a></span></li><li><span><a href=\"#Разделение-выборок\" data-toc-modified-id=\"Разделение-выборок-2.4\"><span class=\"toc-item-num\">2.4&nbsp;&nbsp;</span>Разделение выборок</a></span></li></ul></li><li><span><a href=\"#Исследование-задачи\" data-toc-modified-id=\"Исследование-задачи-3\"><span class=\"toc-item-num\">3&nbsp;&nbsp;</span>Исследование задачи</a></span><ul class=\"toc-item\"><li><span><a href=\"#Исследование-баланса-классов\" data-toc-modified-id=\"Исследование-баланса-классов-3.1\"><span class=\"toc-item-num\">3.1&nbsp;&nbsp;</span>Исследование баланса классов</a></span></li><li><span><a href=\"#Исследование-моделей-без-учёта-дисбаланса\" data-toc-modified-id=\"Исследование-моделей-без-учёта-дисбаланса-3.2\"><span class=\"toc-item-num\">3.2&nbsp;&nbsp;</span>Исследование моделей без учёта дисбаланса</a></span><ul class=\"toc-item\"><li><span><a href=\"#Решающее-дерево\" data-toc-modified-id=\"Решающее-дерево-3.2.1\"><span class=\"toc-item-num\">3.2.1&nbsp;&nbsp;</span>Решающее дерево</a></span></li><li><span><a href=\"#Случайный-лес\" data-toc-modified-id=\"Случайный-лес-3.2.2\"><span class=\"toc-item-num\">3.2.2&nbsp;&nbsp;</span>Случайный лес</a></span></li><li><span><a href=\"#Логистическая-регрессия\" data-toc-modified-id=\"Логистическая-регрессия-3.2.3\"><span class=\"toc-item-num\">3.2.3&nbsp;&nbsp;</span>Логистическая регрессия</a></span></li></ul></li><li><span><a href=\"#Лучший-вариант-модели\" data-toc-modified-id=\"Лучший-вариант-модели-3.3\"><span class=\"toc-item-num\">3.3&nbsp;&nbsp;</span>Лучший вариант модели</a></span></li></ul></li><li><span><a href=\"#Борьба-с-дисбалансом\" data-toc-modified-id=\"Борьба-с-дисбалансом-4\"><span class=\"toc-item-num\">4&nbsp;&nbsp;</span>Борьба с дисбалансом</a></span><ul class=\"toc-item\"><li><span><a href=\"#Взвешивание\" data-toc-modified-id=\"Взвешивание-4.1\"><span class=\"toc-item-num\">4.1&nbsp;&nbsp;</span>Взвешивание</a></span></li><li><span><a href=\"#Увеличение-выборки\" data-toc-modified-id=\"Увеличение-выборки-4.2\"><span class=\"toc-item-num\">4.2&nbsp;&nbsp;</span>Увеличение выборки</a></span></li><li><span><a href=\"#Уменьшение-выборки\" data-toc-modified-id=\"Уменьшение-выборки-4.3\"><span class=\"toc-item-num\">4.3&nbsp;&nbsp;</span>Уменьшение выборки</a></span></li><li><span><a href=\"#Лучший-вариант-борьбы\" data-toc-modified-id=\"Лучший-вариант-борьбы-4.4\"><span class=\"toc-item-num\">4.4&nbsp;&nbsp;</span>Лучший вариант борьбы</a></span></li></ul></li><li><span><a href=\"#Тестирование-модели\" data-toc-modified-id=\"Тестирование-модели-5\"><span class=\"toc-item-num\">5&nbsp;&nbsp;</span>Тестирование модели</a></span><ul class=\"toc-item\"><li><span><a href=\"#Проверка-метрики-f1\" data-toc-modified-id=\"Проверка-метрики-f1-5.1\"><span class=\"toc-item-num\">5.1&nbsp;&nbsp;</span>Проверка метрики f1</a></span></li><li><span><a href=\"#Исследование-AUC-ROC\" data-toc-modified-id=\"Исследование-AUC-ROC-5.2\"><span class=\"toc-item-num\">5.2&nbsp;&nbsp;</span>Исследование AUC-ROC</a></span></li></ul></li><li><span><a href=\"#Выводы\" data-toc-modified-id=\"Выводы-6\"><span class=\"toc-item-num\">6&nbsp;&nbsp;</span>Выводы</a></span><ul class=\"toc-item\"><li><span><a href=\"#Были-предобработаны-данные-следующим-образом:\" data-toc-modified-id=\"Были-предобработаны-данные-следующим-образом:-6.1\"><span class=\"toc-item-num\">6.1&nbsp;&nbsp;</span>Были предобработаны данные следующим образом:</a></span><ul class=\"toc-item\"><li><span><a href=\"#Пропуски:\" data-toc-modified-id=\"Пропуски:-6.1.1\"><span class=\"toc-item-num\">6.1.1&nbsp;&nbsp;</span>Пропуски:</a></span></li><li><span><a href=\"#Кодирование:\" data-toc-modified-id=\"Кодирование:-6.1.2\"><span class=\"toc-item-num\">6.1.2&nbsp;&nbsp;</span>Кодирование:</a></span></li></ul></li><li><span><a href=\"#В-ходе-анализа-были-получены-следующие-результаты:\" data-toc-modified-id=\"В-ходе-анализа-были-получены-следующие-результаты:-6.2\"><span class=\"toc-item-num\">6.2&nbsp;&nbsp;</span>В ходе анализа были получены следующие результаты:</a></span></li><li><span><a href=\"#Конечный-результат\" data-toc-modified-id=\"Конечный-результат-6.3\"><span class=\"toc-item-num\">6.3&nbsp;&nbsp;</span>Конечный результат</a></span></li></ul></li></ul></div>"
   ]
  },
  {
   "cell_type": "markdown",
   "metadata": {},
   "source": [
    "# Отток клиентов"
   ]
  },
  {
   "cell_type": "markdown",
   "metadata": {},
   "source": [
    "Из «Бета-Банка» стали уходить клиенты. Каждый месяц. Немного, но заметно. Банковские маркетологи посчитали: сохранять текущих клиентов дешевле, чем привлекать новых.\n",
    "\n",
    "Нужно спрогнозировать, уйдёт клиент из банка в ближайшее время или нет. Вам предоставлены исторические данные о поведении клиентов и расторжении договоров с банком. \n",
    "\n",
    "Постройте модель с предельно большим значением *F1*-меры. Чтобы сдать проект успешно, нужно довести метрику до 0.59. Проверьте *F1*-меру на тестовой выборке самостоятельно.\n",
    "\n",
    "Дополнительно измеряйте *AUC-ROC*, сравнивайте её значение с *F1*-мерой.\n",
    "\n",
    "Источник данных: [https://www.kaggle.com/barelydedicated/bank-customer-churn-modeling](https://www.kaggle.com/barelydedicated/bank-customer-churn-modeling)"
   ]
  },
  {
   "cell_type": "markdown",
   "metadata": {},
   "source": [
    "# Проект: \"Отток клиентов\""
   ]
  },
  {
   "cell_type": "markdown",
   "metadata": {},
   "source": [
    "###### Поставленная задача (цель проекта):\n",
    "- построить модель, которая будет прогнозировать уйдёт клиент из банка в ближайшее время или нет, с предельно большим значением F1-меры (не менее 0.59);\n",
    "- измерять AUC-ROC и сравнивать её значение с F1-мерой.\n",
    "\n",
    "\n",
    "###### Имеется информация о (датафрейм):\n",
    "\n",
    "- клиентах «Бета-Банка»"
   ]
  },
  {
   "cell_type": "markdown",
   "metadata": {},
   "source": [
    "## Подключение библиотек"
   ]
  },
  {
   "cell_type": "code",
   "execution_count": 1,
   "metadata": {},
   "outputs": [],
   "source": [
    "import pandas as pd\n",
    "from sklearn.model_selection import train_test_split\n",
    "from sklearn.tree import DecisionTreeClassifier\n",
    "from sklearn.metrics import f1_score, roc_auc_score\n",
    "from sklearn.ensemble import RandomForestClassifier\n",
    "from sklearn.linear_model import LogisticRegression\n",
    "from sklearn.utils import shuffle\n",
    "from sklearn.preprocessing import StandardScaler"
   ]
  },
  {
   "cell_type": "code",
   "execution_count": 2,
   "metadata": {},
   "outputs": [],
   "source": [
    "pd.set_option('display.max_columns', None)"
   ]
  },
  {
   "cell_type": "markdown",
   "metadata": {},
   "source": [
    "## Подготовка данных"
   ]
  },
  {
   "cell_type": "markdown",
   "metadata": {},
   "source": [
    "### Предобработка данных"
   ]
  },
  {
   "cell_type": "code",
   "execution_count": 3,
   "metadata": {},
   "outputs": [],
   "source": [
    "data = pd.read_csv('Churn.csv')"
   ]
  },
  {
   "cell_type": "code",
   "execution_count": 4,
   "metadata": {},
   "outputs": [
    {
     "data": {
      "text/html": [
       "<div>\n",
       "<style scoped>\n",
       "    .dataframe tbody tr th:only-of-type {\n",
       "        vertical-align: middle;\n",
       "    }\n",
       "\n",
       "    .dataframe tbody tr th {\n",
       "        vertical-align: top;\n",
       "    }\n",
       "\n",
       "    .dataframe thead th {\n",
       "        text-align: right;\n",
       "    }\n",
       "</style>\n",
       "<table border=\"1\" class=\"dataframe\">\n",
       "  <thead>\n",
       "    <tr style=\"text-align: right;\">\n",
       "      <th></th>\n",
       "      <th>RowNumber</th>\n",
       "      <th>CustomerId</th>\n",
       "      <th>Surname</th>\n",
       "      <th>CreditScore</th>\n",
       "      <th>Geography</th>\n",
       "      <th>Gender</th>\n",
       "      <th>Age</th>\n",
       "      <th>Tenure</th>\n",
       "      <th>Balance</th>\n",
       "      <th>NumOfProducts</th>\n",
       "      <th>HasCrCard</th>\n",
       "      <th>IsActiveMember</th>\n",
       "      <th>EstimatedSalary</th>\n",
       "      <th>Exited</th>\n",
       "    </tr>\n",
       "  </thead>\n",
       "  <tbody>\n",
       "    <tr>\n",
       "      <th>0</th>\n",
       "      <td>1</td>\n",
       "      <td>15634602</td>\n",
       "      <td>Hargrave</td>\n",
       "      <td>619</td>\n",
       "      <td>France</td>\n",
       "      <td>Female</td>\n",
       "      <td>42</td>\n",
       "      <td>2.0</td>\n",
       "      <td>0.00</td>\n",
       "      <td>1</td>\n",
       "      <td>1</td>\n",
       "      <td>1</td>\n",
       "      <td>101348.88</td>\n",
       "      <td>1</td>\n",
       "    </tr>\n",
       "    <tr>\n",
       "      <th>1</th>\n",
       "      <td>2</td>\n",
       "      <td>15647311</td>\n",
       "      <td>Hill</td>\n",
       "      <td>608</td>\n",
       "      <td>Spain</td>\n",
       "      <td>Female</td>\n",
       "      <td>41</td>\n",
       "      <td>1.0</td>\n",
       "      <td>83807.86</td>\n",
       "      <td>1</td>\n",
       "      <td>0</td>\n",
       "      <td>1</td>\n",
       "      <td>112542.58</td>\n",
       "      <td>0</td>\n",
       "    </tr>\n",
       "    <tr>\n",
       "      <th>2</th>\n",
       "      <td>3</td>\n",
       "      <td>15619304</td>\n",
       "      <td>Onio</td>\n",
       "      <td>502</td>\n",
       "      <td>France</td>\n",
       "      <td>Female</td>\n",
       "      <td>42</td>\n",
       "      <td>8.0</td>\n",
       "      <td>159660.80</td>\n",
       "      <td>3</td>\n",
       "      <td>1</td>\n",
       "      <td>0</td>\n",
       "      <td>113931.57</td>\n",
       "      <td>1</td>\n",
       "    </tr>\n",
       "    <tr>\n",
       "      <th>3</th>\n",
       "      <td>4</td>\n",
       "      <td>15701354</td>\n",
       "      <td>Boni</td>\n",
       "      <td>699</td>\n",
       "      <td>France</td>\n",
       "      <td>Female</td>\n",
       "      <td>39</td>\n",
       "      <td>1.0</td>\n",
       "      <td>0.00</td>\n",
       "      <td>2</td>\n",
       "      <td>0</td>\n",
       "      <td>0</td>\n",
       "      <td>93826.63</td>\n",
       "      <td>0</td>\n",
       "    </tr>\n",
       "    <tr>\n",
       "      <th>4</th>\n",
       "      <td>5</td>\n",
       "      <td>15737888</td>\n",
       "      <td>Mitchell</td>\n",
       "      <td>850</td>\n",
       "      <td>Spain</td>\n",
       "      <td>Female</td>\n",
       "      <td>43</td>\n",
       "      <td>2.0</td>\n",
       "      <td>125510.82</td>\n",
       "      <td>1</td>\n",
       "      <td>1</td>\n",
       "      <td>1</td>\n",
       "      <td>79084.10</td>\n",
       "      <td>0</td>\n",
       "    </tr>\n",
       "  </tbody>\n",
       "</table>\n",
       "</div>"
      ],
      "text/plain": [
       "   RowNumber  CustomerId   Surname  CreditScore Geography  Gender  Age  \\\n",
       "0          1    15634602  Hargrave          619    France  Female   42   \n",
       "1          2    15647311      Hill          608     Spain  Female   41   \n",
       "2          3    15619304      Onio          502    France  Female   42   \n",
       "3          4    15701354      Boni          699    France  Female   39   \n",
       "4          5    15737888  Mitchell          850     Spain  Female   43   \n",
       "\n",
       "   Tenure    Balance  NumOfProducts  HasCrCard  IsActiveMember  \\\n",
       "0     2.0       0.00              1          1               1   \n",
       "1     1.0   83807.86              1          0               1   \n",
       "2     8.0  159660.80              3          1               0   \n",
       "3     1.0       0.00              2          0               0   \n",
       "4     2.0  125510.82              1          1               1   \n",
       "\n",
       "   EstimatedSalary  Exited  \n",
       "0        101348.88       1  \n",
       "1        112542.58       0  \n",
       "2        113931.57       1  \n",
       "3         93826.63       0  \n",
       "4         79084.10       0  "
      ]
     },
     "metadata": {},
     "output_type": "display_data"
    },
    {
     "name": "stdout",
     "output_type": "stream",
     "text": [
      "\n",
      "<class 'pandas.core.frame.DataFrame'>\n",
      "RangeIndex: 10000 entries, 0 to 9999\n",
      "Data columns (total 14 columns):\n",
      " #   Column           Non-Null Count  Dtype  \n",
      "---  ------           --------------  -----  \n",
      " 0   RowNumber        10000 non-null  int64  \n",
      " 1   CustomerId       10000 non-null  int64  \n",
      " 2   Surname          10000 non-null  object \n",
      " 3   CreditScore      10000 non-null  int64  \n",
      " 4   Geography        10000 non-null  object \n",
      " 5   Gender           10000 non-null  object \n",
      " 6   Age              10000 non-null  int64  \n",
      " 7   Tenure           9091 non-null   float64\n",
      " 8   Balance          10000 non-null  float64\n",
      " 9   NumOfProducts    10000 non-null  int64  \n",
      " 10  HasCrCard        10000 non-null  int64  \n",
      " 11  IsActiveMember   10000 non-null  int64  \n",
      " 12  EstimatedSalary  10000 non-null  float64\n",
      " 13  Exited           10000 non-null  int64  \n",
      "dtypes: float64(3), int64(8), object(3)\n",
      "memory usage: 1.1+ MB\n"
     ]
    }
   ],
   "source": [
    "display(data.head())\n",
    "print()\n",
    "data.info()"
   ]
  },
  {
   "cell_type": "markdown",
   "metadata": {},
   "source": [
    "<div class=\"alert alert-secondary\" role=\"alert\">\n",
    "<b>Заметка:</b>\n",
    "<br> датафрейм состоит из 14 колонок и 10000 строк. \n",
    "    \n",
    "1) Есть пропуски в колонке 'Tenure' - возможно, пропуски стоят у тех клиентов, у которых еще нет полных лет \"присутствия\" в банке.\n",
    "    \n",
    "2) Типы данных, в целом, пойдут\n",
    "    \n",
    "    \n",
    "    В датафрейме представленны следующие колонки:\n",
    "    \n",
    "- RowNumber — индекс строки в данных;\n",
    "- CustomerId — уникальный идентификатор клиента;\n",
    "- Surname — фамилия;\n",
    "- CreditScore — кредитный рейтинг;\n",
    "- Geography — страна проживания;\n",
    "- Gender — пол;\n",
    "- Age — возраст;\n",
    "- Tenure — сколько лет человек является клиентом банка;\n",
    "- Balance — баланс на счёте;\n",
    "- NumOfProducts — количество продуктов банка, используемых клиентом;\n",
    "- HasCrCard — наличие кредитной карты;\n",
    "- IsActiveMember — активность клиента;\n",
    "- EstimatedSalary — предполагаемая зарплата;\n",
    "- Exited — факт ухода клиента.\n",
    " \n",
    "Колонка 'Exited' является целевым признаком, а остальные - просто признаками\n",
    "</div>"
   ]
  },
  {
   "cell_type": "code",
   "execution_count": 5,
   "metadata": {},
   "outputs": [
    {
     "data": {
      "text/plain": [
       "0"
      ]
     },
     "execution_count": 5,
     "metadata": {},
     "output_type": "execute_result"
    }
   ],
   "source": [
    "data.duplicated().sum()"
   ]
  },
  {
   "cell_type": "code",
   "execution_count": 6,
   "metadata": {},
   "outputs": [
    {
     "data": {
      "text/plain": [
       "0"
      ]
     },
     "execution_count": 6,
     "metadata": {},
     "output_type": "execute_result"
    }
   ],
   "source": [
    "data['CustomerId'].duplicated().sum()"
   ]
  },
  {
   "cell_type": "markdown",
   "metadata": {},
   "source": [
    "<div class=\"alert alert-secondary\" role=\"alert\">\n",
    "<b>Заметка:</b>\n",
    "<br> полных дубликатов и дубликатов по Id нет\n",
    "    \n",
    "</div>"
   ]
  },
  {
   "cell_type": "code",
   "execution_count": 7,
   "metadata": {},
   "outputs": [
    {
     "data": {
      "text/plain": [
       "array(['Female', 'Male'], dtype=object)"
      ]
     },
     "execution_count": 7,
     "metadata": {},
     "output_type": "execute_result"
    }
   ],
   "source": [
    "data['Gender'].unique()"
   ]
  },
  {
   "cell_type": "markdown",
   "metadata": {},
   "source": [
    "<div class=\"alert alert-secondary\" role=\"alert\">\n",
    "<b>Заметка:</b>\n",
    "<br> в колонке 'Gender' \"лишних\" значений нет\n",
    "    \n",
    "</div>"
   ]
  },
  {
   "cell_type": "code",
   "execution_count": 8,
   "metadata": {},
   "outputs": [
    {
     "data": {
      "text/plain": [
       "count    10000.000000\n",
       "mean        38.921800\n",
       "std         10.487806\n",
       "min         18.000000\n",
       "25%         32.000000\n",
       "50%         37.000000\n",
       "75%         44.000000\n",
       "max         92.000000\n",
       "Name: Age, dtype: float64"
      ]
     },
     "execution_count": 8,
     "metadata": {},
     "output_type": "execute_result"
    }
   ],
   "source": [
    "data['Age'].describe()"
   ]
  },
  {
   "cell_type": "markdown",
   "metadata": {},
   "source": [
    "<div class=\"alert alert-secondary\" role=\"alert\">\n",
    "<b>Заметка:</b>\n",
    "<br> в колонке 'Age' представлены клиенты в возрасте от 18 до 92 лет. Аномальных значений не наблюдается. В основном клиенты банка в возрасте до 45 лет.\n",
    "</div>\n"
   ]
  },
  {
   "cell_type": "code",
   "execution_count": 9,
   "metadata": {},
   "outputs": [
    {
     "data": {
      "text/plain": [
       "count    9091.000000\n",
       "mean        4.997690\n",
       "std         2.894723\n",
       "min         0.000000\n",
       "25%         2.000000\n",
       "50%         5.000000\n",
       "75%         7.000000\n",
       "max        10.000000\n",
       "Name: Tenure, dtype: float64"
      ]
     },
     "execution_count": 9,
     "metadata": {},
     "output_type": "execute_result"
    }
   ],
   "source": [
    "data['Tenure'].describe()"
   ]
  },
  {
   "cell_type": "markdown",
   "metadata": {},
   "source": [
    "<div class=\"alert alert-secondary\" role=\"alert\">\n",
    "<b>Заметка:</b>\n",
    "<br> клиенты пользуются банком от 0 до 10 лет. В среднем длительность сотрудничества составляет 5 лет. В значениях столбца 'Tenure' присутствует 0, значит, предположение о пропусках для клиентов, кто пользуется банком меньше 1 года, неверно\n",
    "</div>\n"
   ]
  },
  {
   "cell_type": "code",
   "execution_count": 10,
   "metadata": {},
   "outputs": [
    {
     "data": {
      "text/html": [
       "<div>\n",
       "<style scoped>\n",
       "    .dataframe tbody tr th:only-of-type {\n",
       "        vertical-align: middle;\n",
       "    }\n",
       "\n",
       "    .dataframe tbody tr th {\n",
       "        vertical-align: top;\n",
       "    }\n",
       "\n",
       "    .dataframe thead th {\n",
       "        text-align: right;\n",
       "    }\n",
       "</style>\n",
       "<table border=\"1\" class=\"dataframe\">\n",
       "  <thead>\n",
       "    <tr style=\"text-align: right;\">\n",
       "      <th></th>\n",
       "      <th>RowNumber</th>\n",
       "      <th>CustomerId</th>\n",
       "      <th>Surname</th>\n",
       "      <th>CreditScore</th>\n",
       "      <th>Geography</th>\n",
       "      <th>Gender</th>\n",
       "      <th>Age</th>\n",
       "      <th>Tenure</th>\n",
       "      <th>Balance</th>\n",
       "      <th>NumOfProducts</th>\n",
       "      <th>HasCrCard</th>\n",
       "      <th>IsActiveMember</th>\n",
       "      <th>EstimatedSalary</th>\n",
       "      <th>Exited</th>\n",
       "    </tr>\n",
       "  </thead>\n",
       "  <tbody>\n",
       "    <tr>\n",
       "      <th>30</th>\n",
       "      <td>31</td>\n",
       "      <td>15589475</td>\n",
       "      <td>Azikiwe</td>\n",
       "      <td>591</td>\n",
       "      <td>Spain</td>\n",
       "      <td>Female</td>\n",
       "      <td>39</td>\n",
       "      <td>NaN</td>\n",
       "      <td>0.00</td>\n",
       "      <td>3</td>\n",
       "      <td>1</td>\n",
       "      <td>0</td>\n",
       "      <td>140469.38</td>\n",
       "      <td>1</td>\n",
       "    </tr>\n",
       "    <tr>\n",
       "      <th>48</th>\n",
       "      <td>49</td>\n",
       "      <td>15766205</td>\n",
       "      <td>Yin</td>\n",
       "      <td>550</td>\n",
       "      <td>Germany</td>\n",
       "      <td>Male</td>\n",
       "      <td>38</td>\n",
       "      <td>NaN</td>\n",
       "      <td>103391.38</td>\n",
       "      <td>1</td>\n",
       "      <td>0</td>\n",
       "      <td>1</td>\n",
       "      <td>90878.13</td>\n",
       "      <td>0</td>\n",
       "    </tr>\n",
       "    <tr>\n",
       "      <th>51</th>\n",
       "      <td>52</td>\n",
       "      <td>15768193</td>\n",
       "      <td>Trevisani</td>\n",
       "      <td>585</td>\n",
       "      <td>Germany</td>\n",
       "      <td>Male</td>\n",
       "      <td>36</td>\n",
       "      <td>NaN</td>\n",
       "      <td>146050.97</td>\n",
       "      <td>2</td>\n",
       "      <td>0</td>\n",
       "      <td>0</td>\n",
       "      <td>86424.57</td>\n",
       "      <td>0</td>\n",
       "    </tr>\n",
       "    <tr>\n",
       "      <th>53</th>\n",
       "      <td>54</td>\n",
       "      <td>15702298</td>\n",
       "      <td>Parkhill</td>\n",
       "      <td>655</td>\n",
       "      <td>Germany</td>\n",
       "      <td>Male</td>\n",
       "      <td>41</td>\n",
       "      <td>NaN</td>\n",
       "      <td>125561.97</td>\n",
       "      <td>1</td>\n",
       "      <td>0</td>\n",
       "      <td>0</td>\n",
       "      <td>164040.94</td>\n",
       "      <td>1</td>\n",
       "    </tr>\n",
       "    <tr>\n",
       "      <th>60</th>\n",
       "      <td>61</td>\n",
       "      <td>15651280</td>\n",
       "      <td>Hunter</td>\n",
       "      <td>742</td>\n",
       "      <td>Germany</td>\n",
       "      <td>Male</td>\n",
       "      <td>35</td>\n",
       "      <td>NaN</td>\n",
       "      <td>136857.00</td>\n",
       "      <td>1</td>\n",
       "      <td>0</td>\n",
       "      <td>0</td>\n",
       "      <td>84509.57</td>\n",
       "      <td>0</td>\n",
       "    </tr>\n",
       "    <tr>\n",
       "      <th>...</th>\n",
       "      <td>...</td>\n",
       "      <td>...</td>\n",
       "      <td>...</td>\n",
       "      <td>...</td>\n",
       "      <td>...</td>\n",
       "      <td>...</td>\n",
       "      <td>...</td>\n",
       "      <td>...</td>\n",
       "      <td>...</td>\n",
       "      <td>...</td>\n",
       "      <td>...</td>\n",
       "      <td>...</td>\n",
       "      <td>...</td>\n",
       "      <td>...</td>\n",
       "    </tr>\n",
       "    <tr>\n",
       "      <th>9944</th>\n",
       "      <td>9945</td>\n",
       "      <td>15703923</td>\n",
       "      <td>Cameron</td>\n",
       "      <td>744</td>\n",
       "      <td>Germany</td>\n",
       "      <td>Male</td>\n",
       "      <td>41</td>\n",
       "      <td>NaN</td>\n",
       "      <td>190409.34</td>\n",
       "      <td>2</td>\n",
       "      <td>1</td>\n",
       "      <td>1</td>\n",
       "      <td>138361.48</td>\n",
       "      <td>0</td>\n",
       "    </tr>\n",
       "    <tr>\n",
       "      <th>9956</th>\n",
       "      <td>9957</td>\n",
       "      <td>15707861</td>\n",
       "      <td>Nucci</td>\n",
       "      <td>520</td>\n",
       "      <td>France</td>\n",
       "      <td>Female</td>\n",
       "      <td>46</td>\n",
       "      <td>NaN</td>\n",
       "      <td>85216.61</td>\n",
       "      <td>1</td>\n",
       "      <td>1</td>\n",
       "      <td>0</td>\n",
       "      <td>117369.52</td>\n",
       "      <td>1</td>\n",
       "    </tr>\n",
       "    <tr>\n",
       "      <th>9964</th>\n",
       "      <td>9965</td>\n",
       "      <td>15642785</td>\n",
       "      <td>Douglas</td>\n",
       "      <td>479</td>\n",
       "      <td>France</td>\n",
       "      <td>Male</td>\n",
       "      <td>34</td>\n",
       "      <td>NaN</td>\n",
       "      <td>117593.48</td>\n",
       "      <td>2</td>\n",
       "      <td>0</td>\n",
       "      <td>0</td>\n",
       "      <td>113308.29</td>\n",
       "      <td>0</td>\n",
       "    </tr>\n",
       "    <tr>\n",
       "      <th>9985</th>\n",
       "      <td>9986</td>\n",
       "      <td>15586914</td>\n",
       "      <td>Nepean</td>\n",
       "      <td>659</td>\n",
       "      <td>France</td>\n",
       "      <td>Male</td>\n",
       "      <td>36</td>\n",
       "      <td>NaN</td>\n",
       "      <td>123841.49</td>\n",
       "      <td>2</td>\n",
       "      <td>1</td>\n",
       "      <td>0</td>\n",
       "      <td>96833.00</td>\n",
       "      <td>0</td>\n",
       "    </tr>\n",
       "    <tr>\n",
       "      <th>9999</th>\n",
       "      <td>10000</td>\n",
       "      <td>15628319</td>\n",
       "      <td>Walker</td>\n",
       "      <td>792</td>\n",
       "      <td>France</td>\n",
       "      <td>Female</td>\n",
       "      <td>28</td>\n",
       "      <td>NaN</td>\n",
       "      <td>130142.79</td>\n",
       "      <td>1</td>\n",
       "      <td>1</td>\n",
       "      <td>0</td>\n",
       "      <td>38190.78</td>\n",
       "      <td>0</td>\n",
       "    </tr>\n",
       "  </tbody>\n",
       "</table>\n",
       "<p>909 rows × 14 columns</p>\n",
       "</div>"
      ],
      "text/plain": [
       "      RowNumber  CustomerId    Surname  CreditScore Geography  Gender  Age  \\\n",
       "30           31    15589475    Azikiwe          591     Spain  Female   39   \n",
       "48           49    15766205        Yin          550   Germany    Male   38   \n",
       "51           52    15768193  Trevisani          585   Germany    Male   36   \n",
       "53           54    15702298   Parkhill          655   Germany    Male   41   \n",
       "60           61    15651280     Hunter          742   Germany    Male   35   \n",
       "...         ...         ...        ...          ...       ...     ...  ...   \n",
       "9944       9945    15703923    Cameron          744   Germany    Male   41   \n",
       "9956       9957    15707861      Nucci          520    France  Female   46   \n",
       "9964       9965    15642785    Douglas          479    France    Male   34   \n",
       "9985       9986    15586914     Nepean          659    France    Male   36   \n",
       "9999      10000    15628319     Walker          792    France  Female   28   \n",
       "\n",
       "      Tenure    Balance  NumOfProducts  HasCrCard  IsActiveMember  \\\n",
       "30       NaN       0.00              3          1               0   \n",
       "48       NaN  103391.38              1          0               1   \n",
       "51       NaN  146050.97              2          0               0   \n",
       "53       NaN  125561.97              1          0               0   \n",
       "60       NaN  136857.00              1          0               0   \n",
       "...      ...        ...            ...        ...             ...   \n",
       "9944     NaN  190409.34              2          1               1   \n",
       "9956     NaN   85216.61              1          1               0   \n",
       "9964     NaN  117593.48              2          0               0   \n",
       "9985     NaN  123841.49              2          1               0   \n",
       "9999     NaN  130142.79              1          1               0   \n",
       "\n",
       "      EstimatedSalary  Exited  \n",
       "30          140469.38       1  \n",
       "48           90878.13       0  \n",
       "51           86424.57       0  \n",
       "53          164040.94       1  \n",
       "60           84509.57       0  \n",
       "...               ...     ...  \n",
       "9944        138361.48       0  \n",
       "9956        117369.52       1  \n",
       "9964        113308.29       0  \n",
       "9985         96833.00       0  \n",
       "9999         38190.78       0  \n",
       "\n",
       "[909 rows x 14 columns]"
      ]
     },
     "execution_count": 10,
     "metadata": {},
     "output_type": "execute_result"
    }
   ],
   "source": [
    "data[data['Tenure'].isna()]"
   ]
  },
  {
   "cell_type": "code",
   "execution_count": 11,
   "metadata": {},
   "outputs": [
    {
     "name": "stdout",
     "output_type": "stream",
     "text": [
      "Количество пропусков в столбце Tenure: 909\n",
      "\n",
      "Процент пропусков от общего числа данных: 10 %\n"
     ]
    }
   ],
   "source": [
    "print(f'Количество пропусков в столбце Tenure: {data[\"Tenure\"].isna().sum()}')\n",
    "print()\n",
    "print(f'Процент пропусков от общего числа данных: {round(((data[\"Tenure\"].isna().sum())/(data[\"Tenure\"].count()))*100)} %')"
   ]
  },
  {
   "cell_type": "code",
   "execution_count": 12,
   "metadata": {
    "scrolled": true
   },
   "outputs": [
    {
     "name": "stdout",
     "output_type": "stream",
     "text": [
      "<class 'pandas.core.frame.DataFrame'>\n",
      "Index: 9091 entries, 0 to 9998\n",
      "Data columns (total 14 columns):\n",
      " #   Column           Non-Null Count  Dtype  \n",
      "---  ------           --------------  -----  \n",
      " 0   RowNumber        9091 non-null   int64  \n",
      " 1   CustomerId       9091 non-null   int64  \n",
      " 2   Surname          9091 non-null   object \n",
      " 3   CreditScore      9091 non-null   int64  \n",
      " 4   Geography        9091 non-null   object \n",
      " 5   Gender           9091 non-null   object \n",
      " 6   Age              9091 non-null   int64  \n",
      " 7   Tenure           9091 non-null   float64\n",
      " 8   Balance          9091 non-null   float64\n",
      " 9   NumOfProducts    9091 non-null   int64  \n",
      " 10  HasCrCard        9091 non-null   int64  \n",
      " 11  IsActiveMember   9091 non-null   int64  \n",
      " 12  EstimatedSalary  9091 non-null   float64\n",
      " 13  Exited           9091 non-null   int64  \n",
      "dtypes: float64(3), int64(8), object(3)\n",
      "memory usage: 1.0+ MB\n"
     ]
    }
   ],
   "source": [
    "data = data.dropna()\n",
    "data.info()"
   ]
  },
  {
   "cell_type": "markdown",
   "metadata": {},
   "source": [
    "<div class=\"alert alert-secondary\" role=\"alert\">\n",
    "<b>Заметка:</b>\n",
    "<br> пропуски столбца 'Tenure' составляют 10 %, считаю, что их можно удалить\n",
    "</div>\n"
   ]
  },
  {
   "cell_type": "code",
   "execution_count": 13,
   "metadata": {},
   "outputs": [
    {
     "data": {
      "text/plain": [
       "count      9091.000000\n",
       "mean      76522.740015\n",
       "std       62329.528576\n",
       "min           0.000000\n",
       "25%           0.000000\n",
       "50%       97318.250000\n",
       "75%      127561.890000\n",
       "max      250898.090000\n",
       "Name: Balance, dtype: float64"
      ]
     },
     "execution_count": 13,
     "metadata": {},
     "output_type": "execute_result"
    }
   ],
   "source": [
    "data['Balance'].describe()"
   ]
  },
  {
   "cell_type": "markdown",
   "metadata": {},
   "source": [
    "<div class=\"alert alert-secondary\" role=\"alert\">\n",
    "<b>Заметка:</b>\n",
    "<br> аномальных значений (например, отрицательных) не наблюдается. Пустые счета вполне могут быть :(\n",
    "</div>\n"
   ]
  },
  {
   "cell_type": "code",
   "execution_count": 14,
   "metadata": {},
   "outputs": [
    {
     "data": {
      "text/plain": [
       "count    9091.000000\n",
       "mean        1.530195\n",
       "std         0.581003\n",
       "min         1.000000\n",
       "25%         1.000000\n",
       "50%         1.000000\n",
       "75%         2.000000\n",
       "max         4.000000\n",
       "Name: NumOfProducts, dtype: float64"
      ]
     },
     "execution_count": 14,
     "metadata": {},
     "output_type": "execute_result"
    }
   ],
   "source": [
    "data['NumOfProducts'].describe()"
   ]
  },
  {
   "cell_type": "markdown",
   "metadata": {},
   "source": [
    "<div class=\"alert alert-secondary\" role=\"alert\">\n",
    "<b>Заметка:</b>\n",
    "<br> аномальных значений не наблюдается. У клиентов, в основном 1 - 2 продукта банка. Максимум - 4\n",
    "</div>\n"
   ]
  },
  {
   "cell_type": "code",
   "execution_count": 15,
   "metadata": {},
   "outputs": [
    {
     "data": {
      "text/plain": [
       "count      9091.000000\n",
       "mean     100181.214924\n",
       "std       57624.755647\n",
       "min          11.580000\n",
       "25%       51227.745000\n",
       "50%      100240.200000\n",
       "75%      149567.210000\n",
       "max      199992.480000\n",
       "Name: EstimatedSalary, dtype: float64"
      ]
     },
     "execution_count": 15,
     "metadata": {},
     "output_type": "execute_result"
    }
   ],
   "source": [
    "data['EstimatedSalary'].describe()"
   ]
  },
  {
   "cell_type": "markdown",
   "metadata": {},
   "source": [
    "<div class=\"alert alert-secondary\" role=\"alert\">\n",
    "<b>Заметка:</b>\n",
    "<br> в столбце 'EstimatedSalary' есть минимальное значение -  11.58, что выглядит аномально. Возможно, ошиблись в порядке, когда вносили данные в базу. Трогать не буду\n",
    "</div>\n"
   ]
  },
  {
   "cell_type": "markdown",
   "metadata": {},
   "source": [
    "### Разделение признаков и целевого признака"
   ]
  },
  {
   "cell_type": "code",
   "execution_count": 16,
   "metadata": {},
   "outputs": [
    {
     "data": {
      "text/html": [
       "<div>\n",
       "<style scoped>\n",
       "    .dataframe tbody tr th:only-of-type {\n",
       "        vertical-align: middle;\n",
       "    }\n",
       "\n",
       "    .dataframe tbody tr th {\n",
       "        vertical-align: top;\n",
       "    }\n",
       "\n",
       "    .dataframe thead th {\n",
       "        text-align: right;\n",
       "    }\n",
       "</style>\n",
       "<table border=\"1\" class=\"dataframe\">\n",
       "  <thead>\n",
       "    <tr style=\"text-align: right;\">\n",
       "      <th></th>\n",
       "      <th>CreditScore</th>\n",
       "      <th>Geography</th>\n",
       "      <th>Gender</th>\n",
       "      <th>Age</th>\n",
       "      <th>Tenure</th>\n",
       "      <th>Balance</th>\n",
       "      <th>NumOfProducts</th>\n",
       "      <th>HasCrCard</th>\n",
       "      <th>IsActiveMember</th>\n",
       "      <th>EstimatedSalary</th>\n",
       "    </tr>\n",
       "  </thead>\n",
       "  <tbody>\n",
       "    <tr>\n",
       "      <th>0</th>\n",
       "      <td>619</td>\n",
       "      <td>France</td>\n",
       "      <td>Female</td>\n",
       "      <td>42</td>\n",
       "      <td>2.0</td>\n",
       "      <td>0.00</td>\n",
       "      <td>1</td>\n",
       "      <td>1</td>\n",
       "      <td>1</td>\n",
       "      <td>101348.88</td>\n",
       "    </tr>\n",
       "    <tr>\n",
       "      <th>1</th>\n",
       "      <td>608</td>\n",
       "      <td>Spain</td>\n",
       "      <td>Female</td>\n",
       "      <td>41</td>\n",
       "      <td>1.0</td>\n",
       "      <td>83807.86</td>\n",
       "      <td>1</td>\n",
       "      <td>0</td>\n",
       "      <td>1</td>\n",
       "      <td>112542.58</td>\n",
       "    </tr>\n",
       "    <tr>\n",
       "      <th>2</th>\n",
       "      <td>502</td>\n",
       "      <td>France</td>\n",
       "      <td>Female</td>\n",
       "      <td>42</td>\n",
       "      <td>8.0</td>\n",
       "      <td>159660.80</td>\n",
       "      <td>3</td>\n",
       "      <td>1</td>\n",
       "      <td>0</td>\n",
       "      <td>113931.57</td>\n",
       "    </tr>\n",
       "    <tr>\n",
       "      <th>3</th>\n",
       "      <td>699</td>\n",
       "      <td>France</td>\n",
       "      <td>Female</td>\n",
       "      <td>39</td>\n",
       "      <td>1.0</td>\n",
       "      <td>0.00</td>\n",
       "      <td>2</td>\n",
       "      <td>0</td>\n",
       "      <td>0</td>\n",
       "      <td>93826.63</td>\n",
       "    </tr>\n",
       "    <tr>\n",
       "      <th>4</th>\n",
       "      <td>850</td>\n",
       "      <td>Spain</td>\n",
       "      <td>Female</td>\n",
       "      <td>43</td>\n",
       "      <td>2.0</td>\n",
       "      <td>125510.82</td>\n",
       "      <td>1</td>\n",
       "      <td>1</td>\n",
       "      <td>1</td>\n",
       "      <td>79084.10</td>\n",
       "    </tr>\n",
       "  </tbody>\n",
       "</table>\n",
       "</div>"
      ],
      "text/plain": [
       "   CreditScore Geography  Gender  Age  Tenure    Balance  NumOfProducts  \\\n",
       "0          619    France  Female   42     2.0       0.00              1   \n",
       "1          608     Spain  Female   41     1.0   83807.86              1   \n",
       "2          502    France  Female   42     8.0  159660.80              3   \n",
       "3          699    France  Female   39     1.0       0.00              2   \n",
       "4          850     Spain  Female   43     2.0  125510.82              1   \n",
       "\n",
       "   HasCrCard  IsActiveMember  EstimatedSalary  \n",
       "0          1               1        101348.88  \n",
       "1          0               1        112542.58  \n",
       "2          1               0        113931.57  \n",
       "3          0               0         93826.63  \n",
       "4          1               1         79084.10  "
      ]
     },
     "metadata": {},
     "output_type": "display_data"
    },
    {
     "name": "stdout",
     "output_type": "stream",
     "text": [
      "\n"
     ]
    },
    {
     "data": {
      "text/plain": [
       "0    1\n",
       "1    0\n",
       "2    1\n",
       "3    0\n",
       "4    0\n",
       "Name: Exited, dtype: int64"
      ]
     },
     "execution_count": 16,
     "metadata": {},
     "output_type": "execute_result"
    }
   ],
   "source": [
    "features = data.drop(['RowNumber','CustomerId','Surname','Exited'], axis=1)\n",
    "target = data['Exited']\n",
    "\n",
    "display(features.head())\n",
    "print()\n",
    "target.head()"
   ]
  },
  {
   "cell_type": "markdown",
   "metadata": {},
   "source": [
    "<div class=\"alert alert-secondary\" role=\"alert\">\n",
    "<b>Заметка:</b>\n",
    "<br> данные разделены на признаки (столбцы за исключением тех, которые не влияют факт ухода клиента) и целевой признак - 'Exited'\n",
    "    \n",
    "</div>"
   ]
  },
  {
   "cell_type": "markdown",
   "metadata": {},
   "source": [
    "### Прямое кодирование (OHE)"
   ]
  },
  {
   "cell_type": "code",
   "execution_count": 17,
   "metadata": {
    "scrolled": true
   },
   "outputs": [
    {
     "data": {
      "text/html": [
       "<div>\n",
       "<style scoped>\n",
       "    .dataframe tbody tr th:only-of-type {\n",
       "        vertical-align: middle;\n",
       "    }\n",
       "\n",
       "    .dataframe tbody tr th {\n",
       "        vertical-align: top;\n",
       "    }\n",
       "\n",
       "    .dataframe thead th {\n",
       "        text-align: right;\n",
       "    }\n",
       "</style>\n",
       "<table border=\"1\" class=\"dataframe\">\n",
       "  <thead>\n",
       "    <tr style=\"text-align: right;\">\n",
       "      <th></th>\n",
       "      <th>CreditScore</th>\n",
       "      <th>Age</th>\n",
       "      <th>Tenure</th>\n",
       "      <th>Balance</th>\n",
       "      <th>NumOfProducts</th>\n",
       "      <th>HasCrCard</th>\n",
       "      <th>IsActiveMember</th>\n",
       "      <th>EstimatedSalary</th>\n",
       "      <th>Geography_Germany</th>\n",
       "      <th>Geography_Spain</th>\n",
       "      <th>Gender_Male</th>\n",
       "    </tr>\n",
       "  </thead>\n",
       "  <tbody>\n",
       "    <tr>\n",
       "      <th>0</th>\n",
       "      <td>619</td>\n",
       "      <td>42</td>\n",
       "      <td>2.0</td>\n",
       "      <td>0.00</td>\n",
       "      <td>1</td>\n",
       "      <td>1</td>\n",
       "      <td>1</td>\n",
       "      <td>101348.88</td>\n",
       "      <td>False</td>\n",
       "      <td>False</td>\n",
       "      <td>False</td>\n",
       "    </tr>\n",
       "    <tr>\n",
       "      <th>1</th>\n",
       "      <td>608</td>\n",
       "      <td>41</td>\n",
       "      <td>1.0</td>\n",
       "      <td>83807.86</td>\n",
       "      <td>1</td>\n",
       "      <td>0</td>\n",
       "      <td>1</td>\n",
       "      <td>112542.58</td>\n",
       "      <td>False</td>\n",
       "      <td>True</td>\n",
       "      <td>False</td>\n",
       "    </tr>\n",
       "    <tr>\n",
       "      <th>2</th>\n",
       "      <td>502</td>\n",
       "      <td>42</td>\n",
       "      <td>8.0</td>\n",
       "      <td>159660.80</td>\n",
       "      <td>3</td>\n",
       "      <td>1</td>\n",
       "      <td>0</td>\n",
       "      <td>113931.57</td>\n",
       "      <td>False</td>\n",
       "      <td>False</td>\n",
       "      <td>False</td>\n",
       "    </tr>\n",
       "    <tr>\n",
       "      <th>3</th>\n",
       "      <td>699</td>\n",
       "      <td>39</td>\n",
       "      <td>1.0</td>\n",
       "      <td>0.00</td>\n",
       "      <td>2</td>\n",
       "      <td>0</td>\n",
       "      <td>0</td>\n",
       "      <td>93826.63</td>\n",
       "      <td>False</td>\n",
       "      <td>False</td>\n",
       "      <td>False</td>\n",
       "    </tr>\n",
       "    <tr>\n",
       "      <th>4</th>\n",
       "      <td>850</td>\n",
       "      <td>43</td>\n",
       "      <td>2.0</td>\n",
       "      <td>125510.82</td>\n",
       "      <td>1</td>\n",
       "      <td>1</td>\n",
       "      <td>1</td>\n",
       "      <td>79084.10</td>\n",
       "      <td>False</td>\n",
       "      <td>True</td>\n",
       "      <td>False</td>\n",
       "    </tr>\n",
       "  </tbody>\n",
       "</table>\n",
       "</div>"
      ],
      "text/plain": [
       "   CreditScore  Age  Tenure    Balance  NumOfProducts  HasCrCard  \\\n",
       "0          619   42     2.0       0.00              1          1   \n",
       "1          608   41     1.0   83807.86              1          0   \n",
       "2          502   42     8.0  159660.80              3          1   \n",
       "3          699   39     1.0       0.00              2          0   \n",
       "4          850   43     2.0  125510.82              1          1   \n",
       "\n",
       "   IsActiveMember  EstimatedSalary  Geography_Germany  Geography_Spain  \\\n",
       "0               1        101348.88              False            False   \n",
       "1               1        112542.58              False             True   \n",
       "2               0        113931.57              False            False   \n",
       "3               0         93826.63              False            False   \n",
       "4               1         79084.10              False             True   \n",
       "\n",
       "   Gender_Male  \n",
       "0        False  \n",
       "1        False  \n",
       "2        False  \n",
       "3        False  \n",
       "4        False  "
      ]
     },
     "execution_count": 17,
     "metadata": {},
     "output_type": "execute_result"
    }
   ],
   "source": [
    "features = pd.get_dummies(features, drop_first=True)\n",
    "features.head()"
   ]
  },
  {
   "cell_type": "markdown",
   "metadata": {},
   "source": [
    "<div class=\"alert alert-secondary\" role=\"alert\">\n",
    "<b>Заметка:</b>\n",
    "<br> закодированы столбцы 'Geography' и 'Gender' прямым кодированием\n",
    "</div>\n"
   ]
  },
  {
   "cell_type": "markdown",
   "metadata": {},
   "source": [
    "### Разделение выборок"
   ]
  },
  {
   "cell_type": "code",
   "execution_count": 18,
   "metadata": {},
   "outputs": [],
   "source": [
    "features_train, features_val_and_test, target_train, target_val_and_test = \\\n",
    "train_test_split(features, target, test_size=0.4, random_state=777)\n",
    "\n",
    "features_val, features_test, target_val, target_test = \\\n",
    "train_test_split(features_val_and_test, target_val_and_test, test_size=0.5, random_state=777)"
   ]
  },
  {
   "cell_type": "code",
   "execution_count": 19,
   "metadata": {},
   "outputs": [
    {
     "data": {
      "text/html": [
       "<div>\n",
       "<style scoped>\n",
       "    .dataframe tbody tr th:only-of-type {\n",
       "        vertical-align: middle;\n",
       "    }\n",
       "\n",
       "    .dataframe tbody tr th {\n",
       "        vertical-align: top;\n",
       "    }\n",
       "\n",
       "    .dataframe thead th {\n",
       "        text-align: right;\n",
       "    }\n",
       "</style>\n",
       "<table border=\"1\" class=\"dataframe\">\n",
       "  <thead>\n",
       "    <tr style=\"text-align: right;\">\n",
       "      <th></th>\n",
       "      <th>CreditScore</th>\n",
       "      <th>Age</th>\n",
       "      <th>Tenure</th>\n",
       "      <th>Balance</th>\n",
       "      <th>NumOfProducts</th>\n",
       "      <th>HasCrCard</th>\n",
       "      <th>IsActiveMember</th>\n",
       "      <th>EstimatedSalary</th>\n",
       "      <th>Geography_Germany</th>\n",
       "      <th>Geography_Spain</th>\n",
       "      <th>Gender_Male</th>\n",
       "    </tr>\n",
       "  </thead>\n",
       "  <tbody>\n",
       "    <tr>\n",
       "      <th>8284</th>\n",
       "      <td>711</td>\n",
       "      <td>39</td>\n",
       "      <td>3.0</td>\n",
       "      <td>152462.79</td>\n",
       "      <td>1</td>\n",
       "      <td>1</td>\n",
       "      <td>0</td>\n",
       "      <td>90305.97</td>\n",
       "      <td>False</td>\n",
       "      <td>False</td>\n",
       "      <td>False</td>\n",
       "    </tr>\n",
       "    <tr>\n",
       "      <th>4133</th>\n",
       "      <td>704</td>\n",
       "      <td>33</td>\n",
       "      <td>3.0</td>\n",
       "      <td>0.00</td>\n",
       "      <td>2</td>\n",
       "      <td>1</td>\n",
       "      <td>0</td>\n",
       "      <td>73018.74</td>\n",
       "      <td>False</td>\n",
       "      <td>True</td>\n",
       "      <td>True</td>\n",
       "    </tr>\n",
       "    <tr>\n",
       "      <th>5205</th>\n",
       "      <td>756</td>\n",
       "      <td>28</td>\n",
       "      <td>8.0</td>\n",
       "      <td>179960.20</td>\n",
       "      <td>1</td>\n",
       "      <td>1</td>\n",
       "      <td>0</td>\n",
       "      <td>89938.08</td>\n",
       "      <td>False</td>\n",
       "      <td>False</td>\n",
       "      <td>True</td>\n",
       "    </tr>\n",
       "    <tr>\n",
       "      <th>6916</th>\n",
       "      <td>654</td>\n",
       "      <td>24</td>\n",
       "      <td>8.0</td>\n",
       "      <td>145081.73</td>\n",
       "      <td>1</td>\n",
       "      <td>1</td>\n",
       "      <td>1</td>\n",
       "      <td>130075.07</td>\n",
       "      <td>False</td>\n",
       "      <td>False</td>\n",
       "      <td>False</td>\n",
       "    </tr>\n",
       "    <tr>\n",
       "      <th>5615</th>\n",
       "      <td>520</td>\n",
       "      <td>29</td>\n",
       "      <td>8.0</td>\n",
       "      <td>95947.76</td>\n",
       "      <td>1</td>\n",
       "      <td>1</td>\n",
       "      <td>0</td>\n",
       "      <td>4696.44</td>\n",
       "      <td>False</td>\n",
       "      <td>False</td>\n",
       "      <td>False</td>\n",
       "    </tr>\n",
       "  </tbody>\n",
       "</table>\n",
       "</div>"
      ],
      "text/plain": [
       "      CreditScore  Age  Tenure    Balance  NumOfProducts  HasCrCard  \\\n",
       "8284          711   39     3.0  152462.79              1          1   \n",
       "4133          704   33     3.0       0.00              2          1   \n",
       "5205          756   28     8.0  179960.20              1          1   \n",
       "6916          654   24     8.0  145081.73              1          1   \n",
       "5615          520   29     8.0   95947.76              1          1   \n",
       "\n",
       "      IsActiveMember  EstimatedSalary  Geography_Germany  Geography_Spain  \\\n",
       "8284               0         90305.97              False            False   \n",
       "4133               0         73018.74              False             True   \n",
       "5205               0         89938.08              False            False   \n",
       "6916               1        130075.07              False            False   \n",
       "5615               0          4696.44              False            False   \n",
       "\n",
       "      Gender_Male  \n",
       "8284        False  \n",
       "4133         True  \n",
       "5205         True  \n",
       "6916        False  \n",
       "5615        False  "
      ]
     },
     "metadata": {},
     "output_type": "display_data"
    },
    {
     "name": "stdout",
     "output_type": "stream",
     "text": [
      "\n",
      "<class 'pandas.core.frame.DataFrame'>\n",
      "Index: 5454 entries, 8284 to 3290\n",
      "Data columns (total 11 columns):\n",
      " #   Column             Non-Null Count  Dtype  \n",
      "---  ------             --------------  -----  \n",
      " 0   CreditScore        5454 non-null   int64  \n",
      " 1   Age                5454 non-null   int64  \n",
      " 2   Tenure             5454 non-null   float64\n",
      " 3   Balance            5454 non-null   float64\n",
      " 4   NumOfProducts      5454 non-null   int64  \n",
      " 5   HasCrCard          5454 non-null   int64  \n",
      " 6   IsActiveMember     5454 non-null   int64  \n",
      " 7   EstimatedSalary    5454 non-null   float64\n",
      " 8   Geography_Germany  5454 non-null   bool   \n",
      " 9   Geography_Spain    5454 non-null   bool   \n",
      " 10  Gender_Male        5454 non-null   bool   \n",
      "dtypes: bool(3), float64(3), int64(5)\n",
      "memory usage: 399.5 KB\n"
     ]
    },
    {
     "data": {
      "text/plain": [
       "None"
      ]
     },
     "metadata": {},
     "output_type": "display_data"
    }
   ],
   "source": [
    "display(features_train.head())\n",
    "print()\n",
    "display(features_train.info())"
   ]
  },
  {
   "cell_type": "code",
   "execution_count": 20,
   "metadata": {},
   "outputs": [
    {
     "data": {
      "text/html": [
       "<div>\n",
       "<style scoped>\n",
       "    .dataframe tbody tr th:only-of-type {\n",
       "        vertical-align: middle;\n",
       "    }\n",
       "\n",
       "    .dataframe tbody tr th {\n",
       "        vertical-align: top;\n",
       "    }\n",
       "\n",
       "    .dataframe thead th {\n",
       "        text-align: right;\n",
       "    }\n",
       "</style>\n",
       "<table border=\"1\" class=\"dataframe\">\n",
       "  <thead>\n",
       "    <tr style=\"text-align: right;\">\n",
       "      <th></th>\n",
       "      <th>CreditScore</th>\n",
       "      <th>Age</th>\n",
       "      <th>Tenure</th>\n",
       "      <th>Balance</th>\n",
       "      <th>NumOfProducts</th>\n",
       "      <th>HasCrCard</th>\n",
       "      <th>IsActiveMember</th>\n",
       "      <th>EstimatedSalary</th>\n",
       "      <th>Geography_Germany</th>\n",
       "      <th>Geography_Spain</th>\n",
       "      <th>Gender_Male</th>\n",
       "    </tr>\n",
       "  </thead>\n",
       "  <tbody>\n",
       "    <tr>\n",
       "      <th>7449</th>\n",
       "      <td>698</td>\n",
       "      <td>37</td>\n",
       "      <td>2.0</td>\n",
       "      <td>166178.02</td>\n",
       "      <td>2</td>\n",
       "      <td>1</td>\n",
       "      <td>1</td>\n",
       "      <td>71972.95</td>\n",
       "      <td>False</td>\n",
       "      <td>False</td>\n",
       "      <td>False</td>\n",
       "    </tr>\n",
       "    <tr>\n",
       "      <th>3338</th>\n",
       "      <td>688</td>\n",
       "      <td>24</td>\n",
       "      <td>3.0</td>\n",
       "      <td>0.00</td>\n",
       "      <td>2</td>\n",
       "      <td>1</td>\n",
       "      <td>1</td>\n",
       "      <td>102195.16</td>\n",
       "      <td>False</td>\n",
       "      <td>True</td>\n",
       "      <td>False</td>\n",
       "    </tr>\n",
       "    <tr>\n",
       "      <th>1133</th>\n",
       "      <td>559</td>\n",
       "      <td>34</td>\n",
       "      <td>4.0</td>\n",
       "      <td>0.00</td>\n",
       "      <td>2</td>\n",
       "      <td>1</td>\n",
       "      <td>1</td>\n",
       "      <td>66721.98</td>\n",
       "      <td>False</td>\n",
       "      <td>False</td>\n",
       "      <td>True</td>\n",
       "    </tr>\n",
       "    <tr>\n",
       "      <th>5288</th>\n",
       "      <td>582</td>\n",
       "      <td>30</td>\n",
       "      <td>2.0</td>\n",
       "      <td>0.00</td>\n",
       "      <td>2</td>\n",
       "      <td>1</td>\n",
       "      <td>1</td>\n",
       "      <td>132029.95</td>\n",
       "      <td>False</td>\n",
       "      <td>False</td>\n",
       "      <td>True</td>\n",
       "    </tr>\n",
       "    <tr>\n",
       "      <th>65</th>\n",
       "      <td>751</td>\n",
       "      <td>36</td>\n",
       "      <td>6.0</td>\n",
       "      <td>169831.46</td>\n",
       "      <td>2</td>\n",
       "      <td>1</td>\n",
       "      <td>1</td>\n",
       "      <td>27758.36</td>\n",
       "      <td>True</td>\n",
       "      <td>False</td>\n",
       "      <td>False</td>\n",
       "    </tr>\n",
       "  </tbody>\n",
       "</table>\n",
       "</div>"
      ],
      "text/plain": [
       "      CreditScore  Age  Tenure    Balance  NumOfProducts  HasCrCard  \\\n",
       "7449          698   37     2.0  166178.02              2          1   \n",
       "3338          688   24     3.0       0.00              2          1   \n",
       "1133          559   34     4.0       0.00              2          1   \n",
       "5288          582   30     2.0       0.00              2          1   \n",
       "65            751   36     6.0  169831.46              2          1   \n",
       "\n",
       "      IsActiveMember  EstimatedSalary  Geography_Germany  Geography_Spain  \\\n",
       "7449               1         71972.95              False            False   \n",
       "3338               1        102195.16              False             True   \n",
       "1133               1         66721.98              False            False   \n",
       "5288               1        132029.95              False            False   \n",
       "65                 1         27758.36               True            False   \n",
       "\n",
       "      Gender_Male  \n",
       "7449        False  \n",
       "3338        False  \n",
       "1133         True  \n",
       "5288         True  \n",
       "65          False  "
      ]
     },
     "metadata": {},
     "output_type": "display_data"
    },
    {
     "name": "stdout",
     "output_type": "stream",
     "text": [
      "\n",
      "<class 'pandas.core.frame.DataFrame'>\n",
      "Index: 1818 entries, 7449 to 878\n",
      "Data columns (total 11 columns):\n",
      " #   Column             Non-Null Count  Dtype  \n",
      "---  ------             --------------  -----  \n",
      " 0   CreditScore        1818 non-null   int64  \n",
      " 1   Age                1818 non-null   int64  \n",
      " 2   Tenure             1818 non-null   float64\n",
      " 3   Balance            1818 non-null   float64\n",
      " 4   NumOfProducts      1818 non-null   int64  \n",
      " 5   HasCrCard          1818 non-null   int64  \n",
      " 6   IsActiveMember     1818 non-null   int64  \n",
      " 7   EstimatedSalary    1818 non-null   float64\n",
      " 8   Geography_Germany  1818 non-null   bool   \n",
      " 9   Geography_Spain    1818 non-null   bool   \n",
      " 10  Gender_Male        1818 non-null   bool   \n",
      "dtypes: bool(3), float64(3), int64(5)\n",
      "memory usage: 133.2 KB\n"
     ]
    },
    {
     "data": {
      "text/plain": [
       "None"
      ]
     },
     "metadata": {},
     "output_type": "display_data"
    }
   ],
   "source": [
    "display(features_val.head())\n",
    "print()\n",
    "display(features_val.info())"
   ]
  },
  {
   "cell_type": "code",
   "execution_count": 21,
   "metadata": {},
   "outputs": [
    {
     "data": {
      "text/html": [
       "<div>\n",
       "<style scoped>\n",
       "    .dataframe tbody tr th:only-of-type {\n",
       "        vertical-align: middle;\n",
       "    }\n",
       "\n",
       "    .dataframe tbody tr th {\n",
       "        vertical-align: top;\n",
       "    }\n",
       "\n",
       "    .dataframe thead th {\n",
       "        text-align: right;\n",
       "    }\n",
       "</style>\n",
       "<table border=\"1\" class=\"dataframe\">\n",
       "  <thead>\n",
       "    <tr style=\"text-align: right;\">\n",
       "      <th></th>\n",
       "      <th>CreditScore</th>\n",
       "      <th>Age</th>\n",
       "      <th>Tenure</th>\n",
       "      <th>Balance</th>\n",
       "      <th>NumOfProducts</th>\n",
       "      <th>HasCrCard</th>\n",
       "      <th>IsActiveMember</th>\n",
       "      <th>EstimatedSalary</th>\n",
       "      <th>Geography_Germany</th>\n",
       "      <th>Geography_Spain</th>\n",
       "      <th>Gender_Male</th>\n",
       "    </tr>\n",
       "  </thead>\n",
       "  <tbody>\n",
       "    <tr>\n",
       "      <th>7449</th>\n",
       "      <td>698</td>\n",
       "      <td>37</td>\n",
       "      <td>2.0</td>\n",
       "      <td>166178.02</td>\n",
       "      <td>2</td>\n",
       "      <td>1</td>\n",
       "      <td>1</td>\n",
       "      <td>71972.95</td>\n",
       "      <td>False</td>\n",
       "      <td>False</td>\n",
       "      <td>False</td>\n",
       "    </tr>\n",
       "    <tr>\n",
       "      <th>3338</th>\n",
       "      <td>688</td>\n",
       "      <td>24</td>\n",
       "      <td>3.0</td>\n",
       "      <td>0.00</td>\n",
       "      <td>2</td>\n",
       "      <td>1</td>\n",
       "      <td>1</td>\n",
       "      <td>102195.16</td>\n",
       "      <td>False</td>\n",
       "      <td>True</td>\n",
       "      <td>False</td>\n",
       "    </tr>\n",
       "    <tr>\n",
       "      <th>1133</th>\n",
       "      <td>559</td>\n",
       "      <td>34</td>\n",
       "      <td>4.0</td>\n",
       "      <td>0.00</td>\n",
       "      <td>2</td>\n",
       "      <td>1</td>\n",
       "      <td>1</td>\n",
       "      <td>66721.98</td>\n",
       "      <td>False</td>\n",
       "      <td>False</td>\n",
       "      <td>True</td>\n",
       "    </tr>\n",
       "    <tr>\n",
       "      <th>5288</th>\n",
       "      <td>582</td>\n",
       "      <td>30</td>\n",
       "      <td>2.0</td>\n",
       "      <td>0.00</td>\n",
       "      <td>2</td>\n",
       "      <td>1</td>\n",
       "      <td>1</td>\n",
       "      <td>132029.95</td>\n",
       "      <td>False</td>\n",
       "      <td>False</td>\n",
       "      <td>True</td>\n",
       "    </tr>\n",
       "    <tr>\n",
       "      <th>65</th>\n",
       "      <td>751</td>\n",
       "      <td>36</td>\n",
       "      <td>6.0</td>\n",
       "      <td>169831.46</td>\n",
       "      <td>2</td>\n",
       "      <td>1</td>\n",
       "      <td>1</td>\n",
       "      <td>27758.36</td>\n",
       "      <td>True</td>\n",
       "      <td>False</td>\n",
       "      <td>False</td>\n",
       "    </tr>\n",
       "  </tbody>\n",
       "</table>\n",
       "</div>"
      ],
      "text/plain": [
       "      CreditScore  Age  Tenure    Balance  NumOfProducts  HasCrCard  \\\n",
       "7449          698   37     2.0  166178.02              2          1   \n",
       "3338          688   24     3.0       0.00              2          1   \n",
       "1133          559   34     4.0       0.00              2          1   \n",
       "5288          582   30     2.0       0.00              2          1   \n",
       "65            751   36     6.0  169831.46              2          1   \n",
       "\n",
       "      IsActiveMember  EstimatedSalary  Geography_Germany  Geography_Spain  \\\n",
       "7449               1         71972.95              False            False   \n",
       "3338               1        102195.16              False             True   \n",
       "1133               1         66721.98              False            False   \n",
       "5288               1        132029.95              False            False   \n",
       "65                 1         27758.36               True            False   \n",
       "\n",
       "      Gender_Male  \n",
       "7449        False  \n",
       "3338        False  \n",
       "1133         True  \n",
       "5288         True  \n",
       "65          False  "
      ]
     },
     "metadata": {},
     "output_type": "display_data"
    },
    {
     "name": "stdout",
     "output_type": "stream",
     "text": [
      "\n",
      "<class 'pandas.core.frame.DataFrame'>\n",
      "Index: 1819 entries, 8079 to 2287\n",
      "Data columns (total 11 columns):\n",
      " #   Column             Non-Null Count  Dtype  \n",
      "---  ------             --------------  -----  \n",
      " 0   CreditScore        1819 non-null   int64  \n",
      " 1   Age                1819 non-null   int64  \n",
      " 2   Tenure             1819 non-null   float64\n",
      " 3   Balance            1819 non-null   float64\n",
      " 4   NumOfProducts      1819 non-null   int64  \n",
      " 5   HasCrCard          1819 non-null   int64  \n",
      " 6   IsActiveMember     1819 non-null   int64  \n",
      " 7   EstimatedSalary    1819 non-null   float64\n",
      " 8   Geography_Germany  1819 non-null   bool   \n",
      " 9   Geography_Spain    1819 non-null   bool   \n",
      " 10  Gender_Male        1819 non-null   bool   \n",
      "dtypes: bool(3), float64(3), int64(5)\n",
      "memory usage: 133.2 KB\n"
     ]
    },
    {
     "data": {
      "text/plain": [
       "None"
      ]
     },
     "metadata": {},
     "output_type": "display_data"
    }
   ],
   "source": [
    "display(features_val.head())\n",
    "print()\n",
    "display(features_test.info())"
   ]
  },
  {
   "cell_type": "markdown",
   "metadata": {},
   "source": [
    "<div class=\"alert alert-secondary\" role=\"alert\">\n",
    "<b>Заметка:</b>\n",
    "<br> получены три новых датафрейма (тренировочный, валидационный и тестовый) в соотношении 6:2:2. Датафреймы пропусков не содержат, имеют по 11 колонок, 5454 строк в тренировочном датафрейме, 1818 - в валидационном и 1819 - в тестовом\n",
    "    \n",
    "</div>"
   ]
  },
  {
   "cell_type": "markdown",
   "metadata": {},
   "source": [
    "## Исследование задачи"
   ]
  },
  {
   "cell_type": "markdown",
   "metadata": {},
   "source": [
    "### Исследование баланса классов"
   ]
  },
  {
   "cell_type": "code",
   "execution_count": 22,
   "metadata": {},
   "outputs": [
    {
     "name": "stdout",
     "output_type": "stream",
     "text": [
      "Количество значений положительного класса: 1854\n",
      "\n",
      "Количество значений отрицательного класса: 7237\n"
     ]
    }
   ],
   "source": [
    "print(f'Количество значений положительного класса: {(target == 1).sum()}')\n",
    "print()\n",
    "print(f'Количество значений отрицательного класса: {(target == 0).sum()}')"
   ]
  },
  {
   "cell_type": "markdown",
   "metadata": {},
   "source": [
    "<div class=\"alert alert-secondary\" role=\"alert\">\n",
    "<b>Заметка:</b>\n",
    "<br> классы не сбалансированы. Их соотношение составляет примерно 2:8\n",
    "</div>\n"
   ]
  },
  {
   "cell_type": "markdown",
   "metadata": {},
   "source": [
    "### Исследование моделей без учёта дисбаланса"
   ]
  },
  {
   "cell_type": "markdown",
   "metadata": {},
   "source": [
    "#### Решающее дерево"
   ]
  },
  {
   "cell_type": "code",
   "execution_count": 23,
   "metadata": {},
   "outputs": [
    {
     "name": "stdout",
     "output_type": "stream",
     "text": [
      "Максимальная глубина - 1, f1 = 0.0\n",
      "Максимальная глубина - 2, f1 = 0.53125\n",
      "Максимальная глубина - 3, f1 = 0.416988416988417\n",
      "Максимальная глубина - 4, f1 = 0.5385878489326765\n",
      "Максимальная глубина - 5, f1 = 0.5300000000000001\n",
      "Максимальная глубина - 6, f1 = 0.5548172757475084\n",
      "Максимальная глубина - 7, f1 = 0.5580645161290322\n",
      "Максимальная глубина - 8, f1 = 0.556067588325653\n",
      "Максимальная глубина - 9, f1 = 0.5258358662613981\n",
      "Максимальная глубина - 10, f1 = 0.530791788856305\n",
      "Максимальная глубина - 11, f1 = 0.5221238938053098\n",
      "Максимальная глубина - 12, f1 = 0.5254237288135593\n",
      "Максимальная глубина - 13, f1 = 0.5232067510548523\n",
      "Максимальная глубина - 14, f1 = 0.5244565217391304\n",
      "Максимальная глубина - 15, f1 = 0.5006729475100942\n",
      "Максимальная глубина - 16, f1 = 0.5013054830287206\n",
      "Максимальная глубина - 17, f1 = 0.5064935064935066\n",
      "Максимальная глубина - 18, f1 = 0.49095607235142114\n",
      "Максимальная глубина - 19, f1 = 0.48774193548387096\n",
      "\n",
      "Лучший результат f1 = 0.5580645161290322 при глубине дерева - 7\n",
      "\n",
      "Значение метрики AUC-ROC: 0.8191938216422752\n"
     ]
    }
   ],
   "source": [
    "best_depth = 0\n",
    "best_result_f1_tree = 0\n",
    "\n",
    "\n",
    "for depth in range(1, 20):\n",
    "    model = DecisionTreeClassifier(max_depth=depth, random_state=777)\n",
    "    model.fit(features_train, target_train)\n",
    "    pred_val = model.predict(features_val)\n",
    "    result_f1 = f1_score(target_val, pred_val)\n",
    "    print(f'Максимальная глубина - {depth}, f1 = {result_f1}')\n",
    "    if best_result_f1_tree < result_f1:\n",
    "        best_result_f1_tree = result_f1\n",
    "        best_depth = depth\n",
    "        \n",
    "        probabilities_val = model.predict_proba(features_val)\n",
    "        probabilities_one_val = probabilities_val[:, 1]\n",
    "        \n",
    "        auc_roc_tree = roc_auc_score(target_val, probabilities_one_val)\n",
    "print()      \n",
    "print(f'Лучший результат f1 = {best_result_f1_tree} при глубине дерева - {best_depth}')\n",
    "print()\n",
    "print(f'Значение метрики AUC-ROC: {auc_roc_tree}')"
   ]
  },
  {
   "cell_type": "markdown",
   "metadata": {},
   "source": [
    "<div class=\"alert alert-secondary\" role=\"alert\">\n",
    "<b>Заметка:</b>\n",
    "<br> наивысший показатель качества для модели \"решающее дерево\" получен при гиперпараметре max_depth=7 и составляет 0.558, а auc-roc = 0,819\n",
    "</div>"
   ]
  },
  {
   "cell_type": "markdown",
   "metadata": {},
   "source": [
    "#### Случайный лес"
   ]
  },
  {
   "cell_type": "code",
   "execution_count": 24,
   "metadata": {},
   "outputs": [
    {
     "name": "stdout",
     "output_type": "stream",
     "text": [
      "Максимальная глубина - 1, f1 = 0.0\n",
      "Максимальная глубина - 2, f1 = 0.10268948655256724\n",
      "Максимальная глубина - 3, f1 = 0.12560386473429952\n",
      "Максимальная глубина - 4, f1 = 0.2444444444444444\n",
      "Максимальная глубина - 5, f1 = 0.4604051565377532\n",
      "Максимальная глубина - 6, f1 = 0.49733570159857904\n",
      "Максимальная глубина - 7, f1 = 0.5438898450946643\n",
      "Максимальная глубина - 8, f1 = 0.5819397993311036\n",
      "Максимальная глубина - 9, f1 = 0.5574324324324325\n",
      "Максимальная глубина - 10, f1 = 0.584664536741214\n",
      "Максимальная глубина - 11, f1 = 0.5886178861788619\n",
      "Максимальная глубина - 12, f1 = 0.5810593900481541\n",
      "Максимальная глубина - 13, f1 = 0.584664536741214\n",
      "Максимальная глубина - 14, f1 = 0.5782747603833865\n",
      "Максимальная глубина - 15, f1 = 0.5736925515055468\n",
      "Максимальная глубина - 16, f1 = 0.5555555555555556\n",
      "Максимальная глубина - 17, f1 = 0.5214626391096979\n",
      "Максимальная глубина - 18, f1 = 0.540453074433657\n",
      "Максимальная глубина - 19, f1 = 0.5594855305466239\n",
      "Максимальная глубина - 20, f1 = 0.5525040387722132\n",
      "Максимальная глубина - 21, f1 = 0.5617977528089887\n",
      "Максимальная глубина - 22, f1 = 0.5596184419713831\n",
      "Максимальная глубина - 23, f1 = 0.5599999999999999\n",
      "Максимальная глубина - 24, f1 = 0.5786963434022256\n",
      "Максимальная глубина - 25, f1 = 0.5786963434022256\n",
      "Максимальная глубина - 26, f1 = 0.5786963434022256\n",
      "Максимальная глубина - 27, f1 = 0.5786963434022256\n",
      "Максимальная глубина - 28, f1 = 0.5786963434022256\n",
      "Максимальная глубина - 29, f1 = 0.5786963434022256\n",
      "\n",
      "Лучший результат f1 = 0.5886178861788619 при глубине дерева - 11\n",
      "\n",
      "Значение метрики AUC-ROC: 0.8483869223559946\n"
     ]
    }
   ],
   "source": [
    "best_depth_forest = 0\n",
    "best_result_f1_forest = 0\n",
    "\n",
    "for depth in range(1, 30):\n",
    "    model = RandomForestClassifier(n_estimators=10, max_depth=depth, random_state=777)\n",
    "    model.fit(features_train, target_train)\n",
    "    pred_val = model.predict(features_val)\n",
    "    result_f1 = f1_score(target_val, pred_val)\n",
    "    print(f'Максимальная глубина - {depth}, f1 = {result_f1}')\n",
    "    if best_result_f1_forest < result_f1:\n",
    "        best_result_f1_forest = result_f1\n",
    "        best_depth_forest = depth\n",
    "\n",
    "        probabilities_val = model.predict_proba(features_val)\n",
    "        probabilities_one_val = probabilities_val[:, 1]\n",
    "        \n",
    "        auc_roc_forest = roc_auc_score(target_val, probabilities_one_val)\n",
    "        \n",
    "        \n",
    "print()\n",
    "print(f'Лучший результат f1 = {best_result_f1_forest} при глубине дерева - {best_depth_forest}')\n",
    "print()\n",
    "print(f'Значение метрики AUC-ROC: {auc_roc_forest}')"
   ]
  },
  {
   "cell_type": "code",
   "execution_count": 25,
   "metadata": {},
   "outputs": [
    {
     "name": "stdout",
     "output_type": "stream",
     "text": [
      "Количество деревьев - 10, f1 = 0.5886178861788619\n",
      "Количество деревьев - 20, f1 = 0.5857605177993528\n",
      "Количество деревьев - 30, f1 = 0.5825242718446602\n",
      "Количество деревьев - 40, f1 = 0.5886178861788619\n",
      "Количество деревьев - 50, f1 = 0.5960912052117264\n",
      "Количество деревьев - 60, f1 = 0.5888157894736843\n",
      "Количество деревьев - 70, f1 = 0.5830618892508145\n",
      "Количество деревьев - 80, f1 = 0.5918699186991869\n",
      "Количество деревьев - 90, f1 = 0.5931928687196111\n",
      "\n",
      "Лучший результат f1 = 0.5960912052117264 при количестве деревьев - 50\n",
      "\n",
      "Значение метрики AUC-ROC: 0.8616934611779973\n"
     ]
    }
   ],
   "source": [
    "best_est = 0\n",
    "best_result_f1_forest = 0\n",
    "\n",
    "for est in range(10, 100, 10):\n",
    "    model = RandomForestClassifier(n_estimators=est, max_depth=best_depth_forest, random_state=777)\n",
    "    model.fit(features_train, target_train)\n",
    "    pred_val = model.predict(features_val)\n",
    "    result_f1 = f1_score(target_val, pred_val)\n",
    "    print(f'Количество деревьев - {est}, f1 = {result_f1}')\n",
    "    if best_result_f1_forest < result_f1:\n",
    "        best_result_f1_forest = result_f1\n",
    "        best_est = est\n",
    "        \n",
    "        probabilities_val = model.predict_proba(features_val)\n",
    "        probabilities_one_val = probabilities_val[:, 1]\n",
    "        \n",
    "        auc_roc_forest = roc_auc_score(target_val, probabilities_one_val)\n",
    "        \n",
    "        \n",
    "print()\n",
    "print(f'Лучший результат f1 = {best_result_f1_forest} при количестве деревьев - {best_est}')\n",
    "print()\n",
    "print(f'Значение метрики AUC-ROC: {auc_roc_forest}')"
   ]
  },
  {
   "cell_type": "markdown",
   "metadata": {},
   "source": [
    "<div class=\"alert alert-secondary\" role=\"alert\">\n",
    "<b>Заметка:</b>\n",
    "<br> наивысший показатель качества для модели \"случайный лес\" получен при гиперпараметрах max_depth=11 и n_estimators=50, значение f1 - 0.596, а roc-auc=0,86\n",
    "</div>"
   ]
  },
  {
   "cell_type": "markdown",
   "metadata": {},
   "source": [
    "#### Логистическая регрессия"
   ]
  },
  {
   "cell_type": "code",
   "execution_count": 26,
   "metadata": {},
   "outputs": [
    {
     "name": "stdout",
     "output_type": "stream",
     "text": [
      "Количество итераций - 1000, f1 = 0.08735632183908046\n",
      "Количество итераций - 6000, f1 = 0.08735632183908046\n",
      "Количество итераций - 11000, f1 = 0.08735632183908046\n",
      "Количество итераций - 16000, f1 = 0.08735632183908046\n",
      "Количество итераций - 21000, f1 = 0.08735632183908046\n",
      "Количество итераций - 26000, f1 = 0.08735632183908046\n",
      "Количество итераций - 31000, f1 = 0.08735632183908046\n",
      "Количество итераций - 36000, f1 = 0.08735632183908046\n",
      "Количество итераций - 41000, f1 = 0.08735632183908046\n",
      "Количество итераций - 46000, f1 = 0.08735632183908046\n",
      "\n",
      "Лучший результат f1 = 0.08735632183908046 при количестве итераций - 1000\n",
      "\n",
      "Значение метрики AUC-ROC: 0.6636688054213827\n"
     ]
    }
   ],
   "source": [
    "best_iter = 0\n",
    "best_result_f1_regr = 0\n",
    "for iteration in range(1000, 50000, 5000):\n",
    "    model = LogisticRegression(max_iter=iteration, random_state=777)\n",
    "    model.fit(features_train, target_train)\n",
    "    result_f1 = f1_score(target_val, model.predict(features_val))\n",
    "    print(f'Количество итераций - {iteration}, f1 = {result_f1}')\n",
    "    if best_result_f1_regr < result_f1:\n",
    "        best_result_f1_regr = result_f1\n",
    "        best_iter = iteration\n",
    "        \n",
    "        probabilities_val = model.predict_proba(features_val)\n",
    "        probabilities_one_val = probabilities_val[:, 1]\n",
    "        \n",
    "        auc_roc_regr = roc_auc_score(target_val, probabilities_one_val)\n",
    "        \n",
    "        \n",
    "print()\n",
    "print(f'Лучший результат f1 = {best_result_f1_regr} при количестве итераций - {best_iter}')\n",
    "print()\n",
    "print(f'Значение метрики AUC-ROC: {auc_roc_regr}')"
   ]
  },
  {
   "cell_type": "markdown",
   "metadata": {},
   "source": [
    "<div class=\"alert alert-secondary\" role=\"alert\">\n",
    "<b>Заметка:</b>\n",
    "<br> наивысший показатель качетсва для модели \"логистическая регрессия\" получен при гиперпараметре max_iter=1000 и составляет 0.087, auc-roc = 0,66\n",
    "</div>"
   ]
  },
  {
   "cell_type": "markdown",
   "metadata": {},
   "source": [
    "### Лучший вариант модели"
   ]
  },
  {
   "cell_type": "code",
   "execution_count": 27,
   "metadata": {},
   "outputs": [
    {
     "name": "stdout",
     "output_type": "stream",
     "text": [
      "Лучшая модель по f1 – случайный лес с гиперпараметром n_estimators = 50\n"
     ]
    }
   ],
   "source": [
    "if best_result_f1_tree == max([best_result_f1_tree, best_result_f1_forest, best_result_f1_regr]):\n",
    "    print(f'Лучшая модель по f1 – решающее дерево с гиперпараметром max_depth = {best_depth}')\n",
    "elif best_result_f1_forest == max([best_result_f1_tree, best_result_f1_forest, best_result_f1_regr]):\n",
    "    print(f'Лучшая модель по f1 – случайный лес с гиперпараметром n_estimators = {best_est}')\n",
    "elif best_result_f1_regr == max([best_result_f1_tree, best_result_f1_forest, best_result_f1_regr]):\n",
    "    print(f'Лучшая модель по f1 – логистическая регрессия с гиперпараметром max_iter = {best_iter}')"
   ]
  },
  {
   "cell_type": "code",
   "execution_count": 28,
   "metadata": {},
   "outputs": [
    {
     "name": "stdout",
     "output_type": "stream",
     "text": [
      "Лучшая модель по auc-roc – случайный лес\n"
     ]
    }
   ],
   "source": [
    "if auc_roc_tree == max([auc_roc_tree, auc_roc_forest, auc_roc_regr]):\n",
    "    print(f'Лучшая модель по auc-roc – решающее дерево')\n",
    "elif auc_roc_forest == max([auc_roc_tree, auc_roc_forest, auc_roc_regr]):\n",
    "    print(f'Лучшая модель по auc-roc – случайный лес')\n",
    "elif auc_roc_regr == max([auc_roc_tree, auc_roc_forest, auc_roc_regr]):\n",
    "    print(f'Лучшая модель по auc-roc – логистическая регрессия')"
   ]
  },
  {
   "cell_type": "markdown",
   "metadata": {},
   "source": [
    "<div class=\"alert alert-secondary\" role=\"alert\">\n",
    "<b>Заметка:</b>\n",
    "<br> Лучшая модель – \"случайный лес\" с гиперпараметрами max_depth=11 и n_estimators=50 как по f1, так и по auc-roc. Значение показателя f1 для данной модели составляет 0.596, auc-roc = 0,86\n",
    "</div>"
   ]
  },
  {
   "cell_type": "markdown",
   "metadata": {},
   "source": [
    "## Борьба с дисбалансом"
   ]
  },
  {
   "cell_type": "markdown",
   "metadata": {},
   "source": [
    "### Взвешивание"
   ]
  },
  {
   "cell_type": "code",
   "execution_count": 29,
   "metadata": {},
   "outputs": [
    {
     "name": "stdout",
     "output_type": "stream",
     "text": [
      "Значение метрики f1: 0.5303292894280762\n",
      "\n",
      "Значение метрики AUC-ROC: 0.8616934611779973\n"
     ]
    }
   ],
   "source": [
    "model = RandomForestClassifier(random_state=777, class_weight='balanced')\n",
    "model.fit(features_test, target_test)\n",
    "pred_val = model.predict(features_val)\n",
    "f1_balance = f1_score(target_val, pred_val)\n",
    "print(f'Значение метрики f1: {f1_balance}')\n",
    "\n",
    "\n",
    "probabilities_val = model.predict_proba(features_val)\n",
    "probabilities_one_val = probabilities_val[:, 1]\n",
    "        \n",
    "auc_roc = roc_auc_score(target_val, probabilities_one_val)\n",
    "\n",
    "print()\n",
    "print(f'Значение метрики AUC-ROC: {auc_roc_forest}')"
   ]
  },
  {
   "cell_type": "markdown",
   "metadata": {},
   "source": [
    "<div class=\"alert alert-secondary\" role=\"alert\">\n",
    "<b>Заметка:</b>\n",
    "<br> взвешивание ухудшило значение f1 на ~0,06, а auc-roc не изменился\n",
    "</div>\n"
   ]
  },
  {
   "cell_type": "markdown",
   "metadata": {},
   "source": [
    "### Увеличение выборки"
   ]
  },
  {
   "cell_type": "code",
   "execution_count": 30,
   "metadata": {},
   "outputs": [],
   "source": [
    "def upsample(features, target, repeat):\n",
    "    features_zeros = features[target == 0]\n",
    "    features_ones = features[target == 1]\n",
    "    target_zeros = target[target == 0]\n",
    "    target_ones = target[target == 1]\n",
    "    \n",
    "    features_upcamp = pd.concat([features_zeros] + [features_ones] * repeat)\n",
    "    target_upsamp = pd.concat([target_zeros] + [target_ones] * repeat)\n",
    "    \n",
    "    features_upsamp, target_upsamp = shuffle(features_upcamp, target_upsamp, random_state=777)\n",
    "    \n",
    "    return features_upsamp, target_upsamp"
   ]
  },
  {
   "cell_type": "code",
   "execution_count": 31,
   "metadata": {},
   "outputs": [
    {
     "name": "stdout",
     "output_type": "stream",
     "text": [
      "Количество значений положительного класса: 4376\n",
      "\n",
      "Количество значений отрицательного класса: 4360\n"
     ]
    }
   ],
   "source": [
    "features_train_upsamp, target_train_upsamp = upsample(features_train, target_train, 4)\n",
    "\n",
    "print(f'Количество значений положительного класса: {(target_train_upsamp == 1).sum()}')\n",
    "print()\n",
    "print(f'Количество значений отрицательного класса: {(target_train_upsamp == 0).sum()}')"
   ]
  },
  {
   "cell_type": "code",
   "execution_count": 32,
   "metadata": {},
   "outputs": [
    {
     "name": "stdout",
     "output_type": "stream",
     "text": [
      "Значение метрики f1: 0.6115007012622721\n",
      "\n",
      "Значение метрики AUC-ROC: 0.8616934611779973\n"
     ]
    }
   ],
   "source": [
    "model = RandomForestClassifier(random_state=777)\n",
    "model.fit(features_train_upsamp, target_train_upsamp)\n",
    "pred_val = model.predict(features_val)\n",
    "f1_upsamp = f1_score(target_val, pred_val)\n",
    "\n",
    "print(f'Значение метрики f1: {f1_upsamp}')\n",
    "\n",
    "probabilities_val = model.predict_proba(features_val)\n",
    "probabilities_one_val = probabilities_val[:, 1]\n",
    "        \n",
    "auc_roc = roc_auc_score(target_val, probabilities_one_val)\n",
    "\n",
    "print()\n",
    "print(f'Значение метрики AUC-ROC: {auc_roc_forest}')"
   ]
  },
  {
   "cell_type": "markdown",
   "metadata": {},
   "source": [
    "<div class=\"alert alert-secondary\" role=\"alert\">\n",
    "<b>Заметка:</b>\n",
    "<br> апсэмплинг позволил немного повысить значение f1 (на ~0,02), на auc-roc апсэмплинг не повлиял\n",
    "</div>"
   ]
  },
  {
   "cell_type": "markdown",
   "metadata": {},
   "source": [
    "### Уменьшение выборки"
   ]
  },
  {
   "cell_type": "code",
   "execution_count": 33,
   "metadata": {},
   "outputs": [],
   "source": [
    "def downsample(features, target, fraction):\n",
    "    features_zeros = features[target == 0]\n",
    "    features_ones = features[target == 1]\n",
    "    target_zeros = target[target == 0]\n",
    "    target_ones = target[target == 1]\n",
    "    \n",
    "    features_downsamp = pd.concat([features_zeros.sample(frac=fraction, random_state=777)] + \\\n",
    "                                  [features_ones])\n",
    "    target_downsamp = pd.concat([target_zeros.sample(frac=fraction, random_state=777)] + \\\n",
    "                               [target_ones])\n",
    "    \n",
    "    features_downsamp, target_downsamp = shuffle(features_downsamp, target_downsamp, random_state=777)\n",
    "    \n",
    "    return features_downsamp, target_downsamp"
   ]
  },
  {
   "cell_type": "code",
   "execution_count": 34,
   "metadata": {},
   "outputs": [
    {
     "name": "stdout",
     "output_type": "stream",
     "text": [
      "Количество значений положительного класса: 1094\n",
      "\n",
      "Количество значений отрицательного класса: 1090\n"
     ]
    }
   ],
   "source": [
    "features_train_downsamp, target_train_downsamp = downsample(features_train, target_train, 0.25)\n",
    "\n",
    "print(f'Количество значений положительного класса: {(target_train_downsamp == 1).sum()}')\n",
    "print()\n",
    "print(f'Количество значений отрицательного класса: {(target_train_downsamp == 0).sum()}')"
   ]
  },
  {
   "cell_type": "code",
   "execution_count": 35,
   "metadata": {},
   "outputs": [
    {
     "name": "stdout",
     "output_type": "stream",
     "text": [
      "Значение метрики f1: 0.58\n",
      "\n",
      "Значение метрики AUC-ROC: 0.8616934611779973\n"
     ]
    }
   ],
   "source": [
    "model = RandomForestClassifier(random_state=777)\n",
    "model.fit(features_train_downsamp, target_train_downsamp)\n",
    "pred_val = model.predict(features_val)\n",
    "f1_downsamp = f1_score(target_val, pred_val)\n",
    "\n",
    "print(f'Значение метрики f1: {f1_downsamp}')\n",
    "\n",
    "probabilities_val = model.predict_proba(features_val)\n",
    "probabilities_one_val = probabilities_val[:, 1]\n",
    "        \n",
    "auc_roc = roc_auc_score(target_val, probabilities_one_val)\n",
    "\n",
    "print()\n",
    "print(f'Значение метрики AUC-ROC: {auc_roc_forest}')"
   ]
  },
  {
   "cell_type": "markdown",
   "metadata": {},
   "source": [
    "<div class=\"alert alert-secondary\" role=\"alert\">\n",
    "<b>Заметка:</b>\n",
    "<br> даунсэмплинг снизил значение f1 (на ~0,01), auc-roc не изменился\n",
    "</div>"
   ]
  },
  {
   "cell_type": "markdown",
   "metadata": {},
   "source": [
    "### Лучший вариант борьбы"
   ]
  },
  {
   "cell_type": "code",
   "execution_count": 36,
   "metadata": {},
   "outputs": [
    {
     "name": "stdout",
     "output_type": "stream",
     "text": [
      "Побеждает увеличение!\n"
     ]
    }
   ],
   "source": [
    "if f1_balance == max([f1_balance, f1_upsamp, f1_downsamp]):\n",
    "    print(f'Побеждает балансирование!')\n",
    "elif f1_upsamp == max([f1_balance, f1_upsamp, f1_downsamp]):\n",
    "    print(f'Побеждает увеличение!')\n",
    "else:\n",
    "    print(f'Побеждает уменьшение!')"
   ]
  },
  {
   "cell_type": "markdown",
   "metadata": {},
   "source": [
    "<div class=\"alert alert-secondary\" role=\"alert\">\n",
    "<b>Заметка:</b>\n",
    "<br> лучшее значение f1 при апсэмплинге, а auc-roc во всех случаях не менялся. Применю его\n",
    "</div>"
   ]
  },
  {
   "cell_type": "markdown",
   "metadata": {},
   "source": [
    "## Тестирование модели"
   ]
  },
  {
   "cell_type": "markdown",
   "metadata": {},
   "source": [
    "### Проверка метрики f1"
   ]
  },
  {
   "cell_type": "code",
   "execution_count": 37,
   "metadata": {},
   "outputs": [
    {
     "name": "stdout",
     "output_type": "stream",
     "text": [
      "Значение метрики f1: 0.5946745562130178\n"
     ]
    }
   ],
   "source": [
    "model = RandomForestClassifier(random_state=777)\n",
    "model.fit(features_train_upsamp, target_train_upsamp)\n",
    "pred_test = model.predict(features_test)\n",
    "f1_test = f1_score(target_test, pred_test)\n",
    "\n",
    "print(f'Значение метрики f1: {f1_test}')"
   ]
  },
  {
   "cell_type": "code",
   "execution_count": 38,
   "metadata": {},
   "outputs": [
    {
     "name": "stdout",
     "output_type": "stream",
     "text": [
      "ТЗ выполнено успешно – метрика f1 выше 0.59\n"
     ]
    }
   ],
   "source": [
    "if f1_test > 0.59:\n",
    "    print(f'ТЗ выполнено успешно – метрика f1 выше 0.59')\n",
    "else:\n",
    "    print(f'Что-то пошло не так, у меня всё было нормально')"
   ]
  },
  {
   "cell_type": "markdown",
   "metadata": {},
   "source": [
    "<div class=\"alert alert-secondary\" role=\"alert\">\n",
    "<b>Заметка:</b>\n",
    "<br> значение f1 на тестовой выборке составляет ~0.595, что превышает заданное значение 0.59\n",
    "</div>"
   ]
  },
  {
   "cell_type": "markdown",
   "metadata": {},
   "source": [
    "### Исследование AUC-ROC"
   ]
  },
  {
   "cell_type": "code",
   "execution_count": 39,
   "metadata": {},
   "outputs": [
    {
     "name": "stdout",
     "output_type": "stream",
     "text": [
      "Значение метрики AUC-ROC: 0.8498896493300934\n"
     ]
    }
   ],
   "source": [
    "probabilities_test = model.predict_proba(features_test)\n",
    "probabilities_one_test = probabilities_test[:, 1]\n",
    "\n",
    "auc_roc = roc_auc_score(target_test, probabilities_one_test)\n",
    "\n",
    "print(f'Значение метрики AUC-ROC: {auc_roc}')"
   ]
  },
  {
   "cell_type": "markdown",
   "metadata": {},
   "source": [
    "<div class=\"alert alert-secondary\" role=\"alert\">\n",
    "<b>Заметка:</b>\n",
    "<br> значение метрики AUC-ROC = 0.85, что весьма близко к идеальному значению - 1. Я вполне довольна. Более того, от auc-roc валидационной выборки отличается не сильно\n",
    "</div>"
   ]
  },
  {
   "cell_type": "markdown",
   "metadata": {},
   "source": [
    "## Выводы"
   ]
  },
  {
   "cell_type": "markdown",
   "metadata": {},
   "source": [
    "### Были предобработаны данные следующим образом:\n",
    "\n",
    "\n",
    "\n",
    " #### Пропуски:\n",
    "- удалены в колонке 'Tenure'\n",
    "\n",
    " #### Кодирование:\n",
    "- закодированы столбцы 'Geography' и 'Gender' прямым кодированием (OHE)\n",
    "\n",
    "\n",
    "### В ходе анализа были получены следующие результаты:\n",
    "- получены три новых датафрейма (тренировочный, валидационный и тестовый) в соотношении 6:2:2. Датафреймы пропусков не содержат, имеют по 11 колонок, 5454 строк в тренировочном датафрейме, 1818 - в валидационном и 1819 - в тестовом;\n",
    "- классы не сбалансированы. Их соотношение составляет примерно 2:8;\n",
    "- наивысший показатель качества для модели \"решающее дерево\" получен при гиперпараметре max_depth=7 и составляет 0.558, а auc-roc = 0,819;\n",
    "- наивысший показатель качества для модели \"случайный лес\" получен при гиперпараметрах max_depth=11 и n_estimators=50, значение f1 - 0.596, а roc-auc=0,86;\n",
    "- наивысший показатель качетсва для модели \"логистическая регрессия\" получен при гиперпараметре max_iter=1000 и составляет 0.087, auc-roc = 0,66;\n",
    "- лучшая модель – \"случайный лес\" с гиперпараметрами max_depth=11 и n_estimators=50. Значение показателя качества для данной модели составляет 0.596, а roc-auc=0,86;\n",
    "- взвешивание ухудшило значение f1 на ~0,06 (с 0,596 до 0,534), а auc-roc не изменился;\n",
    "- апсэмплинг позволил немного повысить значение f1 до 0,612 (на ~0,02), на auc-roc апсэмплинг не повлиял;\n",
    "- даунсэмплинг снизил значение f1 до 0,58 (на ~0,01), auc-roc не изменился;\n",
    "- лучшее значение f1 при апсэмплинге, а auc-roc во всех случаях не менялся;\n",
    "- значение f1 на тестовой выборке составляет ~0.595, что превышает заданное значение 0.59;\n",
    "- значение метрики AUC-ROC = 0.85, что весьма близко к идеальному значению - 1 и чуть ниже значения для валидационных данных (ниже на ~0,01)\n",
    "\n",
    "\n",
    "\n",
    "### Конечный результат\n",
    "Моделью с максимально большим значением f1 стал «случайный лес» с гиперпараметрами max_depth=11 и n_estimators=50 с применением upsampling. Значение accuracy составило 0.595, что превышает заданное значение - 0.59. Значение метрики AUC-ROC = 0.85"
   ]
  }
 ],
 "metadata": {
  "ExecuteTimeLog": [
   {
    "duration": 424,
    "start_time": "2023-10-16T16:20:57.597Z"
   },
   {
    "duration": 152,
    "start_time": "2023-10-16T16:22:52.754Z"
   },
   {
    "duration": 110,
    "start_time": "2023-10-16T16:23:04.399Z"
   },
   {
    "duration": 3,
    "start_time": "2023-10-16T16:29:29.718Z"
   },
   {
    "duration": 41,
    "start_time": "2023-10-16T16:29:52.425Z"
   },
   {
    "duration": 21,
    "start_time": "2023-10-16T16:29:55.614Z"
   },
   {
    "duration": 12,
    "start_time": "2023-10-16T16:39:18.119Z"
   },
   {
    "duration": 5,
    "start_time": "2023-10-16T16:40:56.114Z"
   },
   {
    "duration": 8,
    "start_time": "2023-10-16T16:52:20.296Z"
   },
   {
    "duration": 9,
    "start_time": "2023-10-16T16:52:31.354Z"
   },
   {
    "duration": 8,
    "start_time": "2023-10-16T16:52:47.303Z"
   },
   {
    "duration": 9,
    "start_time": "2023-10-16T16:54:00.850Z"
   },
   {
    "duration": 7,
    "start_time": "2023-10-16T16:54:22.893Z"
   },
   {
    "duration": 8,
    "start_time": "2023-10-16T16:54:35.100Z"
   },
   {
    "duration": 9,
    "start_time": "2023-10-16T16:55:11.836Z"
   },
   {
    "duration": 6,
    "start_time": "2023-10-16T16:55:49.235Z"
   },
   {
    "duration": 19,
    "start_time": "2023-10-16T16:56:06.489Z"
   },
   {
    "duration": 456,
    "start_time": "2023-10-18T10:02:18.931Z"
   },
   {
    "duration": 3,
    "start_time": "2023-10-18T10:02:19.389Z"
   },
   {
    "duration": 194,
    "start_time": "2023-10-18T10:02:19.393Z"
   },
   {
    "duration": 26,
    "start_time": "2023-10-18T10:02:19.590Z"
   },
   {
    "duration": 21,
    "start_time": "2023-10-18T10:02:19.618Z"
   },
   {
    "duration": 17,
    "start_time": "2023-10-18T10:02:19.640Z"
   },
   {
    "duration": 87,
    "start_time": "2023-10-18T10:02:19.659Z"
   },
   {
    "duration": 0,
    "start_time": "2023-10-18T10:02:19.749Z"
   },
   {
    "duration": 0,
    "start_time": "2023-10-18T10:02:19.750Z"
   },
   {
    "duration": 0,
    "start_time": "2023-10-18T10:02:19.753Z"
   },
   {
    "duration": 0,
    "start_time": "2023-10-18T10:02:19.754Z"
   },
   {
    "duration": 0,
    "start_time": "2023-10-18T10:02:19.756Z"
   },
   {
    "duration": 4,
    "start_time": "2023-10-18T10:02:35.586Z"
   },
   {
    "duration": 7,
    "start_time": "2023-10-18T10:02:36.397Z"
   },
   {
    "duration": 12,
    "start_time": "2023-10-18T10:02:39.559Z"
   },
   {
    "duration": 19,
    "start_time": "2023-10-18T10:02:46.576Z"
   },
   {
    "duration": 106,
    "start_time": "2023-10-18T10:04:13.673Z"
   },
   {
    "duration": 5,
    "start_time": "2023-10-18T10:05:00.682Z"
   },
   {
    "duration": 13,
    "start_time": "2023-10-18T10:05:43.916Z"
   },
   {
    "duration": 6,
    "start_time": "2023-10-18T10:05:51.031Z"
   },
   {
    "duration": 5,
    "start_time": "2023-10-18T10:06:02.470Z"
   },
   {
    "duration": 5,
    "start_time": "2023-10-18T10:06:11.574Z"
   },
   {
    "duration": 6,
    "start_time": "2023-10-18T10:06:29.276Z"
   },
   {
    "duration": 5,
    "start_time": "2023-10-18T10:06:52.079Z"
   },
   {
    "duration": 105,
    "start_time": "2023-10-18T10:07:51.636Z"
   },
   {
    "duration": 5,
    "start_time": "2023-10-18T10:08:01.502Z"
   },
   {
    "duration": 5,
    "start_time": "2023-10-18T10:08:07.422Z"
   },
   {
    "duration": 8,
    "start_time": "2023-10-18T10:08:50.997Z"
   },
   {
    "duration": 8,
    "start_time": "2023-10-18T10:09:15.972Z"
   },
   {
    "duration": 9,
    "start_time": "2023-10-18T10:09:55.022Z"
   },
   {
    "duration": 8,
    "start_time": "2023-10-18T10:10:11.478Z"
   },
   {
    "duration": 10,
    "start_time": "2023-10-18T10:10:23.076Z"
   },
   {
    "duration": 9,
    "start_time": "2023-10-18T10:10:53.296Z"
   },
   {
    "duration": 16,
    "start_time": "2023-10-18T10:12:39.670Z"
   },
   {
    "duration": 97,
    "start_time": "2023-10-18T10:15:13.119Z"
   },
   {
    "duration": 678,
    "start_time": "2023-10-18T10:15:18.571Z"
   },
   {
    "duration": 38,
    "start_time": "2023-10-18T10:16:54.685Z"
   },
   {
    "duration": 15,
    "start_time": "2023-10-18T10:17:45.708Z"
   },
   {
    "duration": 4,
    "start_time": "2023-10-18T10:18:07.828Z"
   },
   {
    "duration": 16,
    "start_time": "2023-10-18T10:18:45.576Z"
   },
   {
    "duration": 34,
    "start_time": "2023-10-18T10:22:54.672Z"
   },
   {
    "duration": 33,
    "start_time": "2023-10-18T10:23:05.890Z"
   },
   {
    "duration": 34,
    "start_time": "2023-10-18T10:23:13.576Z"
   },
   {
    "duration": 8,
    "start_time": "2023-10-18T10:23:54.511Z"
   },
   {
    "duration": 22,
    "start_time": "2023-10-18T10:24:26.981Z"
   },
   {
    "duration": 21,
    "start_time": "2023-10-18T10:24:47.586Z"
   },
   {
    "duration": 22,
    "start_time": "2023-10-18T10:25:03.997Z"
   },
   {
    "duration": 43,
    "start_time": "2023-10-18T10:30:07.230Z"
   },
   {
    "duration": 26,
    "start_time": "2023-10-18T10:37:19.789Z"
   },
   {
    "duration": 16,
    "start_time": "2023-10-18T10:39:26.406Z"
   },
   {
    "duration": 9,
    "start_time": "2023-10-18T10:39:29.705Z"
   },
   {
    "duration": 22,
    "start_time": "2023-10-18T10:39:30.350Z"
   },
   {
    "duration": 1132,
    "start_time": "2023-10-18T10:39:44.551Z"
   },
   {
    "duration": 3,
    "start_time": "2023-10-18T10:39:45.685Z"
   },
   {
    "duration": 46,
    "start_time": "2023-10-18T10:39:45.690Z"
   },
   {
    "duration": 30,
    "start_time": "2023-10-18T10:39:45.738Z"
   },
   {
    "duration": 12,
    "start_time": "2023-10-18T10:39:45.769Z"
   },
   {
    "duration": 10,
    "start_time": "2023-10-18T10:39:45.783Z"
   },
   {
    "duration": 8,
    "start_time": "2023-10-18T10:39:45.795Z"
   },
   {
    "duration": 11,
    "start_time": "2023-10-18T10:39:45.805Z"
   },
   {
    "duration": 8,
    "start_time": "2023-10-18T10:39:45.845Z"
   },
   {
    "duration": 21,
    "start_time": "2023-10-18T10:39:45.856Z"
   },
   {
    "duration": 30,
    "start_time": "2023-10-18T10:39:45.879Z"
   },
   {
    "duration": 32,
    "start_time": "2023-10-18T10:39:45.911Z"
   },
   {
    "duration": 8,
    "start_time": "2023-10-18T10:39:45.945Z"
   },
   {
    "duration": 23,
    "start_time": "2023-10-18T10:39:45.954Z"
   },
   {
    "duration": 12,
    "start_time": "2023-10-18T10:39:45.979Z"
   },
   {
    "duration": 27,
    "start_time": "2023-10-18T10:39:45.992Z"
   },
   {
    "duration": 22,
    "start_time": "2023-10-18T10:39:46.020Z"
   },
   {
    "duration": 25,
    "start_time": "2023-10-18T10:39:46.043Z"
   },
   {
    "duration": 21,
    "start_time": "2023-10-18T10:39:46.070Z"
   },
   {
    "duration": 25,
    "start_time": "2023-10-18T10:39:46.092Z"
   },
   {
    "duration": 147,
    "start_time": "2023-10-18T10:39:46.118Z"
   },
   {
    "duration": 1379,
    "start_time": "2023-10-18T10:40:36.060Z"
   },
   {
    "duration": 5,
    "start_time": "2023-10-18T10:40:58.715Z"
   },
   {
    "duration": 17,
    "start_time": "2023-10-18T10:42:02.406Z"
   },
   {
    "duration": 1185,
    "start_time": "2023-10-18T10:42:07.906Z"
   },
   {
    "duration": 3,
    "start_time": "2023-10-18T10:42:09.093Z"
   },
   {
    "duration": 48,
    "start_time": "2023-10-18T10:42:09.097Z"
   },
   {
    "duration": 33,
    "start_time": "2023-10-18T10:42:09.147Z"
   },
   {
    "duration": 11,
    "start_time": "2023-10-18T10:42:09.181Z"
   },
   {
    "duration": 6,
    "start_time": "2023-10-18T10:42:09.194Z"
   },
   {
    "duration": 47,
    "start_time": "2023-10-18T10:42:09.201Z"
   },
   {
    "duration": 9,
    "start_time": "2023-10-18T10:42:09.252Z"
   },
   {
    "duration": 9,
    "start_time": "2023-10-18T10:42:09.263Z"
   },
   {
    "duration": 32,
    "start_time": "2023-10-18T10:42:09.274Z"
   },
   {
    "duration": 7,
    "start_time": "2023-10-18T10:42:09.308Z"
   },
   {
    "duration": 18,
    "start_time": "2023-10-18T10:42:09.344Z"
   },
   {
    "duration": 9,
    "start_time": "2023-10-18T10:42:09.365Z"
   },
   {
    "duration": 8,
    "start_time": "2023-10-18T10:42:09.376Z"
   },
   {
    "duration": 7,
    "start_time": "2023-10-18T10:42:09.386Z"
   },
   {
    "duration": 4,
    "start_time": "2023-10-18T10:42:09.395Z"
   },
   {
    "duration": 16,
    "start_time": "2023-10-18T10:42:09.444Z"
   },
   {
    "duration": 23,
    "start_time": "2023-10-18T10:42:09.462Z"
   },
   {
    "duration": 25,
    "start_time": "2023-10-18T10:42:09.487Z"
   },
   {
    "duration": 43,
    "start_time": "2023-10-18T10:42:09.514Z"
   },
   {
    "duration": 23,
    "start_time": "2023-10-18T10:42:09.560Z"
   },
   {
    "duration": 151,
    "start_time": "2023-10-18T10:42:09.585Z"
   },
   {
    "duration": 1184,
    "start_time": "2023-10-19T10:18:13.061Z"
   },
   {
    "duration": 3,
    "start_time": "2023-10-19T10:18:14.248Z"
   },
   {
    "duration": 103,
    "start_time": "2023-10-19T10:18:14.253Z"
   },
   {
    "duration": 32,
    "start_time": "2023-10-19T10:18:14.358Z"
   },
   {
    "duration": 13,
    "start_time": "2023-10-19T10:18:14.393Z"
   },
   {
    "duration": 4,
    "start_time": "2023-10-19T10:18:14.408Z"
   },
   {
    "duration": 15,
    "start_time": "2023-10-19T10:18:14.414Z"
   },
   {
    "duration": 38,
    "start_time": "2023-10-19T10:18:14.430Z"
   },
   {
    "duration": 10,
    "start_time": "2023-10-19T10:18:14.470Z"
   },
   {
    "duration": 26,
    "start_time": "2023-10-19T10:18:14.481Z"
   },
   {
    "duration": 5,
    "start_time": "2023-10-19T10:18:14.508Z"
   },
   {
    "duration": 25,
    "start_time": "2023-10-19T10:18:14.514Z"
   },
   {
    "duration": 17,
    "start_time": "2023-10-19T10:18:14.541Z"
   },
   {
    "duration": 22,
    "start_time": "2023-10-19T10:18:14.560Z"
   },
   {
    "duration": 16,
    "start_time": "2023-10-19T10:18:14.583Z"
   },
   {
    "duration": 14,
    "start_time": "2023-10-19T10:18:14.601Z"
   },
   {
    "duration": 17,
    "start_time": "2023-10-19T10:18:14.617Z"
   },
   {
    "duration": 12,
    "start_time": "2023-10-19T10:18:14.636Z"
   },
   {
    "duration": 27,
    "start_time": "2023-10-19T10:18:14.650Z"
   },
   {
    "duration": 20,
    "start_time": "2023-10-19T10:18:14.679Z"
   },
   {
    "duration": 19,
    "start_time": "2023-10-19T10:18:14.702Z"
   },
   {
    "duration": 154,
    "start_time": "2023-10-19T10:18:14.722Z"
   },
   {
    "duration": 9,
    "start_time": "2023-10-19T10:20:22.129Z"
   },
   {
    "duration": 15,
    "start_time": "2023-10-19T10:20:29.401Z"
   },
   {
    "duration": 5,
    "start_time": "2023-10-19T10:20:51.140Z"
   },
   {
    "duration": 14,
    "start_time": "2023-10-19T10:21:04.413Z"
   },
   {
    "duration": 5,
    "start_time": "2023-10-19T10:21:15.709Z"
   },
   {
    "duration": 14,
    "start_time": "2023-10-19T10:21:34.683Z"
   },
   {
    "duration": 1254,
    "start_time": "2023-10-19T10:21:41.154Z"
   },
   {
    "duration": 3,
    "start_time": "2023-10-19T10:21:42.410Z"
   },
   {
    "duration": 67,
    "start_time": "2023-10-19T10:21:42.414Z"
   },
   {
    "duration": 32,
    "start_time": "2023-10-19T10:21:42.483Z"
   },
   {
    "duration": 12,
    "start_time": "2023-10-19T10:21:42.517Z"
   },
   {
    "duration": 23,
    "start_time": "2023-10-19T10:21:42.531Z"
   },
   {
    "duration": 18,
    "start_time": "2023-10-19T10:21:42.557Z"
   },
   {
    "duration": 13,
    "start_time": "2023-10-19T10:21:42.577Z"
   },
   {
    "duration": 18,
    "start_time": "2023-10-19T10:21:42.592Z"
   },
   {
    "duration": 27,
    "start_time": "2023-10-19T10:21:42.612Z"
   },
   {
    "duration": 9,
    "start_time": "2023-10-19T10:21:42.641Z"
   },
   {
    "duration": 34,
    "start_time": "2023-10-19T10:21:42.652Z"
   },
   {
    "duration": 20,
    "start_time": "2023-10-19T10:21:42.687Z"
   },
   {
    "duration": 13,
    "start_time": "2023-10-19T10:21:42.711Z"
   },
   {
    "duration": 9,
    "start_time": "2023-10-19T10:21:42.726Z"
   },
   {
    "duration": 24,
    "start_time": "2023-10-19T10:21:42.737Z"
   },
   {
    "duration": 21,
    "start_time": "2023-10-19T10:21:42.763Z"
   },
   {
    "duration": 32,
    "start_time": "2023-10-19T10:21:42.786Z"
   },
   {
    "duration": 16,
    "start_time": "2023-10-19T10:21:42.819Z"
   },
   {
    "duration": 25,
    "start_time": "2023-10-19T10:21:42.837Z"
   },
   {
    "duration": 42,
    "start_time": "2023-10-19T10:21:42.863Z"
   },
   {
    "duration": 20,
    "start_time": "2023-10-19T10:21:42.907Z"
   },
   {
    "duration": 132,
    "start_time": "2023-10-19T10:21:42.929Z"
   },
   {
    "duration": 14,
    "start_time": "2023-10-19T10:22:05.982Z"
   },
   {
    "duration": 4,
    "start_time": "2023-10-19T10:22:08.043Z"
   },
   {
    "duration": 1153,
    "start_time": "2023-10-19T10:22:12.795Z"
   },
   {
    "duration": 4,
    "start_time": "2023-10-19T10:22:13.950Z"
   },
   {
    "duration": 84,
    "start_time": "2023-10-19T10:22:13.955Z"
   },
   {
    "duration": 37,
    "start_time": "2023-10-19T10:22:14.041Z"
   },
   {
    "duration": 14,
    "start_time": "2023-10-19T10:22:14.080Z"
   },
   {
    "duration": 23,
    "start_time": "2023-10-19T10:22:14.096Z"
   },
   {
    "duration": 33,
    "start_time": "2023-10-19T10:22:14.121Z"
   },
   {
    "duration": 52,
    "start_time": "2023-10-19T10:22:14.156Z"
   },
   {
    "duration": 9,
    "start_time": "2023-10-19T10:22:14.210Z"
   },
   {
    "duration": 22,
    "start_time": "2023-10-19T10:22:14.222Z"
   },
   {
    "duration": 6,
    "start_time": "2023-10-19T10:22:14.246Z"
   },
   {
    "duration": 50,
    "start_time": "2023-10-19T10:22:14.254Z"
   },
   {
    "duration": 11,
    "start_time": "2023-10-19T10:22:14.306Z"
   },
   {
    "duration": 8,
    "start_time": "2023-10-19T10:22:14.319Z"
   },
   {
    "duration": 19,
    "start_time": "2023-10-19T10:22:14.329Z"
   },
   {
    "duration": 18,
    "start_time": "2023-10-19T10:22:14.350Z"
   },
   {
    "duration": 7,
    "start_time": "2023-10-19T10:22:14.370Z"
   },
   {
    "duration": 17,
    "start_time": "2023-10-19T10:22:14.378Z"
   },
   {
    "duration": 44,
    "start_time": "2023-10-19T10:22:14.397Z"
   },
   {
    "duration": 27,
    "start_time": "2023-10-19T10:22:14.442Z"
   },
   {
    "duration": 81,
    "start_time": "2023-10-19T10:22:14.471Z"
   },
   {
    "duration": 19,
    "start_time": "2023-10-19T10:22:14.554Z"
   },
   {
    "duration": 143,
    "start_time": "2023-10-19T10:22:14.575Z"
   },
   {
    "duration": 9,
    "start_time": "2023-10-19T10:22:31.021Z"
   },
   {
    "duration": 11,
    "start_time": "2023-10-19T10:22:40.674Z"
   },
   {
    "duration": 1201,
    "start_time": "2023-10-19T10:22:46.967Z"
   },
   {
    "duration": 5,
    "start_time": "2023-10-19T10:22:48.170Z"
   },
   {
    "duration": 48,
    "start_time": "2023-10-19T10:22:48.177Z"
   },
   {
    "duration": 34,
    "start_time": "2023-10-19T10:22:48.227Z"
   },
   {
    "duration": 12,
    "start_time": "2023-10-19T10:22:48.263Z"
   },
   {
    "duration": 8,
    "start_time": "2023-10-19T10:22:48.277Z"
   },
   {
    "duration": 18,
    "start_time": "2023-10-19T10:22:48.287Z"
   },
   {
    "duration": 32,
    "start_time": "2023-10-19T10:22:48.307Z"
   },
   {
    "duration": 18,
    "start_time": "2023-10-19T10:22:48.341Z"
   },
   {
    "duration": 36,
    "start_time": "2023-10-19T10:22:48.361Z"
   },
   {
    "duration": 14,
    "start_time": "2023-10-19T10:22:48.398Z"
   },
   {
    "duration": 25,
    "start_time": "2023-10-19T10:22:48.414Z"
   },
   {
    "duration": 22,
    "start_time": "2023-10-19T10:22:48.440Z"
   },
   {
    "duration": 20,
    "start_time": "2023-10-19T10:22:48.464Z"
   },
   {
    "duration": 10,
    "start_time": "2023-10-19T10:22:48.486Z"
   },
   {
    "duration": 988,
    "start_time": "2023-10-19T10:22:48.497Z"
   },
   {
    "duration": 2837,
    "start_time": "2023-10-19T10:22:49.487Z"
   },
   {
    "duration": 0,
    "start_time": "2023-10-19T10:22:52.326Z"
   },
   {
    "duration": 0,
    "start_time": "2023-10-19T10:22:52.327Z"
   },
   {
    "duration": 0,
    "start_time": "2023-10-19T10:22:52.328Z"
   },
   {
    "duration": 0,
    "start_time": "2023-10-19T10:22:52.330Z"
   },
   {
    "duration": 0,
    "start_time": "2023-10-19T10:22:52.330Z"
   },
   {
    "duration": 0,
    "start_time": "2023-10-19T10:22:52.331Z"
   },
   {
    "duration": 1201,
    "start_time": "2023-10-19T10:24:59.905Z"
   },
   {
    "duration": 2,
    "start_time": "2023-10-19T10:25:01.108Z"
   },
   {
    "duration": 140,
    "start_time": "2023-10-19T10:25:01.112Z"
   },
   {
    "duration": 33,
    "start_time": "2023-10-19T10:25:01.254Z"
   },
   {
    "duration": 34,
    "start_time": "2023-10-19T10:25:01.289Z"
   },
   {
    "duration": 36,
    "start_time": "2023-10-19T10:25:01.325Z"
   },
   {
    "duration": 61,
    "start_time": "2023-10-19T10:25:01.363Z"
   },
   {
    "duration": 49,
    "start_time": "2023-10-19T10:25:01.426Z"
   },
   {
    "duration": 43,
    "start_time": "2023-10-19T10:25:01.477Z"
   },
   {
    "duration": 52,
    "start_time": "2023-10-19T10:25:01.524Z"
   },
   {
    "duration": 92,
    "start_time": "2023-10-19T10:25:01.578Z"
   },
   {
    "duration": 61,
    "start_time": "2023-10-19T10:25:01.672Z"
   },
   {
    "duration": 41,
    "start_time": "2023-10-19T10:25:01.735Z"
   },
   {
    "duration": 85,
    "start_time": "2023-10-19T10:25:01.778Z"
   },
   {
    "duration": 91,
    "start_time": "2023-10-19T10:25:01.865Z"
   },
   {
    "duration": 23,
    "start_time": "2023-10-19T10:25:01.957Z"
   },
   {
    "duration": 47,
    "start_time": "2023-10-19T10:25:01.981Z"
   },
   {
    "duration": 3363,
    "start_time": "2023-10-19T10:25:02.029Z"
   },
   {
    "duration": 0,
    "start_time": "2023-10-19T10:25:05.394Z"
   },
   {
    "duration": 0,
    "start_time": "2023-10-19T10:25:05.396Z"
   },
   {
    "duration": 0,
    "start_time": "2023-10-19T10:25:05.397Z"
   },
   {
    "duration": 0,
    "start_time": "2023-10-19T10:25:05.398Z"
   },
   {
    "duration": 0,
    "start_time": "2023-10-19T10:25:05.399Z"
   },
   {
    "duration": 0,
    "start_time": "2023-10-19T10:25:05.401Z"
   },
   {
    "duration": 14,
    "start_time": "2023-10-19T10:25:20.245Z"
   },
   {
    "duration": 1265,
    "start_time": "2023-10-19T10:25:25.105Z"
   },
   {
    "duration": 2,
    "start_time": "2023-10-19T10:25:26.373Z"
   },
   {
    "duration": 65,
    "start_time": "2023-10-19T10:25:26.377Z"
   },
   {
    "duration": 32,
    "start_time": "2023-10-19T10:25:26.443Z"
   },
   {
    "duration": 12,
    "start_time": "2023-10-19T10:25:26.477Z"
   },
   {
    "duration": 20,
    "start_time": "2023-10-19T10:25:26.491Z"
   },
   {
    "duration": 39,
    "start_time": "2023-10-19T10:25:26.513Z"
   },
   {
    "duration": 32,
    "start_time": "2023-10-19T10:25:26.554Z"
   },
   {
    "duration": 16,
    "start_time": "2023-10-19T10:25:26.588Z"
   },
   {
    "duration": 39,
    "start_time": "2023-10-19T10:25:26.605Z"
   },
   {
    "duration": 10,
    "start_time": "2023-10-19T10:25:26.645Z"
   },
   {
    "duration": 24,
    "start_time": "2023-10-19T10:25:26.656Z"
   },
   {
    "duration": 29,
    "start_time": "2023-10-19T10:25:26.682Z"
   },
   {
    "duration": 22,
    "start_time": "2023-10-19T10:25:26.714Z"
   },
   {
    "duration": 16,
    "start_time": "2023-10-19T10:25:26.738Z"
   },
   {
    "duration": 11,
    "start_time": "2023-10-19T10:25:26.756Z"
   },
   {
    "duration": 142,
    "start_time": "2023-10-19T10:25:26.769Z"
   },
   {
    "duration": 0,
    "start_time": "2023-10-19T10:25:26.913Z"
   },
   {
    "duration": 0,
    "start_time": "2023-10-19T10:25:26.914Z"
   },
   {
    "duration": 0,
    "start_time": "2023-10-19T10:25:26.915Z"
   },
   {
    "duration": 0,
    "start_time": "2023-10-19T10:25:26.916Z"
   },
   {
    "duration": 0,
    "start_time": "2023-10-19T10:25:26.918Z"
   },
   {
    "duration": 0,
    "start_time": "2023-10-19T10:25:26.919Z"
   },
   {
    "duration": 0,
    "start_time": "2023-10-19T10:25:26.920Z"
   },
   {
    "duration": 15,
    "start_time": "2023-10-19T10:27:06.850Z"
   },
   {
    "duration": 17,
    "start_time": "2023-10-19T10:27:37.449Z"
   },
   {
    "duration": 1124,
    "start_time": "2023-10-19T10:27:41.497Z"
   },
   {
    "duration": 3,
    "start_time": "2023-10-19T10:27:42.623Z"
   },
   {
    "duration": 55,
    "start_time": "2023-10-19T10:27:42.627Z"
   },
   {
    "duration": 31,
    "start_time": "2023-10-19T10:27:42.684Z"
   },
   {
    "duration": 12,
    "start_time": "2023-10-19T10:27:42.717Z"
   },
   {
    "duration": 14,
    "start_time": "2023-10-19T10:27:42.730Z"
   },
   {
    "duration": 12,
    "start_time": "2023-10-19T10:27:42.746Z"
   },
   {
    "duration": 9,
    "start_time": "2023-10-19T10:27:42.760Z"
   },
   {
    "duration": 8,
    "start_time": "2023-10-19T10:27:42.771Z"
   },
   {
    "duration": 23,
    "start_time": "2023-10-19T10:27:42.782Z"
   },
   {
    "duration": 5,
    "start_time": "2023-10-19T10:27:42.806Z"
   },
   {
    "duration": 48,
    "start_time": "2023-10-19T10:27:42.813Z"
   },
   {
    "duration": 9,
    "start_time": "2023-10-19T10:27:42.864Z"
   },
   {
    "duration": 23,
    "start_time": "2023-10-19T10:27:42.875Z"
   },
   {
    "duration": 11,
    "start_time": "2023-10-19T10:27:42.900Z"
   },
   {
    "duration": 34,
    "start_time": "2023-10-19T10:27:42.914Z"
   },
   {
    "duration": 3,
    "start_time": "2023-10-19T10:27:42.950Z"
   },
   {
    "duration": 24,
    "start_time": "2023-10-19T10:27:42.955Z"
   },
   {
    "duration": 2005,
    "start_time": "2023-10-19T10:27:42.981Z"
   },
   {
    "duration": 0,
    "start_time": "2023-10-19T10:27:44.987Z"
   },
   {
    "duration": 0,
    "start_time": "2023-10-19T10:27:44.989Z"
   },
   {
    "duration": 0,
    "start_time": "2023-10-19T10:27:44.990Z"
   },
   {
    "duration": 0,
    "start_time": "2023-10-19T10:27:44.991Z"
   },
   {
    "duration": 0,
    "start_time": "2023-10-19T10:27:44.992Z"
   },
   {
    "duration": 10,
    "start_time": "2023-10-19T10:28:07.679Z"
   },
   {
    "duration": 1227,
    "start_time": "2023-10-19T10:28:15.295Z"
   },
   {
    "duration": 3,
    "start_time": "2023-10-19T10:28:16.524Z"
   },
   {
    "duration": 53,
    "start_time": "2023-10-19T10:28:16.529Z"
   },
   {
    "duration": 31,
    "start_time": "2023-10-19T10:28:16.583Z"
   },
   {
    "duration": 66,
    "start_time": "2023-10-19T10:28:16.616Z"
   },
   {
    "duration": 67,
    "start_time": "2023-10-19T10:28:16.684Z"
   },
   {
    "duration": 6,
    "start_time": "2023-10-19T10:28:16.753Z"
   },
   {
    "duration": 13,
    "start_time": "2023-10-19T10:28:16.761Z"
   },
   {
    "duration": 11,
    "start_time": "2023-10-19T10:28:16.776Z"
   },
   {
    "duration": 27,
    "start_time": "2023-10-19T10:28:16.789Z"
   },
   {
    "duration": 5,
    "start_time": "2023-10-19T10:28:16.818Z"
   },
   {
    "duration": 19,
    "start_time": "2023-10-19T10:28:16.848Z"
   },
   {
    "duration": 9,
    "start_time": "2023-10-19T10:28:16.869Z"
   },
   {
    "duration": 15,
    "start_time": "2023-10-19T10:28:16.881Z"
   },
   {
    "duration": 9,
    "start_time": "2023-10-19T10:28:16.898Z"
   },
   {
    "duration": 52,
    "start_time": "2023-10-19T10:28:16.909Z"
   },
   {
    "duration": 962,
    "start_time": "2023-10-19T10:28:16.963Z"
   },
   {
    "duration": 10,
    "start_time": "2023-10-19T10:28:17.927Z"
   },
   {
    "duration": 26,
    "start_time": "2023-10-19T10:28:17.939Z"
   },
   {
    "duration": 22,
    "start_time": "2023-10-19T10:28:17.966Z"
   },
   {
    "duration": 20,
    "start_time": "2023-10-19T10:28:17.989Z"
   },
   {
    "duration": 165,
    "start_time": "2023-10-19T10:28:18.011Z"
   },
   {
    "duration": 1257,
    "start_time": "2023-10-19T10:28:48.770Z"
   },
   {
    "duration": 4,
    "start_time": "2023-10-19T10:28:50.029Z"
   },
   {
    "duration": 95,
    "start_time": "2023-10-19T10:28:50.034Z"
   },
   {
    "duration": 34,
    "start_time": "2023-10-19T10:28:50.132Z"
   },
   {
    "duration": 12,
    "start_time": "2023-10-19T10:28:50.169Z"
   },
   {
    "duration": 8,
    "start_time": "2023-10-19T10:28:50.183Z"
   },
   {
    "duration": 10,
    "start_time": "2023-10-19T10:28:50.192Z"
   },
   {
    "duration": 18,
    "start_time": "2023-10-19T10:28:50.203Z"
   },
   {
    "duration": 25,
    "start_time": "2023-10-19T10:28:50.223Z"
   },
   {
    "duration": 26,
    "start_time": "2023-10-19T10:28:50.250Z"
   },
   {
    "duration": 5,
    "start_time": "2023-10-19T10:28:50.278Z"
   },
   {
    "duration": 49,
    "start_time": "2023-10-19T10:28:50.284Z"
   },
   {
    "duration": 19,
    "start_time": "2023-10-19T10:28:50.335Z"
   },
   {
    "duration": 10,
    "start_time": "2023-10-19T10:28:50.357Z"
   },
   {
    "duration": 34,
    "start_time": "2023-10-19T10:28:50.369Z"
   },
   {
    "duration": 17,
    "start_time": "2023-10-19T10:28:50.406Z"
   },
   {
    "duration": 34,
    "start_time": "2023-10-19T10:28:50.425Z"
   },
   {
    "duration": 11,
    "start_time": "2023-10-19T10:28:50.461Z"
   },
   {
    "duration": 29,
    "start_time": "2023-10-19T10:28:50.474Z"
   },
   {
    "duration": 49,
    "start_time": "2023-10-19T10:28:50.505Z"
   },
   {
    "duration": 20,
    "start_time": "2023-10-19T10:28:50.556Z"
   },
   {
    "duration": 137,
    "start_time": "2023-10-19T10:28:50.578Z"
   },
   {
    "duration": 20,
    "start_time": "2023-10-19T10:29:36.831Z"
   },
   {
    "duration": 24,
    "start_time": "2023-10-19T10:29:48.949Z"
   },
   {
    "duration": 7,
    "start_time": "2023-10-19T10:30:09.277Z"
   },
   {
    "duration": 22,
    "start_time": "2023-10-19T10:30:12.176Z"
   },
   {
    "duration": 20,
    "start_time": "2023-10-19T10:30:13.403Z"
   },
   {
    "duration": 20,
    "start_time": "2023-10-19T10:30:15.171Z"
   },
   {
    "duration": 15,
    "start_time": "2023-10-19T10:30:19.826Z"
   },
   {
    "duration": 442,
    "start_time": "2023-10-19T10:30:41.738Z"
   },
   {
    "duration": 458,
    "start_time": "2023-10-19T10:31:01.289Z"
   },
   {
    "duration": 450,
    "start_time": "2023-10-19T10:32:54.138Z"
   },
   {
    "duration": 11,
    "start_time": "2023-10-19T10:37:57.958Z"
   },
   {
    "duration": 1164,
    "start_time": "2023-10-19T10:38:13.344Z"
   },
   {
    "duration": 1152,
    "start_time": "2023-10-19T10:38:47.668Z"
   },
   {
    "duration": 2776,
    "start_time": "2023-10-19T10:40:55.601Z"
   },
   {
    "duration": 7799,
    "start_time": "2023-10-19T10:45:23.453Z"
   },
   {
    "duration": 7485,
    "start_time": "2023-10-19T10:46:10.964Z"
   },
   {
    "duration": 7805,
    "start_time": "2023-10-19T10:46:41.547Z"
   },
   {
    "duration": 1066,
    "start_time": "2023-10-22T10:07:20.097Z"
   },
   {
    "duration": 3,
    "start_time": "2023-10-22T10:07:21.165Z"
   },
   {
    "duration": 120,
    "start_time": "2023-10-22T10:07:21.170Z"
   },
   {
    "duration": 39,
    "start_time": "2023-10-22T10:07:21.293Z"
   },
   {
    "duration": 11,
    "start_time": "2023-10-22T10:07:21.334Z"
   },
   {
    "duration": 15,
    "start_time": "2023-10-22T10:07:21.347Z"
   },
   {
    "duration": 34,
    "start_time": "2023-10-22T10:07:21.364Z"
   },
   {
    "duration": 34,
    "start_time": "2023-10-22T10:07:21.400Z"
   },
   {
    "duration": 31,
    "start_time": "2023-10-22T10:07:21.435Z"
   },
   {
    "duration": 51,
    "start_time": "2023-10-22T10:07:21.469Z"
   },
   {
    "duration": 46,
    "start_time": "2023-10-22T10:07:21.522Z"
   },
   {
    "duration": 44,
    "start_time": "2023-10-22T10:07:21.569Z"
   },
   {
    "duration": 43,
    "start_time": "2023-10-22T10:07:21.614Z"
   },
   {
    "duration": 47,
    "start_time": "2023-10-22T10:07:21.659Z"
   },
   {
    "duration": 40,
    "start_time": "2023-10-22T10:07:21.707Z"
   },
   {
    "duration": 55,
    "start_time": "2023-10-22T10:07:21.749Z"
   },
   {
    "duration": 54,
    "start_time": "2023-10-22T10:07:21.806Z"
   },
   {
    "duration": 32,
    "start_time": "2023-10-22T10:07:21.862Z"
   },
   {
    "duration": 54,
    "start_time": "2023-10-22T10:07:21.896Z"
   },
   {
    "duration": 24,
    "start_time": "2023-10-22T10:07:21.952Z"
   },
   {
    "duration": 38,
    "start_time": "2023-10-22T10:07:21.978Z"
   },
   {
    "duration": 455,
    "start_time": "2023-10-22T10:07:22.018Z"
   },
   {
    "duration": 1095,
    "start_time": "2023-10-22T10:07:22.475Z"
   },
   {
    "duration": 2656,
    "start_time": "2023-10-22T10:07:23.572Z"
   },
   {
    "duration": 13815,
    "start_time": "2023-10-22T10:07:26.229Z"
   },
   {
    "duration": 4,
    "start_time": "2023-10-22T10:13:58.604Z"
   },
   {
    "duration": 4,
    "start_time": "2023-10-22T10:14:19.949Z"
   },
   {
    "duration": 5,
    "start_time": "2023-10-22T10:14:25.669Z"
   },
   {
    "duration": 5,
    "start_time": "2023-10-22T10:14:38.266Z"
   },
   {
    "duration": 5,
    "start_time": "2023-10-22T10:14:43.174Z"
   },
   {
    "duration": 4,
    "start_time": "2023-10-22T10:15:53.386Z"
   },
   {
    "duration": 4,
    "start_time": "2023-10-22T10:16:06.871Z"
   },
   {
    "duration": 3,
    "start_time": "2023-10-22T10:16:21.441Z"
   },
   {
    "duration": 4,
    "start_time": "2023-10-22T10:21:41.742Z"
   },
   {
    "duration": 298,
    "start_time": "2023-10-22T10:28:51.189Z"
   },
   {
    "duration": 4,
    "start_time": "2023-10-22T10:46:02.261Z"
   },
   {
    "duration": 106,
    "start_time": "2023-10-22T10:49:07.793Z"
   },
   {
    "duration": 4,
    "start_time": "2023-10-22T10:49:44.246Z"
   },
   {
    "duration": 18,
    "start_time": "2023-10-22T10:49:51.072Z"
   },
   {
    "duration": 1097,
    "start_time": "2023-10-22T10:50:39.158Z"
   },
   {
    "duration": 3,
    "start_time": "2023-10-22T10:50:40.256Z"
   },
   {
    "duration": 65,
    "start_time": "2023-10-22T10:50:40.261Z"
   },
   {
    "duration": 33,
    "start_time": "2023-10-22T10:50:40.328Z"
   },
   {
    "duration": 26,
    "start_time": "2023-10-22T10:50:40.363Z"
   },
   {
    "duration": 9,
    "start_time": "2023-10-22T10:50:40.391Z"
   },
   {
    "duration": 16,
    "start_time": "2023-10-22T10:50:40.401Z"
   },
   {
    "duration": 16,
    "start_time": "2023-10-22T10:50:40.419Z"
   },
   {
    "duration": 22,
    "start_time": "2023-10-22T10:50:40.437Z"
   },
   {
    "duration": 20,
    "start_time": "2023-10-22T10:50:40.461Z"
   },
   {
    "duration": 9,
    "start_time": "2023-10-22T10:50:40.483Z"
   },
   {
    "duration": 33,
    "start_time": "2023-10-22T10:50:40.494Z"
   },
   {
    "duration": 16,
    "start_time": "2023-10-22T10:50:40.528Z"
   },
   {
    "duration": 13,
    "start_time": "2023-10-22T10:50:40.548Z"
   },
   {
    "duration": 48,
    "start_time": "2023-10-22T10:50:40.563Z"
   },
   {
    "duration": 41,
    "start_time": "2023-10-22T10:50:40.614Z"
   },
   {
    "duration": 122,
    "start_time": "2023-10-22T10:50:40.657Z"
   },
   {
    "duration": 35,
    "start_time": "2023-10-22T10:50:40.781Z"
   },
   {
    "duration": 54,
    "start_time": "2023-10-22T10:50:40.818Z"
   },
   {
    "duration": 44,
    "start_time": "2023-10-22T10:50:40.874Z"
   },
   {
    "duration": 42,
    "start_time": "2023-10-22T10:50:40.919Z"
   },
   {
    "duration": 10,
    "start_time": "2023-10-22T10:50:40.963Z"
   },
   {
    "duration": 34,
    "start_time": "2023-10-22T10:50:40.975Z"
   },
   {
    "duration": 40,
    "start_time": "2023-10-22T10:50:41.011Z"
   },
   {
    "duration": 32,
    "start_time": "2023-10-22T10:50:41.053Z"
   },
   {
    "duration": 410,
    "start_time": "2023-10-22T10:50:41.087Z"
   },
   {
    "duration": 1169,
    "start_time": "2023-10-22T10:50:41.499Z"
   },
   {
    "duration": 2621,
    "start_time": "2023-10-22T10:50:42.670Z"
   },
   {
    "duration": 11251,
    "start_time": "2023-10-22T10:50:45.293Z"
   },
   {
    "duration": 6,
    "start_time": "2023-10-22T10:50:56.546Z"
   },
   {
    "duration": 699,
    "start_time": "2023-10-22T10:50:56.554Z"
   },
   {
    "duration": 4,
    "start_time": "2023-10-22T10:50:57.254Z"
   },
   {
    "duration": 212,
    "start_time": "2023-10-22T10:50:57.260Z"
   },
   {
    "duration": 4,
    "start_time": "2023-10-22T10:55:56.882Z"
   },
   {
    "duration": 830,
    "start_time": "2023-10-22T10:55:58.309Z"
   },
   {
    "duration": 858,
    "start_time": "2023-10-22T10:56:08.153Z"
   },
   {
    "duration": 3,
    "start_time": "2023-10-22T11:00:33.971Z"
   },
   {
    "duration": 4,
    "start_time": "2023-10-22T11:03:45.585Z"
   },
   {
    "duration": 5,
    "start_time": "2023-10-22T11:05:24.102Z"
   },
   {
    "duration": 13,
    "start_time": "2023-10-22T11:05:53.533Z"
   },
   {
    "duration": 16,
    "start_time": "2023-10-22T11:06:21.115Z"
   },
   {
    "duration": 4,
    "start_time": "2023-10-22T11:06:28.452Z"
   },
   {
    "duration": 14,
    "start_time": "2023-10-22T11:06:29.526Z"
   },
   {
    "duration": 20,
    "start_time": "2023-10-22T11:06:46.179Z"
   },
   {
    "duration": 12,
    "start_time": "2023-10-22T11:07:11.514Z"
   },
   {
    "duration": 348,
    "start_time": "2023-10-22T11:08:14.651Z"
   },
   {
    "duration": 291,
    "start_time": "2023-10-22T11:10:18.064Z"
   },
   {
    "duration": 836,
    "start_time": "2023-10-22T11:10:49.201Z"
   },
   {
    "duration": 331,
    "start_time": "2023-10-22T11:11:39.115Z"
   },
   {
    "duration": 135,
    "start_time": "2023-10-22T11:14:44.971Z"
   },
   {
    "duration": 4,
    "start_time": "2023-10-22T11:14:54.948Z"
   },
   {
    "duration": 863,
    "start_time": "2023-10-22T11:16:34.949Z"
   },
   {
    "duration": 3,
    "start_time": "2023-10-22T11:18:01.366Z"
   },
   {
    "duration": 8,
    "start_time": "2023-10-22T11:21:22.443Z"
   },
   {
    "duration": 432,
    "start_time": "2023-10-22T11:21:34.080Z"
   },
   {
    "duration": 4,
    "start_time": "2023-10-22T11:23:35.967Z"
   },
   {
    "duration": 24,
    "start_time": "2023-10-22T11:26:20.401Z"
   },
   {
    "duration": 64,
    "start_time": "2023-10-22T11:26:27.279Z"
   },
   {
    "duration": 1412,
    "start_time": "2023-10-23T18:09:40.167Z"
   },
   {
    "duration": 4,
    "start_time": "2023-10-23T18:09:41.582Z"
   },
   {
    "duration": 226,
    "start_time": "2023-10-23T18:09:41.589Z"
   },
   {
    "duration": 54,
    "start_time": "2023-10-23T18:09:41.818Z"
   },
   {
    "duration": 31,
    "start_time": "2023-10-23T18:09:41.874Z"
   },
   {
    "duration": 19,
    "start_time": "2023-10-23T18:09:41.907Z"
   },
   {
    "duration": 22,
    "start_time": "2023-10-23T18:09:41.931Z"
   },
   {
    "duration": 38,
    "start_time": "2023-10-23T18:09:41.955Z"
   },
   {
    "duration": 36,
    "start_time": "2023-10-23T18:09:41.994Z"
   },
   {
    "duration": 41,
    "start_time": "2023-10-23T18:09:42.033Z"
   },
   {
    "duration": 25,
    "start_time": "2023-10-23T18:09:42.076Z"
   },
   {
    "duration": 72,
    "start_time": "2023-10-23T18:09:42.104Z"
   },
   {
    "duration": 45,
    "start_time": "2023-10-23T18:09:42.179Z"
   },
   {
    "duration": 20,
    "start_time": "2023-10-23T18:09:42.226Z"
   },
   {
    "duration": 23,
    "start_time": "2023-10-23T18:09:42.249Z"
   },
   {
    "duration": 29,
    "start_time": "2023-10-23T18:09:42.274Z"
   },
   {
    "duration": 50,
    "start_time": "2023-10-23T18:09:42.305Z"
   },
   {
    "duration": 11,
    "start_time": "2023-10-23T18:09:42.358Z"
   },
   {
    "duration": 33,
    "start_time": "2023-10-23T18:09:42.371Z"
   },
   {
    "duration": 30,
    "start_time": "2023-10-23T18:09:42.406Z"
   },
   {
    "duration": 47,
    "start_time": "2023-10-23T18:09:42.439Z"
   },
   {
    "duration": 6,
    "start_time": "2023-10-23T18:09:42.488Z"
   },
   {
    "duration": 557,
    "start_time": "2023-10-23T18:09:42.495Z"
   },
   {
    "duration": 1377,
    "start_time": "2023-10-23T18:09:43.054Z"
   },
   {
    "duration": 2819,
    "start_time": "2023-10-23T18:09:44.434Z"
   },
   {
    "duration": 7812,
    "start_time": "2023-10-23T18:09:47.255Z"
   },
   {
    "duration": 94,
    "start_time": "2023-10-23T18:09:55.074Z"
   },
   {
    "duration": 356,
    "start_time": "2023-10-23T18:09:55.171Z"
   },
   {
    "duration": 4,
    "start_time": "2023-10-23T18:09:55.531Z"
   },
   {
    "duration": 36,
    "start_time": "2023-10-23T18:09:55.537Z"
   },
   {
    "duration": 981,
    "start_time": "2023-10-23T18:09:55.575Z"
   },
   {
    "duration": 19,
    "start_time": "2023-10-23T18:09:56.558Z"
   },
   {
    "duration": 33,
    "start_time": "2023-10-23T18:09:56.580Z"
   },
   {
    "duration": 449,
    "start_time": "2023-10-23T18:09:56.615Z"
   },
   {
    "duration": 5,
    "start_time": "2023-10-23T18:09:57.067Z"
   },
   {
    "duration": 1106,
    "start_time": "2023-10-23T18:09:57.074Z"
   },
   {
    "duration": 4,
    "start_time": "2023-10-23T18:09:58.183Z"
   },
   {
    "duration": 75,
    "start_time": "2023-10-23T18:09:58.190Z"
   },
   {
    "duration": 1336,
    "start_time": "2023-10-24T10:08:29.985Z"
   },
   {
    "duration": 3,
    "start_time": "2023-10-24T10:08:31.323Z"
   },
   {
    "duration": 216,
    "start_time": "2023-10-24T10:08:31.328Z"
   },
   {
    "duration": 34,
    "start_time": "2023-10-24T10:08:31.546Z"
   },
   {
    "duration": 31,
    "start_time": "2023-10-24T10:08:31.583Z"
   },
   {
    "duration": 32,
    "start_time": "2023-10-24T10:08:31.616Z"
   },
   {
    "duration": 35,
    "start_time": "2023-10-24T10:08:31.649Z"
   },
   {
    "duration": 48,
    "start_time": "2023-10-24T10:08:31.686Z"
   },
   {
    "duration": 59,
    "start_time": "2023-10-24T10:08:31.736Z"
   },
   {
    "duration": 124,
    "start_time": "2023-10-24T10:08:31.797Z"
   },
   {
    "duration": 242,
    "start_time": "2023-10-24T10:08:31.922Z"
   },
   {
    "duration": 57,
    "start_time": "2023-10-24T10:08:32.165Z"
   },
   {
    "duration": 62,
    "start_time": "2023-10-24T10:08:32.224Z"
   },
   {
    "duration": 67,
    "start_time": "2023-10-24T10:08:32.289Z"
   },
   {
    "duration": 149,
    "start_time": "2023-10-24T10:08:32.357Z"
   },
   {
    "duration": 88,
    "start_time": "2023-10-24T10:08:32.507Z"
   },
   {
    "duration": 47,
    "start_time": "2023-10-24T10:08:32.597Z"
   },
   {
    "duration": 40,
    "start_time": "2023-10-24T10:08:32.646Z"
   },
   {
    "duration": 299,
    "start_time": "2023-10-24T10:08:32.688Z"
   },
   {
    "duration": 261,
    "start_time": "2023-10-24T10:08:32.989Z"
   },
   {
    "duration": 292,
    "start_time": "2023-10-24T10:08:33.252Z"
   },
   {
    "duration": 20,
    "start_time": "2023-10-24T10:08:33.546Z"
   },
   {
    "duration": 795,
    "start_time": "2023-10-24T10:08:33.568Z"
   },
   {
    "duration": 1925,
    "start_time": "2023-10-24T10:08:34.365Z"
   },
   {
    "duration": 2955,
    "start_time": "2023-10-24T10:08:36.292Z"
   },
   {
    "duration": 9007,
    "start_time": "2023-10-24T10:08:39.256Z"
   },
   {
    "duration": 96,
    "start_time": "2023-10-24T10:08:48.265Z"
   },
   {
    "duration": 408,
    "start_time": "2023-10-24T10:08:48.364Z"
   },
   {
    "duration": 5,
    "start_time": "2023-10-24T10:08:48.774Z"
   },
   {
    "duration": 28,
    "start_time": "2023-10-24T10:08:48.781Z"
   },
   {
    "duration": 1019,
    "start_time": "2023-10-24T10:08:48.812Z"
   },
   {
    "duration": 4,
    "start_time": "2023-10-24T10:08:49.833Z"
   },
   {
    "duration": 34,
    "start_time": "2023-10-24T10:08:49.839Z"
   },
   {
    "duration": 399,
    "start_time": "2023-10-24T10:08:49.875Z"
   },
   {
    "duration": 4,
    "start_time": "2023-10-24T10:08:50.276Z"
   },
   {
    "duration": 1191,
    "start_time": "2023-10-24T10:08:50.282Z"
   },
   {
    "duration": 4,
    "start_time": "2023-10-24T10:08:51.475Z"
   },
   {
    "duration": 120,
    "start_time": "2023-10-24T10:08:51.481Z"
   },
   {
    "duration": 5,
    "start_time": "2023-10-24T10:15:03.645Z"
   },
   {
    "duration": 118,
    "start_time": "2023-10-24T10:18:16.225Z"
   },
   {
    "duration": 11,
    "start_time": "2023-10-24T10:18:32.311Z"
   },
   {
    "duration": 9,
    "start_time": "2023-10-24T10:18:40.991Z"
   },
   {
    "duration": 9,
    "start_time": "2023-10-24T10:19:23.546Z"
   },
   {
    "duration": 13,
    "start_time": "2023-10-24T10:19:42.931Z"
   },
   {
    "duration": 1380,
    "start_time": "2023-10-24T10:19:56.836Z"
   },
   {
    "duration": 3,
    "start_time": "2023-10-24T10:19:58.218Z"
   },
   {
    "duration": 156,
    "start_time": "2023-10-24T10:19:58.222Z"
   },
   {
    "duration": 89,
    "start_time": "2023-10-24T10:19:58.380Z"
   },
   {
    "duration": 30,
    "start_time": "2023-10-24T10:19:58.471Z"
   },
   {
    "duration": 32,
    "start_time": "2023-10-24T10:19:58.502Z"
   },
   {
    "duration": 72,
    "start_time": "2023-10-24T10:19:58.536Z"
   },
   {
    "duration": 65,
    "start_time": "2023-10-24T10:19:58.610Z"
   },
   {
    "duration": 82,
    "start_time": "2023-10-24T10:19:58.678Z"
   },
   {
    "duration": 69,
    "start_time": "2023-10-24T10:19:58.763Z"
   },
   {
    "duration": 7,
    "start_time": "2023-10-24T10:19:58.835Z"
   },
   {
    "duration": 60,
    "start_time": "2023-10-24T10:19:58.845Z"
   },
   {
    "duration": 13,
    "start_time": "2023-10-24T10:19:58.907Z"
   },
   {
    "duration": 44,
    "start_time": "2023-10-24T10:19:58.925Z"
   },
   {
    "duration": 33,
    "start_time": "2023-10-24T10:19:58.972Z"
   },
   {
    "duration": 66,
    "start_time": "2023-10-24T10:19:59.008Z"
   },
   {
    "duration": 65,
    "start_time": "2023-10-24T10:19:59.076Z"
   },
   {
    "duration": 73,
    "start_time": "2023-10-24T10:19:59.143Z"
   },
   {
    "duration": 47,
    "start_time": "2023-10-24T10:19:59.219Z"
   },
   {
    "duration": 44,
    "start_time": "2023-10-24T10:19:59.268Z"
   },
   {
    "duration": 40,
    "start_time": "2023-10-24T10:19:59.316Z"
   },
   {
    "duration": 22,
    "start_time": "2023-10-24T10:19:59.358Z"
   },
   {
    "duration": 11,
    "start_time": "2023-10-24T10:19:59.382Z"
   },
   {
    "duration": 547,
    "start_time": "2023-10-24T10:19:59.396Z"
   },
   {
    "duration": 1360,
    "start_time": "2023-10-24T10:19:59.958Z"
   },
   {
    "duration": 3009,
    "start_time": "2023-10-24T10:20:01.320Z"
   },
   {
    "duration": 3131,
    "start_time": "2023-10-24T10:20:04.331Z"
   },
   {
    "duration": 94,
    "start_time": "2023-10-24T10:20:07.464Z"
   },
   {
    "duration": 807,
    "start_time": "2023-10-24T10:20:07.560Z"
   },
   {
    "duration": 4,
    "start_time": "2023-10-24T10:20:08.369Z"
   },
   {
    "duration": 35,
    "start_time": "2023-10-24T10:20:08.375Z"
   },
   {
    "duration": 1638,
    "start_time": "2023-10-24T10:20:08.412Z"
   },
   {
    "duration": 5,
    "start_time": "2023-10-24T10:20:10.057Z"
   },
   {
    "duration": 66,
    "start_time": "2023-10-24T10:20:10.064Z"
   },
   {
    "duration": 475,
    "start_time": "2023-10-24T10:20:10.133Z"
   },
   {
    "duration": 5,
    "start_time": "2023-10-24T10:20:10.610Z"
   },
   {
    "duration": 995,
    "start_time": "2023-10-24T10:20:10.617Z"
   },
   {
    "duration": 3,
    "start_time": "2023-10-24T10:20:11.614Z"
   },
   {
    "duration": 67,
    "start_time": "2023-10-24T10:20:11.619Z"
   },
   {
    "duration": 125,
    "start_time": "2023-10-24T10:20:27.240Z"
   },
   {
    "duration": 117,
    "start_time": "2023-10-24T10:20:42.990Z"
   },
   {
    "duration": 1262,
    "start_time": "2023-10-24T10:20:53.055Z"
   },
   {
    "duration": 4,
    "start_time": "2023-10-24T10:20:54.320Z"
   },
   {
    "duration": 63,
    "start_time": "2023-10-24T10:20:54.326Z"
   },
   {
    "duration": 34,
    "start_time": "2023-10-24T10:20:54.391Z"
   },
   {
    "duration": 12,
    "start_time": "2023-10-24T10:20:54.428Z"
   },
   {
    "duration": 25,
    "start_time": "2023-10-24T10:20:54.442Z"
   },
   {
    "duration": 10,
    "start_time": "2023-10-24T10:20:54.469Z"
   },
   {
    "duration": 27,
    "start_time": "2023-10-24T10:20:54.481Z"
   },
   {
    "duration": 30,
    "start_time": "2023-10-24T10:20:54.510Z"
   },
   {
    "duration": 41,
    "start_time": "2023-10-24T10:20:54.542Z"
   },
   {
    "duration": 6,
    "start_time": "2023-10-24T10:20:54.585Z"
   },
   {
    "duration": 57,
    "start_time": "2023-10-24T10:20:54.593Z"
   },
   {
    "duration": 10,
    "start_time": "2023-10-24T10:20:54.651Z"
   },
   {
    "duration": 10,
    "start_time": "2023-10-24T10:20:54.665Z"
   },
   {
    "duration": 13,
    "start_time": "2023-10-24T10:20:54.677Z"
   },
   {
    "duration": 22,
    "start_time": "2023-10-24T10:20:54.691Z"
   },
   {
    "duration": 49,
    "start_time": "2023-10-24T10:20:54.715Z"
   },
   {
    "duration": 35,
    "start_time": "2023-10-24T10:20:54.766Z"
   },
   {
    "duration": 34,
    "start_time": "2023-10-24T10:20:54.803Z"
   },
   {
    "duration": 40,
    "start_time": "2023-10-24T10:20:54.839Z"
   },
   {
    "duration": 28,
    "start_time": "2023-10-24T10:20:54.881Z"
   },
   {
    "duration": 136,
    "start_time": "2023-10-24T10:20:54.911Z"
   },
   {
    "duration": 0,
    "start_time": "2023-10-24T10:20:55.049Z"
   },
   {
    "duration": 0,
    "start_time": "2023-10-24T10:20:55.050Z"
   },
   {
    "duration": 0,
    "start_time": "2023-10-24T10:20:55.051Z"
   },
   {
    "duration": 0,
    "start_time": "2023-10-24T10:20:55.053Z"
   },
   {
    "duration": 0,
    "start_time": "2023-10-24T10:20:55.053Z"
   },
   {
    "duration": 0,
    "start_time": "2023-10-24T10:20:55.055Z"
   },
   {
    "duration": 0,
    "start_time": "2023-10-24T10:20:55.056Z"
   },
   {
    "duration": 0,
    "start_time": "2023-10-24T10:20:55.057Z"
   },
   {
    "duration": 0,
    "start_time": "2023-10-24T10:20:55.058Z"
   },
   {
    "duration": 0,
    "start_time": "2023-10-24T10:20:55.059Z"
   },
   {
    "duration": 0,
    "start_time": "2023-10-24T10:20:55.060Z"
   },
   {
    "duration": 0,
    "start_time": "2023-10-24T10:20:55.062Z"
   },
   {
    "duration": 0,
    "start_time": "2023-10-24T10:20:55.062Z"
   },
   {
    "duration": 0,
    "start_time": "2023-10-24T10:20:55.063Z"
   },
   {
    "duration": 0,
    "start_time": "2023-10-24T10:20:55.064Z"
   },
   {
    "duration": 0,
    "start_time": "2023-10-24T10:20:55.065Z"
   },
   {
    "duration": 0,
    "start_time": "2023-10-24T10:20:55.067Z"
   },
   {
    "duration": 21,
    "start_time": "2023-10-24T10:21:14.916Z"
   },
   {
    "duration": 17,
    "start_time": "2023-10-24T10:21:36.611Z"
   },
   {
    "duration": 20,
    "start_time": "2023-10-24T10:22:00.811Z"
   },
   {
    "duration": 119,
    "start_time": "2023-10-24T10:22:20.950Z"
   },
   {
    "duration": 10,
    "start_time": "2023-10-24T10:22:34.599Z"
   },
   {
    "duration": 5,
    "start_time": "2023-10-24T10:22:39.318Z"
   },
   {
    "duration": 27,
    "start_time": "2023-10-24T10:24:37.232Z"
   },
   {
    "duration": 31,
    "start_time": "2023-10-24T10:24:46.712Z"
   },
   {
    "duration": 28,
    "start_time": "2023-10-24T10:24:57.145Z"
   },
   {
    "duration": 5,
    "start_time": "2023-10-24T10:26:34.910Z"
   },
   {
    "duration": 452,
    "start_time": "2023-10-24T10:26:41.190Z"
   },
   {
    "duration": 1206,
    "start_time": "2023-10-24T10:26:53.735Z"
   },
   {
    "duration": 2991,
    "start_time": "2023-10-24T10:26:58.516Z"
   },
   {
    "duration": 3587,
    "start_time": "2023-10-24T10:27:07.470Z"
   },
   {
    "duration": 6,
    "start_time": "2023-10-24T10:27:14.636Z"
   },
   {
    "duration": 400,
    "start_time": "2023-10-24T10:27:18.740Z"
   },
   {
    "duration": 5,
    "start_time": "2023-10-24T10:27:24.380Z"
   },
   {
    "duration": 15,
    "start_time": "2023-10-24T10:27:26.240Z"
   },
   {
    "duration": 969,
    "start_time": "2023-10-24T10:27:27.846Z"
   },
   {
    "duration": 4,
    "start_time": "2023-10-24T10:27:31.952Z"
   },
   {
    "duration": 13,
    "start_time": "2023-10-24T10:27:32.660Z"
   },
   {
    "duration": 352,
    "start_time": "2023-10-24T10:27:34.901Z"
   },
   {
    "duration": 5,
    "start_time": "2023-10-24T10:27:37.980Z"
   },
   {
    "duration": 950,
    "start_time": "2023-10-24T10:27:45.649Z"
   },
   {
    "duration": 5,
    "start_time": "2023-10-24T10:27:48.871Z"
   },
   {
    "duration": 3,
    "start_time": "2023-10-24T10:29:08.406Z"
   },
   {
    "duration": 1325,
    "start_time": "2023-10-24T10:29:24.226Z"
   },
   {
    "duration": 3,
    "start_time": "2023-10-24T10:29:25.556Z"
   },
   {
    "duration": 55,
    "start_time": "2023-10-24T10:29:25.561Z"
   },
   {
    "duration": 35,
    "start_time": "2023-10-24T10:29:25.618Z"
   },
   {
    "duration": 12,
    "start_time": "2023-10-24T10:29:25.655Z"
   },
   {
    "duration": 5,
    "start_time": "2023-10-24T10:29:25.669Z"
   },
   {
    "duration": 15,
    "start_time": "2023-10-24T10:29:25.675Z"
   },
   {
    "duration": 23,
    "start_time": "2023-10-24T10:29:25.692Z"
   },
   {
    "duration": 12,
    "start_time": "2023-10-24T10:29:25.717Z"
   },
   {
    "duration": 43,
    "start_time": "2023-10-24T10:29:25.731Z"
   },
   {
    "duration": 7,
    "start_time": "2023-10-24T10:29:25.776Z"
   },
   {
    "duration": 40,
    "start_time": "2023-10-24T10:29:25.784Z"
   },
   {
    "duration": 14,
    "start_time": "2023-10-24T10:29:25.825Z"
   },
   {
    "duration": 27,
    "start_time": "2023-10-24T10:29:25.842Z"
   },
   {
    "duration": 18,
    "start_time": "2023-10-24T10:29:25.871Z"
   },
   {
    "duration": 64,
    "start_time": "2023-10-24T10:29:25.890Z"
   },
   {
    "duration": 29,
    "start_time": "2023-10-24T10:29:25.956Z"
   },
   {
    "duration": 19,
    "start_time": "2023-10-24T10:29:25.987Z"
   },
   {
    "duration": 45,
    "start_time": "2023-10-24T10:29:26.008Z"
   },
   {
    "duration": 28,
    "start_time": "2023-10-24T10:29:26.055Z"
   },
   {
    "duration": 30,
    "start_time": "2023-10-24T10:29:26.085Z"
   },
   {
    "duration": 11,
    "start_time": "2023-10-24T10:29:26.117Z"
   },
   {
    "duration": 33,
    "start_time": "2023-10-24T10:29:26.130Z"
   },
   {
    "duration": 496,
    "start_time": "2023-10-24T10:29:26.165Z"
   },
   {
    "duration": 1271,
    "start_time": "2023-10-24T10:29:26.662Z"
   },
   {
    "duration": 3027,
    "start_time": "2023-10-24T10:29:27.935Z"
   },
   {
    "duration": 8393,
    "start_time": "2023-10-24T10:29:30.965Z"
   },
   {
    "duration": 97,
    "start_time": "2023-10-24T10:29:39.361Z"
   },
   {
    "duration": 332,
    "start_time": "2023-10-24T10:29:39.460Z"
   },
   {
    "duration": 4,
    "start_time": "2023-10-24T10:29:39.794Z"
   },
   {
    "duration": 21,
    "start_time": "2023-10-24T10:29:39.800Z"
   },
   {
    "duration": 1665,
    "start_time": "2023-10-24T10:29:39.823Z"
   },
   {
    "duration": 5,
    "start_time": "2023-10-24T10:29:41.490Z"
   },
   {
    "duration": 70,
    "start_time": "2023-10-24T10:29:41.496Z"
   },
   {
    "duration": 655,
    "start_time": "2023-10-24T10:29:41.568Z"
   },
   {
    "duration": 4,
    "start_time": "2023-10-24T10:29:42.225Z"
   },
   {
    "duration": 1016,
    "start_time": "2023-10-24T10:29:42.230Z"
   },
   {
    "duration": 3,
    "start_time": "2023-10-24T10:29:43.256Z"
   },
   {
    "duration": 78,
    "start_time": "2023-10-24T10:29:43.261Z"
   },
   {
    "duration": 55,
    "start_time": "2023-10-24T10:32:48.140Z"
   },
   {
    "duration": 463,
    "start_time": "2023-10-24T10:32:51.975Z"
   },
   {
    "duration": 473,
    "start_time": "2023-10-24T10:34:37.486Z"
   },
   {
    "duration": 1268,
    "start_time": "2023-10-24T10:35:43.775Z"
   },
   {
    "duration": 2906,
    "start_time": "2023-10-24T10:36:35.270Z"
   },
   {
    "duration": 8417,
    "start_time": "2023-10-24T10:37:36.646Z"
   },
   {
    "duration": 4,
    "start_time": "2023-10-24T10:38:07.895Z"
   },
   {
    "duration": 1299,
    "start_time": "2023-10-24T10:39:00.204Z"
   },
   {
    "duration": 8392,
    "start_time": "2023-10-24T10:39:14.665Z"
   },
   {
    "duration": 479,
    "start_time": "2023-10-24T10:39:34.018Z"
   },
   {
    "duration": 1374,
    "start_time": "2023-10-24T10:39:45.675Z"
   },
   {
    "duration": 2957,
    "start_time": "2023-10-24T10:40:04.175Z"
   },
   {
    "duration": 9071,
    "start_time": "2023-10-24T10:40:18.600Z"
   },
   {
    "duration": 5,
    "start_time": "2023-10-24T10:40:51.215Z"
   },
   {
    "duration": 5,
    "start_time": "2023-10-24T10:42:42.657Z"
   },
   {
    "duration": 5,
    "start_time": "2023-10-24T10:42:54.928Z"
   },
   {
    "duration": 367,
    "start_time": "2023-10-24T10:44:48.181Z"
   },
   {
    "duration": 1085,
    "start_time": "2023-10-24T10:45:44.451Z"
   },
   {
    "duration": 423,
    "start_time": "2023-10-24T10:46:38.223Z"
   },
   {
    "duration": 6,
    "start_time": "2023-10-24T10:47:02.873Z"
   },
   {
    "duration": 981,
    "start_time": "2023-10-24T10:48:07.555Z"
   },
   {
    "duration": 6,
    "start_time": "2023-10-24T10:48:09.915Z"
   },
   {
    "duration": 61,
    "start_time": "2023-10-24T10:48:13.515Z"
   },
   {
    "duration": 5767,
    "start_time": "2023-10-24T14:56:04.796Z"
   },
   {
    "duration": 14,
    "start_time": "2023-10-24T14:56:10.573Z"
   },
   {
    "duration": 255,
    "start_time": "2023-10-24T14:56:10.595Z"
   },
   {
    "duration": 68,
    "start_time": "2023-10-24T14:56:10.852Z"
   },
   {
    "duration": 12,
    "start_time": "2023-10-24T14:56:10.922Z"
   },
   {
    "duration": 47,
    "start_time": "2023-10-24T14:56:10.936Z"
   },
   {
    "duration": 25,
    "start_time": "2023-10-24T14:56:10.986Z"
   },
   {
    "duration": 107,
    "start_time": "2023-10-24T14:56:11.013Z"
   },
   {
    "duration": 91,
    "start_time": "2023-10-24T14:56:11.122Z"
   },
   {
    "duration": 90,
    "start_time": "2023-10-24T14:56:11.215Z"
   },
   {
    "duration": 7,
    "start_time": "2023-10-24T14:56:11.309Z"
   },
   {
    "duration": 80,
    "start_time": "2023-10-24T14:56:11.318Z"
   },
   {
    "duration": 14,
    "start_time": "2023-10-24T14:56:11.404Z"
   },
   {
    "duration": 87,
    "start_time": "2023-10-24T14:56:11.421Z"
   },
   {
    "duration": 81,
    "start_time": "2023-10-24T14:56:11.510Z"
   },
   {
    "duration": 46,
    "start_time": "2023-10-24T14:56:11.593Z"
   },
   {
    "duration": 82,
    "start_time": "2023-10-24T14:56:11.641Z"
   },
   {
    "duration": 67,
    "start_time": "2023-10-24T14:56:11.726Z"
   },
   {
    "duration": 43,
    "start_time": "2023-10-24T14:56:11.796Z"
   },
   {
    "duration": 48,
    "start_time": "2023-10-24T14:56:11.841Z"
   },
   {
    "duration": 36,
    "start_time": "2023-10-24T14:56:11.890Z"
   },
   {
    "duration": 16,
    "start_time": "2023-10-24T14:56:11.928Z"
   },
   {
    "duration": 18,
    "start_time": "2023-10-24T14:56:15.117Z"
   },
   {
    "duration": 176,
    "start_time": "2023-10-24T14:56:27.949Z"
   },
   {
    "duration": 7,
    "start_time": "2023-10-24T14:56:31.604Z"
   },
   {
    "duration": 25,
    "start_time": "2023-10-24T14:56:31.789Z"
   },
   {
    "duration": 1220,
    "start_time": "2023-10-24T14:56:34.592Z"
   },
   {
    "duration": 13,
    "start_time": "2023-10-24T14:56:37.065Z"
   },
   {
    "duration": 18,
    "start_time": "2023-10-24T14:56:41.210Z"
   },
   {
    "duration": 52,
    "start_time": "2023-10-24T14:56:49.083Z"
   },
   {
    "duration": 1164,
    "start_time": "2023-10-24T14:56:54.229Z"
   },
   {
    "duration": 4,
    "start_time": "2023-10-24T14:56:56.618Z"
   },
   {
    "duration": 20,
    "start_time": "2023-10-24T14:57:00.714Z"
   },
   {
    "duration": 10,
    "start_time": "2023-10-24T14:57:03.689Z"
   },
   {
    "duration": 14,
    "start_time": "2023-10-24T14:57:03.930Z"
   },
   {
    "duration": 1209,
    "start_time": "2023-10-24T14:57:06.922Z"
   },
   {
    "duration": 4,
    "start_time": "2023-10-24T14:57:09.027Z"
   }
  ],
  "kernelspec": {
   "display_name": "Python 3 (ipykernel)",
   "language": "python",
   "name": "python3"
  },
  "language_info": {
   "codemirror_mode": {
    "name": "ipython",
    "version": 3
   },
   "file_extension": ".py",
   "mimetype": "text/x-python",
   "name": "python",
   "nbconvert_exporter": "python",
   "pygments_lexer": "ipython3",
   "version": "3.11.5"
  },
  "toc": {
   "base_numbering": 1,
   "nav_menu": {},
   "number_sections": true,
   "sideBar": true,
   "skip_h1_title": true,
   "title_cell": "Содержание",
   "title_sidebar": "Contents",
   "toc_cell": true,
   "toc_position": {
    "height": "calc(100% - 180px)",
    "left": "10px",
    "top": "150px",
    "width": "275px"
   },
   "toc_section_display": true,
   "toc_window_display": true
  }
 },
 "nbformat": 4,
 "nbformat_minor": 2
}
