{
 "cells": [
  {
   "cell_type": "markdown",
   "metadata": {},
   "source": [
    "Привет! меня зовут Люман Аблаев. Сегодня я проверю твой проект.\n",
    "<br> Дальнейшее общение будет происходить на \"ты\" если это не вызывает никаких проблем.\n",
    "<br> Желательно реагировать на красные комментарии ('исправил', 'не понятно как исправить ошибку', ...)\n",
    "<br> Пожалуйста, не удаляй комментарии ревьюера, так как они повышают качество повторного ревью.\n",
    "\n",
    "Комментарии будут в <font color='green'>зеленой</font>, <font color='blue'>синей</font> или <font color='red'>красной</font> рамках:\n",
    "\n",
    "\n",
    "<div class=\"alert alert-block alert-success\">\n",
    "<b>Успех:</b> Если все сделано отлично\n",
    "</div>\n",
    "\n",
    "<div class=\"alert alert-block alert-info\">\n",
    "<b>Совет: </b> Если можно немного улучшить\n",
    "</div>\n",
    "\n",
    "<div class=\"alert alert-block alert-danger\">\n",
    "<b>Ошибка:</b> Если требуются исправления. Работа не может быть принята с красными комментариями.\n",
    "</div>\n",
    "\n",
    "-------------------\n",
    "\n",
    "Будет очень хорошо, если ты будешь помечать свои действия следующим образом:\n",
    "<div class=\"alert alert-block alert-warning\">\n",
    "<b>Комментарий студента:</b> ..\n",
    "</div>\n",
    "<div class=\"alert alert-block alert-warning\">\n",
    "<b>Изменения:</b> Были внесены следующие изменения ...\n",
    "</div>\n",
    "\n",
    "<font color='orange' style='font-size:24px; font-weight:bold'>Полезные ссылки</font>\n",
    "* Очень интересная и полезная статья: https://dyakonov.org/2021/05/27/imbalance/\n",
    "\n",
    "<font color='orange' style='font-size:24px; font-weight:bold'>Общее впечатление</font>\n",
    "* Спасибо за  качественную работу, видно, что приложено много усилий.\n",
    "- Я оставил некоторые советы, надеюсь они будут полезными или интересными.\n",
    "- Есть некоторые недочеты, которые нужно поправить, но у тебя это не должно занять много времени)\n",
    "- Жду обновленную работу\n"
   ]
  },
  {
   "cell_type": "markdown",
   "metadata": {},
   "source": [
    "<font color='orange' style='font-size:24px; font-weight:bold'>Общее впечатление[2]</font>\n",
    "* Спасибо за оперативность\n",
    "- Приятно видеть фидбек \n",
    "- Недочеты исправлены - работа полностью корректна\n",
    "- Рад был быть полезен. Удачи в дальнейшем обучении!\n"
   ]
  },
  {
   "cell_type": "markdown",
   "metadata": {
    "toc": true
   },
   "source": [
    "<h1>Содержание<span class=\"tocSkip\"></span></h1>\n",
    "<div class=\"toc\"><ul class=\"toc-item\"><li><span><a href=\"#Подключение-библиотек\" data-toc-modified-id=\"Подключение-библиотек-1\"><span class=\"toc-item-num\">1&nbsp;&nbsp;</span>Подключение библиотек</a></span></li><li><span><a href=\"#Подготовка-данных\" data-toc-modified-id=\"Подготовка-данных-2\"><span class=\"toc-item-num\">2&nbsp;&nbsp;</span>Подготовка данных</a></span><ul class=\"toc-item\"><li><span><a href=\"#Предобработка-данных\" data-toc-modified-id=\"Предобработка-данных-2.1\"><span class=\"toc-item-num\">2.1&nbsp;&nbsp;</span>Предобработка данных</a></span></li><li><span><a href=\"#Разделение-признаков-и-целевого-признака\" data-toc-modified-id=\"Разделение-признаков-и-целевого-признака-2.2\"><span class=\"toc-item-num\">2.2&nbsp;&nbsp;</span>Разделение признаков и целевого признака</a></span></li><li><span><a href=\"#Прямое-кодирование-(OHE)\" data-toc-modified-id=\"Прямое-кодирование-(OHE)-2.3\"><span class=\"toc-item-num\">2.3&nbsp;&nbsp;</span>Прямое кодирование (OHE)</a></span></li><li><span><a href=\"#Разделение-выборок\" data-toc-modified-id=\"Разделение-выборок-2.4\"><span class=\"toc-item-num\">2.4&nbsp;&nbsp;</span>Разделение выборок</a></span></li><li><span><a href=\"#Масштабирование-тренировочных-данных\" data-toc-modified-id=\"Масштабирование-тренировочных-данных-2.5\"><span class=\"toc-item-num\">2.5&nbsp;&nbsp;</span>Масштабирование тренировочных данных</a></span></li></ul></li><li><span><a href=\"#Исследование-задачи\" data-toc-modified-id=\"Исследование-задачи-3\"><span class=\"toc-item-num\">3&nbsp;&nbsp;</span>Исследование задачи</a></span><ul class=\"toc-item\"><li><span><a href=\"#Исследование-баланса-классов\" data-toc-modified-id=\"Исследование-баланса-классов-3.1\"><span class=\"toc-item-num\">3.1&nbsp;&nbsp;</span>Исследование баланса классов</a></span></li><li><span><a href=\"#Исследование-моделей-без-учёта-дисбаланса\" data-toc-modified-id=\"Исследование-моделей-без-учёта-дисбаланса-3.2\"><span class=\"toc-item-num\">3.2&nbsp;&nbsp;</span>Исследование моделей без учёта дисбаланса</a></span><ul class=\"toc-item\"><li><span><a href=\"#Решающее-дерево\" data-toc-modified-id=\"Решающее-дерево-3.2.1\"><span class=\"toc-item-num\">3.2.1&nbsp;&nbsp;</span>Решающее дерево</a></span></li><li><span><a href=\"#Случайный-лес\" data-toc-modified-id=\"Случайный-лес-3.2.2\"><span class=\"toc-item-num\">3.2.2&nbsp;&nbsp;</span>Случайный лес</a></span></li><li><span><a href=\"#Логистическая-регрессия\" data-toc-modified-id=\"Логистическая-регрессия-3.2.3\"><span class=\"toc-item-num\">3.2.3&nbsp;&nbsp;</span>Логистическая регрессия</a></span></li></ul></li><li><span><a href=\"#Лучший-вариант-модели\" data-toc-modified-id=\"Лучший-вариант-модели-3.3\"><span class=\"toc-item-num\">3.3&nbsp;&nbsp;</span>Лучший вариант модели</a></span></li></ul></li><li><span><a href=\"#Борьба-с-дисбалансом\" data-toc-modified-id=\"Борьба-с-дисбалансом-4\"><span class=\"toc-item-num\">4&nbsp;&nbsp;</span>Борьба с дисбалансом</a></span><ul class=\"toc-item\"><li><span><a href=\"#Взвешивание\" data-toc-modified-id=\"Взвешивание-4.1\"><span class=\"toc-item-num\">4.1&nbsp;&nbsp;</span>Взвешивание</a></span></li><li><span><a href=\"#Увеличение-выборки\" data-toc-modified-id=\"Увеличение-выборки-4.2\"><span class=\"toc-item-num\">4.2&nbsp;&nbsp;</span>Увеличение выборки</a></span></li><li><span><a href=\"#Уменьшение-выборки\" data-toc-modified-id=\"Уменьшение-выборки-4.3\"><span class=\"toc-item-num\">4.3&nbsp;&nbsp;</span>Уменьшение выборки</a></span></li><li><span><a href=\"#Лучший-вариант-борьбы\" data-toc-modified-id=\"Лучший-вариант-борьбы-4.4\"><span class=\"toc-item-num\">4.4&nbsp;&nbsp;</span>Лучший вариант борьбы</a></span></li></ul></li><li><span><a href=\"#Тестирование-модели\" data-toc-modified-id=\"Тестирование-модели-5\"><span class=\"toc-item-num\">5&nbsp;&nbsp;</span>Тестирование модели</a></span><ul class=\"toc-item\"><li><span><a href=\"#Проверка-метрики-f1\" data-toc-modified-id=\"Проверка-метрики-f1-5.1\"><span class=\"toc-item-num\">5.1&nbsp;&nbsp;</span>Проверка метрики f1</a></span></li><li><span><a href=\"#Исследование-AUC-ROC\" data-toc-modified-id=\"Исследование-AUC-ROC-5.2\"><span class=\"toc-item-num\">5.2&nbsp;&nbsp;</span>Исследование AUC-ROC</a></span></li></ul></li><li><span><a href=\"#Чек-лист-готовности-проекта\" data-toc-modified-id=\"Чек-лист-готовности-проекта-6\"><span class=\"toc-item-num\">6&nbsp;&nbsp;</span>Чек-лист готовности проекта</a></span></li><li><span><a href=\"#Выводы\" data-toc-modified-id=\"Выводы-7\"><span class=\"toc-item-num\">7&nbsp;&nbsp;</span>Выводы</a></span><ul class=\"toc-item\"><li><span><a href=\"#Были-предобработаны-данные-следующим-образом:\" data-toc-modified-id=\"Были-предобработаны-данные-следующим-образом:-7.1\"><span class=\"toc-item-num\">7.1&nbsp;&nbsp;</span>Были предобработаны данные следующим образом:</a></span><ul class=\"toc-item\"><li><span><a href=\"#Пропуски:\" data-toc-modified-id=\"Пропуски:-7.1.1\"><span class=\"toc-item-num\">7.1.1&nbsp;&nbsp;</span>Пропуски:</a></span></li><li><span><a href=\"#Кодирование:\" data-toc-modified-id=\"Кодирование:-7.1.2\"><span class=\"toc-item-num\">7.1.2&nbsp;&nbsp;</span>Кодирование:</a></span></li></ul></li><li><span><a href=\"#В-ходе-анализа-были-получены-следующие-результаты:\" data-toc-modified-id=\"В-ходе-анализа-были-получены-следующие-результаты:-7.2\"><span class=\"toc-item-num\">7.2&nbsp;&nbsp;</span>В ходе анализа были получены следующие результаты:</a></span></li><li><span><a href=\"#Конечный-результат\" data-toc-modified-id=\"Конечный-результат-7.3\"><span class=\"toc-item-num\">7.3&nbsp;&nbsp;</span>Конечный результат</a></span></li></ul></li></ul></div>"
   ]
  },
  {
   "cell_type": "markdown",
   "metadata": {},
   "source": [
    "# Отток клиентов"
   ]
  },
  {
   "cell_type": "markdown",
   "metadata": {},
   "source": [
    "Из «Бета-Банка» стали уходить клиенты. Каждый месяц. Немного, но заметно. Банковские маркетологи посчитали: сохранять текущих клиентов дешевле, чем привлекать новых.\n",
    "\n",
    "Нужно спрогнозировать, уйдёт клиент из банка в ближайшее время или нет. Вам предоставлены исторические данные о поведении клиентов и расторжении договоров с банком. \n",
    "\n",
    "Постройте модель с предельно большим значением *F1*-меры. Чтобы сдать проект успешно, нужно довести метрику до 0.59. Проверьте *F1*-меру на тестовой выборке самостоятельно.\n",
    "\n",
    "Дополнительно измеряйте *AUC-ROC*, сравнивайте её значение с *F1*-мерой.\n",
    "\n",
    "Источник данных: [https://www.kaggle.com/barelydedicated/bank-customer-churn-modeling](https://www.kaggle.com/barelydedicated/bank-customer-churn-modeling)"
   ]
  },
  {
   "cell_type": "markdown",
   "metadata": {},
   "source": [
    "# Проект: \"Отток клиентов\""
   ]
  },
  {
   "cell_type": "markdown",
   "metadata": {},
   "source": [
    "###### Поставленная задача (цель проекта):\n",
    "- построить модель, которая будет прогнозировать уйдёт клиент из банка в ближайшее время или нет, с предельно большим значением F1-меры (не менее 0.59);\n",
    "- измерять AUC-ROC и сравнивать её значение с F1-мерой.\n",
    "\n",
    "\n",
    "###### Имеется информация о (датафрейм):\n",
    "\n",
    "- клиентах «Бета-Банка»"
   ]
  },
  {
   "cell_type": "markdown",
   "metadata": {},
   "source": [
    "## Подключение библиотек"
   ]
  },
  {
   "cell_type": "code",
   "execution_count": null,
   "metadata": {},
   "outputs": [],
   "source": [
    "import pandas as pd\n",
    "from sklearn.model_selection import train_test_split\n",
    "from sklearn.tree import DecisionTreeClassifier\n",
    "from sklearn.metrics import f1_score, roc_auc_score\n",
    "from sklearn.ensemble import RandomForestClassifier\n",
    "from sklearn.linear_model import LogisticRegression\n",
    "from sklearn.utils import shuffle\n",
    "from sklearn.preprocessing import StandardScaler"
   ]
  },
  {
   "cell_type": "code",
   "execution_count": null,
   "metadata": {},
   "outputs": [],
   "source": [
    "pd.set_option('display.max_columns', None)"
   ]
  },
  {
   "cell_type": "markdown",
   "metadata": {},
   "source": [
    "\n",
    "<div class=\"alert alert-block alert-success\">\n",
    "<b>Успех:</b> Импорты на месте\n",
    "</div>"
   ]
  },
  {
   "cell_type": "markdown",
   "metadata": {},
   "source": [
    "## Подготовка данных"
   ]
  },
  {
   "cell_type": "markdown",
   "metadata": {},
   "source": [
    "### Предобработка данных"
   ]
  },
  {
   "cell_type": "code",
   "execution_count": null,
   "metadata": {},
   "outputs": [],
   "source": [
    "data = pd.read_csv('/datasets/Churn.csv')"
   ]
  },
  {
   "cell_type": "code",
   "execution_count": null,
   "metadata": {},
   "outputs": [],
   "source": [
    "display(data.head())\n",
    "print()\n",
    "data.info()"
   ]
  },
  {
   "cell_type": "markdown",
   "metadata": {},
   "source": [
    "<div class=\"alert alert-secondary\" role=\"alert\">\n",
    "<b>Заметка:</b>\n",
    "<br> датафрейм состоит из 14 колонок и 10000 строк. \n",
    "    \n",
    "1) Есть пропуски в колонке 'Tenure' - возможно, пропуски стоят у тех клиентов, у которых еще нет полных лет \"присутствия\" в банке.\n",
    "    \n",
    "2) Типы данных, в целом, пойдут\n",
    "    \n",
    "    \n",
    "    В датафрейме представленны следующие колонки:\n",
    "    \n",
    "- RowNumber — индекс строки в данных;\n",
    "- CustomerId — уникальный идентификатор клиента;\n",
    "- Surname — фамилия;\n",
    "- CreditScore — кредитный рейтинг;\n",
    "- Geography — страна проживания;\n",
    "- Gender — пол;\n",
    "- Age — возраст;\n",
    "- Tenure — сколько лет человек является клиентом банка;\n",
    "- Balance — баланс на счёте;\n",
    "- NumOfProducts — количество продуктов банка, используемых клиентом;\n",
    "- HasCrCard — наличие кредитной карты;\n",
    "- IsActiveMember — активность клиента;\n",
    "- EstimatedSalary — предполагаемая зарплата;\n",
    "- Exited — факт ухода клиента.\n",
    " \n",
    "Колонка 'Exited' является целевым признаком, а остальные - просто признаками\n",
    "</div>"
   ]
  },
  {
   "cell_type": "code",
   "execution_count": null,
   "metadata": {},
   "outputs": [],
   "source": [
    "data.duplicated().sum()"
   ]
  },
  {
   "cell_type": "code",
   "execution_count": null,
   "metadata": {},
   "outputs": [],
   "source": [
    "data['CustomerId'].duplicated().sum()"
   ]
  },
  {
   "cell_type": "markdown",
   "metadata": {},
   "source": [
    "<div class=\"alert alert-secondary\" role=\"alert\">\n",
    "<b>Заметка:</b>\n",
    "<br> полных дубликатов и дубликатов по Id нет\n",
    "    \n",
    "</div>"
   ]
  },
  {
   "cell_type": "code",
   "execution_count": null,
   "metadata": {},
   "outputs": [],
   "source": [
    "data['Gender'].unique()"
   ]
  },
  {
   "cell_type": "markdown",
   "metadata": {},
   "source": [
    "<div class=\"alert alert-secondary\" role=\"alert\">\n",
    "<b>Заметка:</b>\n",
    "<br> в колонке 'Gender' \"лишних\" значений нет\n",
    "    \n",
    "</div>"
   ]
  },
  {
   "cell_type": "code",
   "execution_count": null,
   "metadata": {},
   "outputs": [],
   "source": [
    "data['Age'].describe()"
   ]
  },
  {
   "cell_type": "markdown",
   "metadata": {},
   "source": [
    "<div class=\"alert alert-secondary\" role=\"alert\">\n",
    "<b>Заметка:</b>\n",
    "<br> в колонке 'Age' представлены клиенты в возрасте от 18 до 92 лет. Аномальных значений не наблюдается. В основном клиенты банка в возрасте до 45 лет.\n",
    "</div>\n"
   ]
  },
  {
   "cell_type": "code",
   "execution_count": null,
   "metadata": {},
   "outputs": [],
   "source": [
    "data['Tenure'].describe()"
   ]
  },
  {
   "cell_type": "markdown",
   "metadata": {},
   "source": [
    "<div class=\"alert alert-secondary\" role=\"alert\">\n",
    "<b>Заметка:</b>\n",
    "<br> клиенты пользуются банком от 0 до 10 лет. В среднем длительность сотрудничества составляет 5 лет. В значениях столбца 'Tenure' присутствует 0, значит, предположение о пропусках для клиентов, кто пользуется банком меньше 1 года, неверно\n",
    "</div>\n"
   ]
  },
  {
   "cell_type": "code",
   "execution_count": null,
   "metadata": {},
   "outputs": [],
   "source": [
    "data[data['Tenure'].isna()]"
   ]
  },
  {
   "cell_type": "code",
   "execution_count": null,
   "metadata": {},
   "outputs": [],
   "source": [
    "print(f'Количество пропусков в столбце Tenure: {data[\"Tenure\"].isna().sum()}')\n",
    "print()\n",
    "print(f'Процент пропусков от общего числа данных: {round(((data[\"Tenure\"].isna().sum())/(data[\"Tenure\"].count()))*100)} %')"
   ]
  },
  {
   "cell_type": "code",
   "execution_count": null,
   "metadata": {
    "scrolled": true
   },
   "outputs": [],
   "source": [
    "data = data.dropna()\n",
    "data.info()"
   ]
  },
  {
   "cell_type": "markdown",
   "metadata": {},
   "source": [
    "<div class=\"alert alert-block alert-info\">\n",
    "<b>Совет:</b> Пропуски проанализированы и решение обработать их таким образом - допустимое . Но мне кажется, что можно не терять данные, а так как природа пропусков неизвестна можно заполнить их случайными числами, чтобы не влиять на распределение или использовать медиану .\n",
    "</div>"
   ]
  },
  {
   "cell_type": "markdown",
   "metadata": {},
   "source": [
    "<div class=\"alert alert-block alert-warning\">\n",
    "<b>Комментарий студента:</b> \n",
    "    Случайные числа или медиана разве не исказят распределения данных?\n",
    "   \n",
    "</div>"
   ]
  },
  {
   "cell_type": "markdown",
   "metadata": {},
   "source": [
    "\n",
    "\n",
    "<div class=\"alert alert-block alert-success\">\n",
    "<b>Успех[2]:</b> Минимально.\n",
    "</div>\n"
   ]
  },
  {
   "cell_type": "markdown",
   "metadata": {},
   "source": [
    "<div class=\"alert alert-secondary\" role=\"alert\">\n",
    "<b>Заметка:</b>\n",
    "<br> пропуски столбца 'Tenure' составляют 10 %, считаю, что их можно удалить\n",
    "</div>\n"
   ]
  },
  {
   "cell_type": "code",
   "execution_count": null,
   "metadata": {},
   "outputs": [],
   "source": [
    "data['Balance'].describe()"
   ]
  },
  {
   "cell_type": "markdown",
   "metadata": {},
   "source": [
    "<div class=\"alert alert-secondary\" role=\"alert\">\n",
    "<b>Заметка:</b>\n",
    "<br> аномальных значений (например, отрицательных) не наблюдается. Пустые счета вполне могут быть :(\n",
    "</div>\n"
   ]
  },
  {
   "cell_type": "code",
   "execution_count": null,
   "metadata": {},
   "outputs": [],
   "source": [
    "data['NumOfProducts'].describe()"
   ]
  },
  {
   "cell_type": "markdown",
   "metadata": {},
   "source": [
    "<div class=\"alert alert-secondary\" role=\"alert\">\n",
    "<b>Заметка:</b>\n",
    "<br> аномальных значений не наблюдается. У клиентов, в основном 1 - 2 продукта банка. Максимум - 4\n",
    "</div>\n"
   ]
  },
  {
   "cell_type": "code",
   "execution_count": null,
   "metadata": {},
   "outputs": [],
   "source": [
    "data['EstimatedSalary'].describe()"
   ]
  },
  {
   "cell_type": "markdown",
   "metadata": {},
   "source": [
    "<div class=\"alert alert-secondary\" role=\"alert\">\n",
    "<b>Заметка:</b>\n",
    "<br> в столбце 'EstimatedSalary' есть минимальное значение -  11.58, что выглядит аномально. Возможно, ошиблись в порядке, когда вносили данные в базу. Трогать не буду\n",
    "</div>\n"
   ]
  },
  {
   "cell_type": "markdown",
   "metadata": {},
   "source": [
    "\n",
    "<div class=\"alert alert-block alert-info\">\n",
    "<b>Совет:</b>  Советую обратить внимание на библиотеки sweetviz и pandas_profiling помогут в проведении более тщательного EDA анализа. Исследовательский анализ можно делать и с помощью ручного вызова функций дефолтных библиотек. Данные библиотеки хороши для максимизации комфорта презентации результатов анализа бизнес-пользователям. \n",
    "    \n",
    "Очень просты в использоовании, на вход кладется датафрейм: pandas_profiling.ProfileReport(df) \n",
    "\n",
    "</div>"
   ]
  },
  {
   "cell_type": "markdown",
   "metadata": {},
   "source": [
    "<div class=\"alert alert-block alert-warning\">\n",
    "<b>Комментарий студента:</b> Спасибо, ознакомлюсь)\n",
    "</div>"
   ]
  },
  {
   "cell_type": "markdown",
   "metadata": {},
   "source": [
    "<div class=\"alert alert-block alert-success\">\n",
    "    \n",
    "<b>Успех[2]:</b> Главное во время обучения не злоупотреблять, чтобы руки не забыл как делать EDA анализ)\n",
    "</div>"
   ]
  },
  {
   "cell_type": "markdown",
   "metadata": {},
   "source": [
    "### Разделение признаков и целевого признака"
   ]
  },
  {
   "cell_type": "code",
   "execution_count": null,
   "metadata": {},
   "outputs": [],
   "source": [
    "features = data.drop(['RowNumber','CustomerId','Surname','Exited'], axis=1)\n",
    "target = data['Exited']\n",
    "\n",
    "display(features.head())\n",
    "print()\n",
    "target.head()"
   ]
  },
  {
   "cell_type": "markdown",
   "metadata": {},
   "source": [
    "<div class=\"alert alert-block alert-success\">\n",
    "<b>Успех:</b> Удалить неинформативные признаки - верное решение.\n",
    "</div>"
   ]
  },
  {
   "cell_type": "markdown",
   "metadata": {},
   "source": [
    "<div class=\"alert alert-secondary\" role=\"alert\">\n",
    "<b>Заметка:</b>\n",
    "<br> данные разделены на признаки (столбцы за исключением тех, которые не влияют факт ухода клиента) и целевой признак - 'Exited'\n",
    "    \n",
    "</div>"
   ]
  },
  {
   "cell_type": "markdown",
   "metadata": {},
   "source": [
    "### Прямое кодирование (OHE)"
   ]
  },
  {
   "cell_type": "code",
   "execution_count": null,
   "metadata": {
    "scrolled": true
   },
   "outputs": [],
   "source": [
    "features = pd.get_dummies(features, drop_first=True)\n",
    "features.head()"
   ]
  },
  {
   "cell_type": "markdown",
   "metadata": {},
   "source": [
    "<div class=\"alert alert-block alert-success\">\n",
    "<b>Успех:</b>  Прямое кодирование - хороший выбор, молодец, что не забываешь про drop_first. Но советую в будущем обратить внимание на инструмент OneHotEncoder от sklearn\n",
    "</div>\n"
   ]
  },
  {
   "cell_type": "markdown",
   "metadata": {},
   "source": [
    "<div class=\"alert alert-block alert-warning\">\n",
    "<b>Комментарий студента:</b> Принято к сведению\n",
    "</div>"
   ]
  },
  {
   "cell_type": "markdown",
   "metadata": {},
   "source": [
    "<div class=\"alert alert-secondary\" role=\"alert\">\n",
    "<b>Заметка:</b>\n",
    "<br> закодированы столбцы 'Geography' и 'Gender' прямым кодированием\n",
    "</div>\n"
   ]
  },
  {
   "cell_type": "markdown",
   "metadata": {},
   "source": [
    "### Разделение выборок"
   ]
  },
  {
   "cell_type": "code",
   "execution_count": null,
   "metadata": {},
   "outputs": [],
   "source": [
    "features_train, features_val_and_test, target_train, target_val_and_test = \\\n",
    "train_test_split(features, target, test_size=0.4, random_state=777)\n",
    "\n",
    "features_val, features_test, target_val, target_test = \\\n",
    "train_test_split(features_val_and_test, target_val_and_test, test_size=0.5, random_state=777)"
   ]
  },
  {
   "cell_type": "code",
   "execution_count": null,
   "metadata": {},
   "outputs": [],
   "source": [
    "display(features_train.head())\n",
    "print()\n",
    "display(features_train.info())"
   ]
  },
  {
   "cell_type": "code",
   "execution_count": null,
   "metadata": {},
   "outputs": [],
   "source": [
    "display(features_val.head())\n",
    "print()\n",
    "display(features_val.info())"
   ]
  },
  {
   "cell_type": "code",
   "execution_count": null,
   "metadata": {},
   "outputs": [],
   "source": [
    "display(features_val.head())\n",
    "print()\n",
    "display(features_test.info())"
   ]
  },
  {
   "cell_type": "markdown",
   "metadata": {},
   "source": [
    "<div class=\"alert alert-secondary\" role=\"alert\">\n",
    "<b>Заметка:</b>\n",
    "<br> получены три новых датафрейма (тренировочный, валидационный и тестовый) в соотношении 6:2:2. Датафреймы пропусков не содержат, имеют по 11 колонок, 5454 строк в тренировочном датафрейме, 1818 - в валидационном и 1819 - в тестовом\n",
    "    \n",
    "</div>"
   ]
  },
  {
   "cell_type": "markdown",
   "metadata": {},
   "source": [
    "<div class=\"alert alert-block alert-info\">\n",
    "<b>Совет:</b> После разбиения неплохо было бы масштабировать данные\n",
    "</div>\n",
    "\n"
   ]
  },
  {
   "cell_type": "markdown",
   "metadata": {},
   "source": [
    "<div class=\"alert alert-block alert-warning\">\n",
    "<b>Комментарий студента:</b> После масштабирования как-то резко ухудшились значения f1\n",
    "</div>"
   ]
  },
  {
   "cell_type": "markdown",
   "metadata": {},
   "source": [
    "<div class=\"alert alert-block alert-info\">\n",
    "<b>Совет[2]:</b> Не наблюдаю такого, возможно ты выполнял код не по-порядку и это могло как-то исказиться на результатах. Я с масштабированными данными получил на тесте оценку не хуже текущей.\n",
    "</div>\n",
    "\n"
   ]
  },
  {
   "cell_type": "markdown",
   "metadata": {},
   "source": [
    "### Масштабирование тренировочных данных"
   ]
  },
  {
   "cell_type": "code",
   "execution_count": null,
   "metadata": {},
   "outputs": [],
   "source": [
    "#numeric = ['CreditScore', 'Age', 'Tenure', 'Balance', 'NumOfProducts', 'EstimatedSalary']\n",
    "#scaler = StandardScaler()\n",
    "#scaler.fit(features_train[numeric])\n",
    "\n",
    "#features_train[numeric] = scaler.transform(features_train[numeric])\n",
    "#features_val[numeric] = scaler.transform(features_val[numeric])\n",
    "#features_test[numeric] = scaler.transform(features_test[numeric])\n",
    "\n",
    "#pd.options.mode.chained_assignment=None"
   ]
  },
  {
   "cell_type": "markdown",
   "metadata": {},
   "source": [
    "## Исследование задачи"
   ]
  },
  {
   "cell_type": "markdown",
   "metadata": {},
   "source": [
    "### Исследование баланса классов"
   ]
  },
  {
   "cell_type": "code",
   "execution_count": null,
   "metadata": {},
   "outputs": [],
   "source": [
    "print(f'Количество значений положительного класса: {(target == 1).sum()}')\n",
    "print()\n",
    "print(f'Количество значений отрицательного класса: {(target == 0).sum()}')"
   ]
  },
  {
   "cell_type": "markdown",
   "metadata": {},
   "source": [
    "<div class=\"alert alert-secondary\" role=\"alert\">\n",
    "<b>Заметка:</b>\n",
    "<br> классы не сбалансированы. Их соотношение составляет примерно 2:8\n",
    "</div>\n"
   ]
  },
  {
   "cell_type": "markdown",
   "metadata": {},
   "source": [
    "\n",
    "<div class=\"alert alert-block alert-success\">\n",
    "<b>Успех:</b> дисбаланс обнаружен\n",
    "</div>"
   ]
  },
  {
   "cell_type": "markdown",
   "metadata": {},
   "source": [
    "### Исследование моделей без учёта дисбаланса"
   ]
  },
  {
   "cell_type": "markdown",
   "metadata": {},
   "source": [
    "#### Решающее дерево"
   ]
  },
  {
   "cell_type": "code",
   "execution_count": null,
   "metadata": {},
   "outputs": [],
   "source": [
    "best_depth = 0\n",
    "best_result_f1_tree = 0\n",
    "\n",
    "\n",
    "for depth in range(1, 20):\n",
    "    model = DecisionTreeClassifier(max_depth=depth, random_state=777)\n",
    "    model.fit(features_train, target_train)\n",
    "    pred_val = model.predict(features_val)\n",
    "    result_f1 = f1_score(target_val, pred_val)\n",
    "    print(f'Максимальная глубина - {depth}, f1 = {result_f1}')\n",
    "    if best_result_f1_tree < result_f1:\n",
    "        best_result_f1_tree = result_f1\n",
    "        best_depth = depth\n",
    "        \n",
    "        probabilities_val = model.predict_proba(features_val)\n",
    "        probabilities_one_val = probabilities_val[:, 1]\n",
    "        \n",
    "        auc_roc_tree = roc_auc_score(target_val, probabilities_one_val)\n",
    "print()      \n",
    "print(f'Лучший результат f1 = {best_result_f1_tree} при глубине дерева - {best_depth}')\n",
    "print()\n",
    "print(f'Значение метрики AUC-ROC: {auc_roc_tree}')"
   ]
  },
  {
   "cell_type": "markdown",
   "metadata": {},
   "source": [
    "<div class=\"alert alert-secondary\" role=\"alert\">\n",
    "<b>Заметка:</b>\n",
    "<br> наивысший показатель качества для модели \"решающее дерево\" получен при гиперпараметре max_depth=7 и составляет 0.558, а auc-roc = 0,819\n",
    "</div>"
   ]
  },
  {
   "cell_type": "markdown",
   "metadata": {},
   "source": [
    "#### Случайный лес"
   ]
  },
  {
   "cell_type": "code",
   "execution_count": null,
   "metadata": {},
   "outputs": [],
   "source": [
    "best_depth_forest = 0\n",
    "best_result_f1_forest = 0\n",
    "\n",
    "for depth in range(1, 20):\n",
    "    model = RandomForestClassifier(n_estimators=10, max_depth=depth, random_state=777)\n",
    "    model.fit(features_train, target_train)\n",
    "    pred_val = model.predict(features_val)\n",
    "    result_f1 = f1_score(target_val, pred_val)\n",
    "    print(f'Максимальная глубина - {depth}, f1 = {result_f1}')\n",
    "    if best_result_f1_forest < result_f1:\n",
    "        best_result_f1_forest = result_f1\n",
    "        best_depth_forest = depth\n",
    "\n",
    "        probabilities_val = model.predict_proba(features_val)\n",
    "        probabilities_one_val = probabilities_val[:, 1]\n",
    "        \n",
    "        auc_roc_forest = roc_auc_score(target_val, probabilities_one_val)\n",
    "        \n",
    "        \n",
    "print()\n",
    "print(f'Лучший результат f1 = {best_result_f1_forest} при глубине дерева - {best_depth_forest}')\n",
    "print()\n",
    "print(f'Значение метрики AUC-ROC: {auc_roc_forest}')"
   ]
  },
  {
   "cell_type": "code",
   "execution_count": null,
   "metadata": {},
   "outputs": [],
   "source": [
    "best_est = 0\n",
    "best_result_f1_forest = 0\n",
    "\n",
    "for est in range(10, 100, 10):\n",
    "    model = RandomForestClassifier(n_estimators=est, max_depth=best_depth_forest, random_state=777)\n",
    "    model.fit(features_train, target_train)\n",
    "    pred_val = model.predict(features_val)\n",
    "    result_f1 = f1_score(target_val, pred_val)\n",
    "    print(f'Количество деревьев - {est}, f1 = {result_f1}')\n",
    "    if best_result_f1_forest < result_f1:\n",
    "        best_result_f1_forest = result_f1\n",
    "        best_est = est\n",
    "        \n",
    "        probabilities_val = model.predict_proba(features_val)\n",
    "        probabilities_one_val = probabilities_val[:, 1]\n",
    "        \n",
    "        auc_roc_forest = roc_auc_score(target_val, probabilities_one_val)\n",
    "        \n",
    "        \n",
    "print()\n",
    "print(f'Лучший результат f1 = {best_result_f1_forest} при количестве деревьев - {best_est}')\n",
    "print()\n",
    "print(f'Значение метрики AUC-ROC: {auc_roc_forest}')"
   ]
  },
  {
   "cell_type": "markdown",
   "metadata": {},
   "source": [
    "<div class=\"alert alert-secondary\" role=\"alert\">\n",
    "<b>Заметка:</b>\n",
    "<br> наивысший показатель качества для модели \"случайный лес\" получен при гиперпараметрах max_depth=11 и n_estimators=50, значение f1 - 0.596, а roc-auc=0,86\n",
    "</div>"
   ]
  },
  {
   "cell_type": "markdown",
   "metadata": {},
   "source": [
    "#### Логистическая регрессия"
   ]
  },
  {
   "cell_type": "code",
   "execution_count": null,
   "metadata": {},
   "outputs": [],
   "source": [
    "best_iter = 0\n",
    "best_result_f1_regr = 0\n",
    "for iteration in range(1000, 50000, 5000):\n",
    "    model = LogisticRegression(max_iter=iteration, random_state=777)\n",
    "    model.fit(features_train, target_train)\n",
    "    result_f1 = f1_score(target_val, model.predict(features_val))\n",
    "    print(f'Количество итераций - {iteration}, f1 = {result_f1}')\n",
    "    if best_result_f1_regr < result_f1:\n",
    "        best_result_f1_regr = result_f1\n",
    "        best_iter = iteration\n",
    "        \n",
    "        probabilities_val = model.predict_proba(features_val)\n",
    "        probabilities_one_val = probabilities_val[:, 1]\n",
    "        \n",
    "        auc_roc_regr = roc_auc_score(target_val, probabilities_one_val)\n",
    "        \n",
    "        \n",
    "print()\n",
    "print(f'Лучший результат f1 = {best_result_f1_regr} при количестве итераций - {best_iter}')\n",
    "print()\n",
    "print(f'Значение метрики AUC-ROC: {auc_roc_regr}')"
   ]
  },
  {
   "cell_type": "markdown",
   "metadata": {},
   "source": [
    "<div class=\"alert alert-secondary\" role=\"alert\">\n",
    "<b>Заметка:</b>\n",
    "<br> наивысший показатель качетсва для модели \"логистическая регрессия\" получен при гиперпараметре max_iter=1000 и составляет 0.087, auc-roc = 0,66\n",
    "</div>"
   ]
  },
  {
   "cell_type": "markdown",
   "metadata": {},
   "source": [
    "### Лучший вариант модели"
   ]
  },
  {
   "cell_type": "code",
   "execution_count": null,
   "metadata": {},
   "outputs": [],
   "source": [
    "if best_result_f1_tree == max([best_result_f1_tree, best_result_f1_forest, best_result_f1_regr]):\n",
    "    print(f'Лучшая модель по f1 – решающее дерево с гиперпараметром max_depth = {best_depth}')\n",
    "elif best_result_f1_forest == max([best_result_f1_tree, best_result_f1_forest, best_result_f1_regr]):\n",
    "    print(f'Лучшая модель по f1 – случайный лес с гиперпараметром n_estimators = {best_est}')\n",
    "elif best_result_f1_regr == max([best_result_f1_tree, best_result_f1_forest, best_result_f1_regr]):\n",
    "    print(f'Лучшая модель по f1 – логистическая регрессия с гиперпараметром max_iter = {best_iter}')"
   ]
  },
  {
   "cell_type": "code",
   "execution_count": null,
   "metadata": {},
   "outputs": [],
   "source": [
    "if auc_roc_tree == max([auc_roc_tree, auc_roc_forest, auc_roc_regr]):\n",
    "    print(f'Лучшая модель по auc-roc – решающее дерево')\n",
    "elif auc_roc_forest == max([auc_roc_tree, auc_roc_forest, auc_roc_regr]):\n",
    "    print(f'Лучшая модель по auc-roc – случайный лес')\n",
    "elif auc_roc_regr == max([auc_roc_tree, auc_roc_forest, auc_roc_regr]):\n",
    "    print(f'Лучшая модель по auc-roc – логистическая регрессия')"
   ]
  },
  {
   "cell_type": "markdown",
   "metadata": {},
   "source": [
    "<div class=\"alert alert-secondary\" role=\"alert\">\n",
    "<b>Заметка:</b>\n",
    "<br> Лучшая модель – \"случайный лес\" с гиперпараметрами max_depth=11 и n_estimators=50 как по f1, так и по auc-roc. Значение показателя f1 для данной модели составляет 0.596, auc-roc = 0,86\n",
    "</div>"
   ]
  },
  {
   "cell_type": "markdown",
   "metadata": {},
   "source": [
    "\n",
    "\n",
    "<div class=\"alert alert-block alert-danger\">  \n",
    "<b>Ошибка:</b> Шаг проделан хорошо, но здесь также нужно считать ROC_AUC \n",
    "\n",
    "</div>"
   ]
  },
  {
   "cell_type": "markdown",
   "metadata": {},
   "source": [
    "<div class=\"alert alert-warning\">\n",
    "<b>Комментарий студента:</b>\n",
    "<br>Посчитала\n",
    "</div>"
   ]
  },
  {
   "cell_type": "markdown",
   "metadata": {},
   "source": [
    "\n",
    "<div class=\"alert alert-block alert-success\">\n",
    "    \n",
    "<b>Успех[2]:</b> Есть\n",
    "</div>"
   ]
  },
  {
   "cell_type": "markdown",
   "metadata": {},
   "source": [
    "## Борьба с дисбалансом"
   ]
  },
  {
   "cell_type": "markdown",
   "metadata": {},
   "source": [
    "### Взвешивание"
   ]
  },
  {
   "cell_type": "code",
   "execution_count": null,
   "metadata": {},
   "outputs": [],
   "source": [
    "model = RandomForestClassifier(random_state=777, class_weight='balanced')\n",
    "model.fit(features_test, target_test)\n",
    "pred_val = model.predict(features_val)\n",
    "f1_balance = f1_score(target_val, pred_val)\n",
    "print(f'Значение метрики f1: {f1_balance}')\n",
    "\n",
    "\n",
    "probabilities_val = model.predict_proba(features_val)\n",
    "probabilities_one_val = probabilities_val[:, 1]\n",
    "        \n",
    "auc_roc = roc_auc_score(target_val, probabilities_one_val)\n",
    "\n",
    "print()\n",
    "print(f'Значение метрики AUC-ROC: {auc_roc_forest}')"
   ]
  },
  {
   "cell_type": "markdown",
   "metadata": {},
   "source": [
    "<div class=\"alert alert-secondary\" role=\"alert\">\n",
    "<b>Заметка:</b>\n",
    "<br> взвешивание ухудшило значение f1 на ~0,06, а auc-roc не изменился\n",
    "</div>\n"
   ]
  },
  {
   "cell_type": "markdown",
   "metadata": {},
   "source": [
    "### Увеличение выборки"
   ]
  },
  {
   "cell_type": "code",
   "execution_count": null,
   "metadata": {},
   "outputs": [],
   "source": [
    "def upsample(features, target, repeat):\n",
    "    features_zeros = features[target == 0]\n",
    "    features_ones = features[target == 1]\n",
    "    target_zeros = target[target == 0]\n",
    "    target_ones = target[target == 1]\n",
    "    \n",
    "    features_upcamp = pd.concat([features_zeros] + [features_ones] * repeat)\n",
    "    target_upsamp = pd.concat([target_zeros] + [target_ones] * repeat)\n",
    "    \n",
    "    features_upsamp, target_upsamp = shuffle(features_upcamp, target_upsamp, random_state=777)\n",
    "    \n",
    "    return features_upsamp, target_upsamp"
   ]
  },
  {
   "cell_type": "code",
   "execution_count": null,
   "metadata": {},
   "outputs": [],
   "source": [
    "features_train_upsamp, target_train_upsamp = upsample(features_train, target_train, 4)\n",
    "\n",
    "print(f'Количество значений положительного класса: {(target_train_upsamp == 1).sum()}')\n",
    "print()\n",
    "print(f'Количество значений отрицательного класса: {(target_train_upsamp == 0).sum()}')"
   ]
  },
  {
   "cell_type": "markdown",
   "metadata": {},
   "source": [
    "\n",
    "<div class=\"alert alert-block alert-success\">\n",
    "    \n",
    "<b>Успех:</b> Выбран правильный `repeat`\n",
    "</div>"
   ]
  },
  {
   "cell_type": "code",
   "execution_count": null,
   "metadata": {},
   "outputs": [],
   "source": [
    "model = RandomForestClassifier(random_state=777)\n",
    "model.fit(features_train_upsamp, target_train_upsamp)\n",
    "pred_val = model.predict(features_val)\n",
    "f1_upsamp = f1_score(target_val, pred_val)\n",
    "\n",
    "print(f'Значение метрики f1: {f1_upsamp}')\n",
    "\n",
    "probabilities_val = model.predict_proba(features_val)\n",
    "probabilities_one_val = probabilities_val[:, 1]\n",
    "        \n",
    "auc_roc = roc_auc_score(target_val, probabilities_one_val)\n",
    "\n",
    "print()\n",
    "print(f'Значение метрики AUC-ROC: {auc_roc_forest}')"
   ]
  },
  {
   "cell_type": "markdown",
   "metadata": {},
   "source": [
    "<div class=\"alert alert-secondary\" role=\"alert\">\n",
    "<b>Заметка:</b>\n",
    "<br> апсэмплинг позволил немного повысить значение f1 (на ~0,02), на auc-roc апсэмплинг не повлиял\n",
    "</div>"
   ]
  },
  {
   "cell_type": "markdown",
   "metadata": {},
   "source": [
    "### Уменьшение выборки"
   ]
  },
  {
   "cell_type": "code",
   "execution_count": null,
   "metadata": {},
   "outputs": [],
   "source": [
    "def downsample(features, target, fraction):\n",
    "    features_zeros = features[target == 0]\n",
    "    features_ones = features[target == 1]\n",
    "    target_zeros = target[target == 0]\n",
    "    target_ones = target[target == 1]\n",
    "    \n",
    "    features_downsamp = pd.concat([features_zeros.sample(frac=fraction, random_state=777)] + \\\n",
    "                                  [features_ones])\n",
    "    target_downsamp = pd.concat([target_zeros.sample(frac=fraction, random_state=777)] + \\\n",
    "                               [target_ones])\n",
    "    \n",
    "    features_downsamp, target_downsamp = shuffle(features_downsamp, target_downsamp, random_state=777)\n",
    "    \n",
    "    return features_downsamp, target_downsamp"
   ]
  },
  {
   "cell_type": "code",
   "execution_count": null,
   "metadata": {},
   "outputs": [],
   "source": [
    "features_train_downsamp, target_train_downsamp = downsample(features_train, target_train, 0.25)\n",
    "\n",
    "print(f'Количество значений положительного класса: {(target_train_downsamp == 1).sum()}')\n",
    "print()\n",
    "print(f'Количество значений отрицательного класса: {(target_train_downsamp == 0).sum()}')"
   ]
  },
  {
   "cell_type": "markdown",
   "metadata": {},
   "source": [
    "\n",
    "<div class=\"alert alert-block alert-success\">\n",
    "    \n",
    "<b>Успех:</b> Выбран правильный `fraction`\n",
    "</div>"
   ]
  },
  {
   "cell_type": "code",
   "execution_count": null,
   "metadata": {},
   "outputs": [],
   "source": [
    "model = RandomForestClassifier(random_state=777)\n",
    "model.fit(features_train_downsamp, target_train_downsamp)\n",
    "pred_val = model.predict(features_val)\n",
    "f1_downsamp = f1_score(target_val, pred_val)\n",
    "\n",
    "print(f'Значение метрики f1: {f1_downsamp}')\n",
    "\n",
    "probabilities_val = model.predict_proba(features_val)\n",
    "probabilities_one_val = probabilities_val[:, 1]\n",
    "        \n",
    "auc_roc = roc_auc_score(target_val, probabilities_one_val)\n",
    "\n",
    "print()\n",
    "print(f'Значение метрики AUC-ROC: {auc_roc_forest}')"
   ]
  },
  {
   "cell_type": "markdown",
   "metadata": {},
   "source": [
    "<div class=\"alert alert-secondary\" role=\"alert\">\n",
    "<b>Заметка:</b>\n",
    "<br> даунсэмплинг снизил значение f1 (на ~0,01), auc-roc не изменился\n",
    "</div>"
   ]
  },
  {
   "cell_type": "markdown",
   "metadata": {},
   "source": [
    "### Лучший вариант борьбы"
   ]
  },
  {
   "cell_type": "code",
   "execution_count": null,
   "metadata": {},
   "outputs": [],
   "source": [
    "if f1_balance == max([f1_balance, f1_upsamp, f1_downsamp]):\n",
    "    print(f'Побеждает балансирование!')\n",
    "elif f1_upsamp == max([f1_balance, f1_upsamp, f1_downsamp]):\n",
    "    print(f'Побеждает увеличение!')\n",
    "else:\n",
    "    print(f'Побеждает уменьшение!')"
   ]
  },
  {
   "cell_type": "markdown",
   "metadata": {},
   "source": [
    "<div class=\"alert alert-secondary\" role=\"alert\">\n",
    "<b>Заметка:</b>\n",
    "<br> лучшее значение f1 при апсэмплинге, а auc-roc во всех случаях не менялся. Применю его\n",
    "</div>"
   ]
  },
  {
   "cell_type": "markdown",
   "metadata": {},
   "source": [
    "<div class=\"alert alert-block alert-success\">\n",
    "<b>Успех:</b> хорошая работа с моделями машинного обучения.  Радует  достаточное количество расмотренных методов для борьбы с дисбалансом.\n",
    "\n",
    "</div>\n",
    "\n",
    "\n",
    "<div class=\"alert alert-block alert-danger\">\n",
    "<b>Ошибка:</b> Здесь также нужно считать ROC_AUC \n",
    "</div>"
   ]
  },
  {
   "cell_type": "markdown",
   "metadata": {},
   "source": [
    "<div class=\"alert alert-warning\">\n",
    "<b>Комментарий студента:</b>\n",
    "<br>Исполнено!\n",
    "</div>"
   ]
  },
  {
   "cell_type": "markdown",
   "metadata": {},
   "source": [
    "\n",
    "<div class=\"alert alert-block alert-success\">\n",
    "    \n",
    "<b>Успех[2]:</b> Есть контакт\n",
    "</div>"
   ]
  },
  {
   "cell_type": "markdown",
   "metadata": {},
   "source": [
    "## Тестирование модели"
   ]
  },
  {
   "cell_type": "markdown",
   "metadata": {},
   "source": [
    "### Проверка метрики f1"
   ]
  },
  {
   "cell_type": "code",
   "execution_count": null,
   "metadata": {},
   "outputs": [],
   "source": [
    "model = RandomForestClassifier(random_state=777)\n",
    "model.fit(features_train_upsamp, target_train_upsamp)\n",
    "pred_test = model.predict(features_test)\n",
    "f1_test = f1_score(target_test, pred_test)\n",
    "\n",
    "print(f'Значение метрики f1: {f1_test}')"
   ]
  },
  {
   "cell_type": "code",
   "execution_count": null,
   "metadata": {},
   "outputs": [],
   "source": [
    "if f1_test > 0.59:\n",
    "    print(f'ТЗ выполнено успешно – метрика f1 выше 0.59')\n",
    "else:\n",
    "    print(f'Что-то пошло не так, у меня всё было нормально')"
   ]
  },
  {
   "cell_type": "markdown",
   "metadata": {},
   "source": [
    "<div class=\"alert alert-secondary\" role=\"alert\">\n",
    "<b>Заметка:</b>\n",
    "<br> значение f1 на тестовой выборке составляет ~0.595, что превышает заданное значение 0.59\n",
    "</div>"
   ]
  },
  {
   "cell_type": "markdown",
   "metadata": {},
   "source": [
    "### Исследование AUC-ROC"
   ]
  },
  {
   "cell_type": "code",
   "execution_count": null,
   "metadata": {},
   "outputs": [],
   "source": [
    "probabilities_test = model.predict_proba(features_test)\n",
    "probabilities_one_test = probabilities_test[:, 1]\n",
    "\n",
    "auc_roc = roc_auc_score(target_test, probabilities_one_test)\n",
    "\n",
    "print(f'Значение метрики AUC-ROC: {auc_roc}')"
   ]
  },
  {
   "cell_type": "markdown",
   "metadata": {},
   "source": [
    "<div class=\"alert alert-secondary\" role=\"alert\">\n",
    "<b>Заметка:</b>\n",
    "<br> значение метрики AUC-ROC = 0.85, что весьма близко к идеальному значению - 1. Я вполне довольна. Более того, от auc-roc валидационной выборки отличается не сильно\n",
    "</div>"
   ]
  },
  {
   "cell_type": "markdown",
   "metadata": {},
   "source": [
    "\n",
    "<div class=\"alert alert-block alert-success\">\n",
    "<b>Успех:</b>  С тестированием все в порядке! Тебе удалось достичь хороших показателей метрик на тесте. \n",
    "</div> \n"
   ]
  },
  {
   "cell_type": "markdown",
   "metadata": {},
   "source": [
    "<div class=\"alert alert-warning\">\n",
    "<b>Комментарий студента:</b>\n",
    "<br>Корректно ли сравнивать значения f1 и AUC-ROC?\n",
    "</div>\n"
   ]
  },
  {
   "cell_type": "markdown",
   "metadata": {},
   "source": [
    "\n",
    "<div class=\"alert alert-block alert-success\">\n",
    "<b>Ответ:</b> Между собой? Нет некорректно. F1 нужно сравнить с F1, AUC-ROC с AUC-ROC. Данные метрики в данной работе неплохо отслеживать в динамике и в совокупности.\n",
    "</div> \n"
   ]
  },
  {
   "cell_type": "markdown",
   "metadata": {},
   "source": [
    "<div class=\"alert alert-block alert-info\">\n",
    "<b>Совет:</b>  Также добавлю, что f1 и roc_auc это отличные метрики, но нужно держать в голове, что это лишь бобщённые характеристики. А в реальной практике бизнесу часто важно знать детали самой ошибки - из каких ошибок/успехов она складывается. И в этом случае очень кстати будут меры полноты и точности. Рассмотри возможность их использования для своих проектов. Только через них можно выйти на финансовые возможности модели. Ведь перед запуском её в бой, будет сравнение стоимости создания и поддержки модели со стомостью \"оставить как есть\". Но это на будущее.\n",
    "</div>\n"
   ]
  },
  {
   "cell_type": "markdown",
   "metadata": {},
   "source": [
    "## Чек-лист готовности проекта"
   ]
  },
  {
   "cell_type": "markdown",
   "metadata": {},
   "source": [
    "Поставьте 'x' в выполненных пунктах. Далее нажмите Shift+Enter."
   ]
  },
  {
   "cell_type": "markdown",
   "metadata": {},
   "source": [
    "- [x]  Jupyter Notebook открыт\n",
    "- [x]  Весь код выполняется без ошибок\n",
    "- [x]  Ячейки с кодом расположены в порядке исполнения\n",
    "- [x]  Выполнен шаг 1: данные подготовлены\n",
    "- [x]  Выполнен шаг 2: задача исследована\n",
    "    - [x]  Исследован баланс классов\n",
    "    - [x]  Изучены модели без учёта дисбаланса\n",
    "    - [x]  Написаны выводы по результатам исследования\n",
    "- [x]  Выполнен шаг 3: учтён дисбаланс\n",
    "    - [x]  Применено несколько способов борьбы с дисбалансом\n",
    "    - [x]  Написаны выводы по результатам исследования\n",
    "- [x]  Выполнен шаг 4: проведено тестирование\n",
    "- [x]  Удалось достичь *F1*-меры не менее 0.59\n",
    "- [x]  Исследована метрика *AUC-ROC*"
   ]
  },
  {
   "cell_type": "markdown",
   "metadata": {},
   "source": [
    "## Выводы"
   ]
  },
  {
   "cell_type": "markdown",
   "metadata": {},
   "source": [
    "### Были предобработаны данные следующим образом:\n",
    "\n",
    "\n",
    "\n",
    " #### Пропуски:\n",
    "- удалены в колонке 'Tenure'\n",
    "\n",
    " #### Кодирование:\n",
    "- закодированы столбцы 'Geography' и 'Gender' прямым кодированием (OHE)\n",
    "\n",
    "\n",
    "### В ходе анализа были получены следующие результаты:\n",
    "- получены три новых датафрейма (тренировочный, валидационный и тестовый) в соотношении 6:2:2. Датафреймы пропусков не содержат, имеют по 11 колонок, 5454 строк в тренировочном датафрейме, 1818 - в валидационном и 1819 - в тестовом;\n",
    "- классы не сбалансированы. Их соотношение составляет примерно 2:8;\n",
    "- наивысший показатель качества для модели \"решающее дерево\" получен при гиперпараметре max_depth=7 и составляет 0.558, а auc-roc = 0,819;\n",
    "- наивысший показатель качества для модели \"случайный лес\" получен при гиперпараметрах max_depth=11 и n_estimators=50, значение f1 - 0.596, а roc-auc=0,86;\n",
    "- наивысший показатель качетсва для модели \"логистическая регрессия\" получен при гиперпараметре max_iter=1000 и составляет 0.087, auc-roc = 0,66;\n",
    "- лучшая модель – \"случайный лес\" с гиперпараметрами max_depth=11 и n_estimators=50. Значение показателя качества для данной модели составляет 0.596, а roc-auc=0,86;\n",
    "- взвешивание ухудшило значение f1 на ~0,06 (с 0,596 до 0,534), а auc-roc не изменился;\n",
    "- апсэмплинг позволил немного повысить значение f1 до 0,612 (на ~0,02), на auc-roc апсэмплинг не повлиял;\n",
    "- даунсэмплинг снизил значение f1 до 0,58 (на ~0,01), auc-roc не изменился;\n",
    "- лучшее значение f1 при апсэмплинге, а auc-roc во всех случаях не менялся;\n",
    "- значение f1 на тестовой выборке составляет ~0.595, что превышает заданное значение 0.59;\n",
    "- значение метрики AUC-ROC = 0.85, что весьма близко к идеальному значению - 1 и чуть ниже значения для валидационных данных (ниже на ~0,01)\n",
    "\n",
    "\n",
    "\n",
    "### Конечный результат\n",
    "Моделью с максимально большим значением f1 стал «случайный лес» с гиперпараметрами max_depth=11 и n_estimators=50 с применением upsampling. Значение accuracy составило 0.595, что превышает заданное значение - 0.59. Значение метрики AUC-ROC = 0.85"
   ]
  },
  {
   "cell_type": "markdown",
   "metadata": {},
   "source": [
    "\n",
    "<div class=\"alert alert-block alert-success\">\n",
    "<b>Успех:</b> Всегда приятно наблюдать подробный и структурированный итоговый вывод в конце работы!\n",
    "</div>\n",
    "\n",
    "<div class=\"alert alert-block alert-info\">\n",
    "<b>Совет:</b> Для понимания, а какие в итоге факторы важны при моделировании, можно выводить их важность, использую feature_importances_, ну и график заодно. Это будет смотреться очнь здорово: результативная метрика и график важности факторов)))<br> Очень ВАЖНАЯ для аналитики штука. Ведь нам не просто модель с метрикой нужна, а ещё и причины понять высокой/низкой метрики. Т.е. понять с какой силой сами факторы влияют на целевую.\n",
    "</div>"
   ]
  }
 ],
 "metadata": {
  "ExecuteTimeLog": [
   {
    "duration": 424,
    "start_time": "2023-10-16T16:20:57.597Z"
   },
   {
    "duration": 152,
    "start_time": "2023-10-16T16:22:52.754Z"
   },
   {
    "duration": 110,
    "start_time": "2023-10-16T16:23:04.399Z"
   },
   {
    "duration": 3,
    "start_time": "2023-10-16T16:29:29.718Z"
   },
   {
    "duration": 41,
    "start_time": "2023-10-16T16:29:52.425Z"
   },
   {
    "duration": 21,
    "start_time": "2023-10-16T16:29:55.614Z"
   },
   {
    "duration": 12,
    "start_time": "2023-10-16T16:39:18.119Z"
   },
   {
    "duration": 5,
    "start_time": "2023-10-16T16:40:56.114Z"
   },
   {
    "duration": 8,
    "start_time": "2023-10-16T16:52:20.296Z"
   },
   {
    "duration": 9,
    "start_time": "2023-10-16T16:52:31.354Z"
   },
   {
    "duration": 8,
    "start_time": "2023-10-16T16:52:47.303Z"
   },
   {
    "duration": 9,
    "start_time": "2023-10-16T16:54:00.850Z"
   },
   {
    "duration": 7,
    "start_time": "2023-10-16T16:54:22.893Z"
   },
   {
    "duration": 8,
    "start_time": "2023-10-16T16:54:35.100Z"
   },
   {
    "duration": 9,
    "start_time": "2023-10-16T16:55:11.836Z"
   },
   {
    "duration": 6,
    "start_time": "2023-10-16T16:55:49.235Z"
   },
   {
    "duration": 19,
    "start_time": "2023-10-16T16:56:06.489Z"
   },
   {
    "duration": 456,
    "start_time": "2023-10-18T10:02:18.931Z"
   },
   {
    "duration": 3,
    "start_time": "2023-10-18T10:02:19.389Z"
   },
   {
    "duration": 194,
    "start_time": "2023-10-18T10:02:19.393Z"
   },
   {
    "duration": 26,
    "start_time": "2023-10-18T10:02:19.590Z"
   },
   {
    "duration": 21,
    "start_time": "2023-10-18T10:02:19.618Z"
   },
   {
    "duration": 17,
    "start_time": "2023-10-18T10:02:19.640Z"
   },
   {
    "duration": 87,
    "start_time": "2023-10-18T10:02:19.659Z"
   },
   {
    "duration": 0,
    "start_time": "2023-10-18T10:02:19.749Z"
   },
   {
    "duration": 0,
    "start_time": "2023-10-18T10:02:19.750Z"
   },
   {
    "duration": 0,
    "start_time": "2023-10-18T10:02:19.753Z"
   },
   {
    "duration": 0,
    "start_time": "2023-10-18T10:02:19.754Z"
   },
   {
    "duration": 0,
    "start_time": "2023-10-18T10:02:19.756Z"
   },
   {
    "duration": 4,
    "start_time": "2023-10-18T10:02:35.586Z"
   },
   {
    "duration": 7,
    "start_time": "2023-10-18T10:02:36.397Z"
   },
   {
    "duration": 12,
    "start_time": "2023-10-18T10:02:39.559Z"
   },
   {
    "duration": 19,
    "start_time": "2023-10-18T10:02:46.576Z"
   },
   {
    "duration": 106,
    "start_time": "2023-10-18T10:04:13.673Z"
   },
   {
    "duration": 5,
    "start_time": "2023-10-18T10:05:00.682Z"
   },
   {
    "duration": 13,
    "start_time": "2023-10-18T10:05:43.916Z"
   },
   {
    "duration": 6,
    "start_time": "2023-10-18T10:05:51.031Z"
   },
   {
    "duration": 5,
    "start_time": "2023-10-18T10:06:02.470Z"
   },
   {
    "duration": 5,
    "start_time": "2023-10-18T10:06:11.574Z"
   },
   {
    "duration": 6,
    "start_time": "2023-10-18T10:06:29.276Z"
   },
   {
    "duration": 5,
    "start_time": "2023-10-18T10:06:52.079Z"
   },
   {
    "duration": 105,
    "start_time": "2023-10-18T10:07:51.636Z"
   },
   {
    "duration": 5,
    "start_time": "2023-10-18T10:08:01.502Z"
   },
   {
    "duration": 5,
    "start_time": "2023-10-18T10:08:07.422Z"
   },
   {
    "duration": 8,
    "start_time": "2023-10-18T10:08:50.997Z"
   },
   {
    "duration": 8,
    "start_time": "2023-10-18T10:09:15.972Z"
   },
   {
    "duration": 9,
    "start_time": "2023-10-18T10:09:55.022Z"
   },
   {
    "duration": 8,
    "start_time": "2023-10-18T10:10:11.478Z"
   },
   {
    "duration": 10,
    "start_time": "2023-10-18T10:10:23.076Z"
   },
   {
    "duration": 9,
    "start_time": "2023-10-18T10:10:53.296Z"
   },
   {
    "duration": 16,
    "start_time": "2023-10-18T10:12:39.670Z"
   },
   {
    "duration": 97,
    "start_time": "2023-10-18T10:15:13.119Z"
   },
   {
    "duration": 678,
    "start_time": "2023-10-18T10:15:18.571Z"
   },
   {
    "duration": 38,
    "start_time": "2023-10-18T10:16:54.685Z"
   },
   {
    "duration": 15,
    "start_time": "2023-10-18T10:17:45.708Z"
   },
   {
    "duration": 4,
    "start_time": "2023-10-18T10:18:07.828Z"
   },
   {
    "duration": 16,
    "start_time": "2023-10-18T10:18:45.576Z"
   },
   {
    "duration": 34,
    "start_time": "2023-10-18T10:22:54.672Z"
   },
   {
    "duration": 33,
    "start_time": "2023-10-18T10:23:05.890Z"
   },
   {
    "duration": 34,
    "start_time": "2023-10-18T10:23:13.576Z"
   },
   {
    "duration": 8,
    "start_time": "2023-10-18T10:23:54.511Z"
   },
   {
    "duration": 22,
    "start_time": "2023-10-18T10:24:26.981Z"
   },
   {
    "duration": 21,
    "start_time": "2023-10-18T10:24:47.586Z"
   },
   {
    "duration": 22,
    "start_time": "2023-10-18T10:25:03.997Z"
   },
   {
    "duration": 43,
    "start_time": "2023-10-18T10:30:07.230Z"
   },
   {
    "duration": 26,
    "start_time": "2023-10-18T10:37:19.789Z"
   },
   {
    "duration": 16,
    "start_time": "2023-10-18T10:39:26.406Z"
   },
   {
    "duration": 9,
    "start_time": "2023-10-18T10:39:29.705Z"
   },
   {
    "duration": 22,
    "start_time": "2023-10-18T10:39:30.350Z"
   },
   {
    "duration": 1132,
    "start_time": "2023-10-18T10:39:44.551Z"
   },
   {
    "duration": 3,
    "start_time": "2023-10-18T10:39:45.685Z"
   },
   {
    "duration": 46,
    "start_time": "2023-10-18T10:39:45.690Z"
   },
   {
    "duration": 30,
    "start_time": "2023-10-18T10:39:45.738Z"
   },
   {
    "duration": 12,
    "start_time": "2023-10-18T10:39:45.769Z"
   },
   {
    "duration": 10,
    "start_time": "2023-10-18T10:39:45.783Z"
   },
   {
    "duration": 8,
    "start_time": "2023-10-18T10:39:45.795Z"
   },
   {
    "duration": 11,
    "start_time": "2023-10-18T10:39:45.805Z"
   },
   {
    "duration": 8,
    "start_time": "2023-10-18T10:39:45.845Z"
   },
   {
    "duration": 21,
    "start_time": "2023-10-18T10:39:45.856Z"
   },
   {
    "duration": 30,
    "start_time": "2023-10-18T10:39:45.879Z"
   },
   {
    "duration": 32,
    "start_time": "2023-10-18T10:39:45.911Z"
   },
   {
    "duration": 8,
    "start_time": "2023-10-18T10:39:45.945Z"
   },
   {
    "duration": 23,
    "start_time": "2023-10-18T10:39:45.954Z"
   },
   {
    "duration": 12,
    "start_time": "2023-10-18T10:39:45.979Z"
   },
   {
    "duration": 27,
    "start_time": "2023-10-18T10:39:45.992Z"
   },
   {
    "duration": 22,
    "start_time": "2023-10-18T10:39:46.020Z"
   },
   {
    "duration": 25,
    "start_time": "2023-10-18T10:39:46.043Z"
   },
   {
    "duration": 21,
    "start_time": "2023-10-18T10:39:46.070Z"
   },
   {
    "duration": 25,
    "start_time": "2023-10-18T10:39:46.092Z"
   },
   {
    "duration": 147,
    "start_time": "2023-10-18T10:39:46.118Z"
   },
   {
    "duration": 1379,
    "start_time": "2023-10-18T10:40:36.060Z"
   },
   {
    "duration": 5,
    "start_time": "2023-10-18T10:40:58.715Z"
   },
   {
    "duration": 17,
    "start_time": "2023-10-18T10:42:02.406Z"
   },
   {
    "duration": 1185,
    "start_time": "2023-10-18T10:42:07.906Z"
   },
   {
    "duration": 3,
    "start_time": "2023-10-18T10:42:09.093Z"
   },
   {
    "duration": 48,
    "start_time": "2023-10-18T10:42:09.097Z"
   },
   {
    "duration": 33,
    "start_time": "2023-10-18T10:42:09.147Z"
   },
   {
    "duration": 11,
    "start_time": "2023-10-18T10:42:09.181Z"
   },
   {
    "duration": 6,
    "start_time": "2023-10-18T10:42:09.194Z"
   },
   {
    "duration": 47,
    "start_time": "2023-10-18T10:42:09.201Z"
   },
   {
    "duration": 9,
    "start_time": "2023-10-18T10:42:09.252Z"
   },
   {
    "duration": 9,
    "start_time": "2023-10-18T10:42:09.263Z"
   },
   {
    "duration": 32,
    "start_time": "2023-10-18T10:42:09.274Z"
   },
   {
    "duration": 7,
    "start_time": "2023-10-18T10:42:09.308Z"
   },
   {
    "duration": 18,
    "start_time": "2023-10-18T10:42:09.344Z"
   },
   {
    "duration": 9,
    "start_time": "2023-10-18T10:42:09.365Z"
   },
   {
    "duration": 8,
    "start_time": "2023-10-18T10:42:09.376Z"
   },
   {
    "duration": 7,
    "start_time": "2023-10-18T10:42:09.386Z"
   },
   {
    "duration": 4,
    "start_time": "2023-10-18T10:42:09.395Z"
   },
   {
    "duration": 16,
    "start_time": "2023-10-18T10:42:09.444Z"
   },
   {
    "duration": 23,
    "start_time": "2023-10-18T10:42:09.462Z"
   },
   {
    "duration": 25,
    "start_time": "2023-10-18T10:42:09.487Z"
   },
   {
    "duration": 43,
    "start_time": "2023-10-18T10:42:09.514Z"
   },
   {
    "duration": 23,
    "start_time": "2023-10-18T10:42:09.560Z"
   },
   {
    "duration": 151,
    "start_time": "2023-10-18T10:42:09.585Z"
   },
   {
    "duration": 1184,
    "start_time": "2023-10-19T10:18:13.061Z"
   },
   {
    "duration": 3,
    "start_time": "2023-10-19T10:18:14.248Z"
   },
   {
    "duration": 103,
    "start_time": "2023-10-19T10:18:14.253Z"
   },
   {
    "duration": 32,
    "start_time": "2023-10-19T10:18:14.358Z"
   },
   {
    "duration": 13,
    "start_time": "2023-10-19T10:18:14.393Z"
   },
   {
    "duration": 4,
    "start_time": "2023-10-19T10:18:14.408Z"
   },
   {
    "duration": 15,
    "start_time": "2023-10-19T10:18:14.414Z"
   },
   {
    "duration": 38,
    "start_time": "2023-10-19T10:18:14.430Z"
   },
   {
    "duration": 10,
    "start_time": "2023-10-19T10:18:14.470Z"
   },
   {
    "duration": 26,
    "start_time": "2023-10-19T10:18:14.481Z"
   },
   {
    "duration": 5,
    "start_time": "2023-10-19T10:18:14.508Z"
   },
   {
    "duration": 25,
    "start_time": "2023-10-19T10:18:14.514Z"
   },
   {
    "duration": 17,
    "start_time": "2023-10-19T10:18:14.541Z"
   },
   {
    "duration": 22,
    "start_time": "2023-10-19T10:18:14.560Z"
   },
   {
    "duration": 16,
    "start_time": "2023-10-19T10:18:14.583Z"
   },
   {
    "duration": 14,
    "start_time": "2023-10-19T10:18:14.601Z"
   },
   {
    "duration": 17,
    "start_time": "2023-10-19T10:18:14.617Z"
   },
   {
    "duration": 12,
    "start_time": "2023-10-19T10:18:14.636Z"
   },
   {
    "duration": 27,
    "start_time": "2023-10-19T10:18:14.650Z"
   },
   {
    "duration": 20,
    "start_time": "2023-10-19T10:18:14.679Z"
   },
   {
    "duration": 19,
    "start_time": "2023-10-19T10:18:14.702Z"
   },
   {
    "duration": 154,
    "start_time": "2023-10-19T10:18:14.722Z"
   },
   {
    "duration": 9,
    "start_time": "2023-10-19T10:20:22.129Z"
   },
   {
    "duration": 15,
    "start_time": "2023-10-19T10:20:29.401Z"
   },
   {
    "duration": 5,
    "start_time": "2023-10-19T10:20:51.140Z"
   },
   {
    "duration": 14,
    "start_time": "2023-10-19T10:21:04.413Z"
   },
   {
    "duration": 5,
    "start_time": "2023-10-19T10:21:15.709Z"
   },
   {
    "duration": 14,
    "start_time": "2023-10-19T10:21:34.683Z"
   },
   {
    "duration": 1254,
    "start_time": "2023-10-19T10:21:41.154Z"
   },
   {
    "duration": 3,
    "start_time": "2023-10-19T10:21:42.410Z"
   },
   {
    "duration": 67,
    "start_time": "2023-10-19T10:21:42.414Z"
   },
   {
    "duration": 32,
    "start_time": "2023-10-19T10:21:42.483Z"
   },
   {
    "duration": 12,
    "start_time": "2023-10-19T10:21:42.517Z"
   },
   {
    "duration": 23,
    "start_time": "2023-10-19T10:21:42.531Z"
   },
   {
    "duration": 18,
    "start_time": "2023-10-19T10:21:42.557Z"
   },
   {
    "duration": 13,
    "start_time": "2023-10-19T10:21:42.577Z"
   },
   {
    "duration": 18,
    "start_time": "2023-10-19T10:21:42.592Z"
   },
   {
    "duration": 27,
    "start_time": "2023-10-19T10:21:42.612Z"
   },
   {
    "duration": 9,
    "start_time": "2023-10-19T10:21:42.641Z"
   },
   {
    "duration": 34,
    "start_time": "2023-10-19T10:21:42.652Z"
   },
   {
    "duration": 20,
    "start_time": "2023-10-19T10:21:42.687Z"
   },
   {
    "duration": 13,
    "start_time": "2023-10-19T10:21:42.711Z"
   },
   {
    "duration": 9,
    "start_time": "2023-10-19T10:21:42.726Z"
   },
   {
    "duration": 24,
    "start_time": "2023-10-19T10:21:42.737Z"
   },
   {
    "duration": 21,
    "start_time": "2023-10-19T10:21:42.763Z"
   },
   {
    "duration": 32,
    "start_time": "2023-10-19T10:21:42.786Z"
   },
   {
    "duration": 16,
    "start_time": "2023-10-19T10:21:42.819Z"
   },
   {
    "duration": 25,
    "start_time": "2023-10-19T10:21:42.837Z"
   },
   {
    "duration": 42,
    "start_time": "2023-10-19T10:21:42.863Z"
   },
   {
    "duration": 20,
    "start_time": "2023-10-19T10:21:42.907Z"
   },
   {
    "duration": 132,
    "start_time": "2023-10-19T10:21:42.929Z"
   },
   {
    "duration": 14,
    "start_time": "2023-10-19T10:22:05.982Z"
   },
   {
    "duration": 4,
    "start_time": "2023-10-19T10:22:08.043Z"
   },
   {
    "duration": 1153,
    "start_time": "2023-10-19T10:22:12.795Z"
   },
   {
    "duration": 4,
    "start_time": "2023-10-19T10:22:13.950Z"
   },
   {
    "duration": 84,
    "start_time": "2023-10-19T10:22:13.955Z"
   },
   {
    "duration": 37,
    "start_time": "2023-10-19T10:22:14.041Z"
   },
   {
    "duration": 14,
    "start_time": "2023-10-19T10:22:14.080Z"
   },
   {
    "duration": 23,
    "start_time": "2023-10-19T10:22:14.096Z"
   },
   {
    "duration": 33,
    "start_time": "2023-10-19T10:22:14.121Z"
   },
   {
    "duration": 52,
    "start_time": "2023-10-19T10:22:14.156Z"
   },
   {
    "duration": 9,
    "start_time": "2023-10-19T10:22:14.210Z"
   },
   {
    "duration": 22,
    "start_time": "2023-10-19T10:22:14.222Z"
   },
   {
    "duration": 6,
    "start_time": "2023-10-19T10:22:14.246Z"
   },
   {
    "duration": 50,
    "start_time": "2023-10-19T10:22:14.254Z"
   },
   {
    "duration": 11,
    "start_time": "2023-10-19T10:22:14.306Z"
   },
   {
    "duration": 8,
    "start_time": "2023-10-19T10:22:14.319Z"
   },
   {
    "duration": 19,
    "start_time": "2023-10-19T10:22:14.329Z"
   },
   {
    "duration": 18,
    "start_time": "2023-10-19T10:22:14.350Z"
   },
   {
    "duration": 7,
    "start_time": "2023-10-19T10:22:14.370Z"
   },
   {
    "duration": 17,
    "start_time": "2023-10-19T10:22:14.378Z"
   },
   {
    "duration": 44,
    "start_time": "2023-10-19T10:22:14.397Z"
   },
   {
    "duration": 27,
    "start_time": "2023-10-19T10:22:14.442Z"
   },
   {
    "duration": 81,
    "start_time": "2023-10-19T10:22:14.471Z"
   },
   {
    "duration": 19,
    "start_time": "2023-10-19T10:22:14.554Z"
   },
   {
    "duration": 143,
    "start_time": "2023-10-19T10:22:14.575Z"
   },
   {
    "duration": 9,
    "start_time": "2023-10-19T10:22:31.021Z"
   },
   {
    "duration": 11,
    "start_time": "2023-10-19T10:22:40.674Z"
   },
   {
    "duration": 1201,
    "start_time": "2023-10-19T10:22:46.967Z"
   },
   {
    "duration": 5,
    "start_time": "2023-10-19T10:22:48.170Z"
   },
   {
    "duration": 48,
    "start_time": "2023-10-19T10:22:48.177Z"
   },
   {
    "duration": 34,
    "start_time": "2023-10-19T10:22:48.227Z"
   },
   {
    "duration": 12,
    "start_time": "2023-10-19T10:22:48.263Z"
   },
   {
    "duration": 8,
    "start_time": "2023-10-19T10:22:48.277Z"
   },
   {
    "duration": 18,
    "start_time": "2023-10-19T10:22:48.287Z"
   },
   {
    "duration": 32,
    "start_time": "2023-10-19T10:22:48.307Z"
   },
   {
    "duration": 18,
    "start_time": "2023-10-19T10:22:48.341Z"
   },
   {
    "duration": 36,
    "start_time": "2023-10-19T10:22:48.361Z"
   },
   {
    "duration": 14,
    "start_time": "2023-10-19T10:22:48.398Z"
   },
   {
    "duration": 25,
    "start_time": "2023-10-19T10:22:48.414Z"
   },
   {
    "duration": 22,
    "start_time": "2023-10-19T10:22:48.440Z"
   },
   {
    "duration": 20,
    "start_time": "2023-10-19T10:22:48.464Z"
   },
   {
    "duration": 10,
    "start_time": "2023-10-19T10:22:48.486Z"
   },
   {
    "duration": 988,
    "start_time": "2023-10-19T10:22:48.497Z"
   },
   {
    "duration": 2837,
    "start_time": "2023-10-19T10:22:49.487Z"
   },
   {
    "duration": 0,
    "start_time": "2023-10-19T10:22:52.326Z"
   },
   {
    "duration": 0,
    "start_time": "2023-10-19T10:22:52.327Z"
   },
   {
    "duration": 0,
    "start_time": "2023-10-19T10:22:52.328Z"
   },
   {
    "duration": 0,
    "start_time": "2023-10-19T10:22:52.330Z"
   },
   {
    "duration": 0,
    "start_time": "2023-10-19T10:22:52.330Z"
   },
   {
    "duration": 0,
    "start_time": "2023-10-19T10:22:52.331Z"
   },
   {
    "duration": 1201,
    "start_time": "2023-10-19T10:24:59.905Z"
   },
   {
    "duration": 2,
    "start_time": "2023-10-19T10:25:01.108Z"
   },
   {
    "duration": 140,
    "start_time": "2023-10-19T10:25:01.112Z"
   },
   {
    "duration": 33,
    "start_time": "2023-10-19T10:25:01.254Z"
   },
   {
    "duration": 34,
    "start_time": "2023-10-19T10:25:01.289Z"
   },
   {
    "duration": 36,
    "start_time": "2023-10-19T10:25:01.325Z"
   },
   {
    "duration": 61,
    "start_time": "2023-10-19T10:25:01.363Z"
   },
   {
    "duration": 49,
    "start_time": "2023-10-19T10:25:01.426Z"
   },
   {
    "duration": 43,
    "start_time": "2023-10-19T10:25:01.477Z"
   },
   {
    "duration": 52,
    "start_time": "2023-10-19T10:25:01.524Z"
   },
   {
    "duration": 92,
    "start_time": "2023-10-19T10:25:01.578Z"
   },
   {
    "duration": 61,
    "start_time": "2023-10-19T10:25:01.672Z"
   },
   {
    "duration": 41,
    "start_time": "2023-10-19T10:25:01.735Z"
   },
   {
    "duration": 85,
    "start_time": "2023-10-19T10:25:01.778Z"
   },
   {
    "duration": 91,
    "start_time": "2023-10-19T10:25:01.865Z"
   },
   {
    "duration": 23,
    "start_time": "2023-10-19T10:25:01.957Z"
   },
   {
    "duration": 47,
    "start_time": "2023-10-19T10:25:01.981Z"
   },
   {
    "duration": 3363,
    "start_time": "2023-10-19T10:25:02.029Z"
   },
   {
    "duration": 0,
    "start_time": "2023-10-19T10:25:05.394Z"
   },
   {
    "duration": 0,
    "start_time": "2023-10-19T10:25:05.396Z"
   },
   {
    "duration": 0,
    "start_time": "2023-10-19T10:25:05.397Z"
   },
   {
    "duration": 0,
    "start_time": "2023-10-19T10:25:05.398Z"
   },
   {
    "duration": 0,
    "start_time": "2023-10-19T10:25:05.399Z"
   },
   {
    "duration": 0,
    "start_time": "2023-10-19T10:25:05.401Z"
   },
   {
    "duration": 14,
    "start_time": "2023-10-19T10:25:20.245Z"
   },
   {
    "duration": 1265,
    "start_time": "2023-10-19T10:25:25.105Z"
   },
   {
    "duration": 2,
    "start_time": "2023-10-19T10:25:26.373Z"
   },
   {
    "duration": 65,
    "start_time": "2023-10-19T10:25:26.377Z"
   },
   {
    "duration": 32,
    "start_time": "2023-10-19T10:25:26.443Z"
   },
   {
    "duration": 12,
    "start_time": "2023-10-19T10:25:26.477Z"
   },
   {
    "duration": 20,
    "start_time": "2023-10-19T10:25:26.491Z"
   },
   {
    "duration": 39,
    "start_time": "2023-10-19T10:25:26.513Z"
   },
   {
    "duration": 32,
    "start_time": "2023-10-19T10:25:26.554Z"
   },
   {
    "duration": 16,
    "start_time": "2023-10-19T10:25:26.588Z"
   },
   {
    "duration": 39,
    "start_time": "2023-10-19T10:25:26.605Z"
   },
   {
    "duration": 10,
    "start_time": "2023-10-19T10:25:26.645Z"
   },
   {
    "duration": 24,
    "start_time": "2023-10-19T10:25:26.656Z"
   },
   {
    "duration": 29,
    "start_time": "2023-10-19T10:25:26.682Z"
   },
   {
    "duration": 22,
    "start_time": "2023-10-19T10:25:26.714Z"
   },
   {
    "duration": 16,
    "start_time": "2023-10-19T10:25:26.738Z"
   },
   {
    "duration": 11,
    "start_time": "2023-10-19T10:25:26.756Z"
   },
   {
    "duration": 142,
    "start_time": "2023-10-19T10:25:26.769Z"
   },
   {
    "duration": 0,
    "start_time": "2023-10-19T10:25:26.913Z"
   },
   {
    "duration": 0,
    "start_time": "2023-10-19T10:25:26.914Z"
   },
   {
    "duration": 0,
    "start_time": "2023-10-19T10:25:26.915Z"
   },
   {
    "duration": 0,
    "start_time": "2023-10-19T10:25:26.916Z"
   },
   {
    "duration": 0,
    "start_time": "2023-10-19T10:25:26.918Z"
   },
   {
    "duration": 0,
    "start_time": "2023-10-19T10:25:26.919Z"
   },
   {
    "duration": 0,
    "start_time": "2023-10-19T10:25:26.920Z"
   },
   {
    "duration": 15,
    "start_time": "2023-10-19T10:27:06.850Z"
   },
   {
    "duration": 17,
    "start_time": "2023-10-19T10:27:37.449Z"
   },
   {
    "duration": 1124,
    "start_time": "2023-10-19T10:27:41.497Z"
   },
   {
    "duration": 3,
    "start_time": "2023-10-19T10:27:42.623Z"
   },
   {
    "duration": 55,
    "start_time": "2023-10-19T10:27:42.627Z"
   },
   {
    "duration": 31,
    "start_time": "2023-10-19T10:27:42.684Z"
   },
   {
    "duration": 12,
    "start_time": "2023-10-19T10:27:42.717Z"
   },
   {
    "duration": 14,
    "start_time": "2023-10-19T10:27:42.730Z"
   },
   {
    "duration": 12,
    "start_time": "2023-10-19T10:27:42.746Z"
   },
   {
    "duration": 9,
    "start_time": "2023-10-19T10:27:42.760Z"
   },
   {
    "duration": 8,
    "start_time": "2023-10-19T10:27:42.771Z"
   },
   {
    "duration": 23,
    "start_time": "2023-10-19T10:27:42.782Z"
   },
   {
    "duration": 5,
    "start_time": "2023-10-19T10:27:42.806Z"
   },
   {
    "duration": 48,
    "start_time": "2023-10-19T10:27:42.813Z"
   },
   {
    "duration": 9,
    "start_time": "2023-10-19T10:27:42.864Z"
   },
   {
    "duration": 23,
    "start_time": "2023-10-19T10:27:42.875Z"
   },
   {
    "duration": 11,
    "start_time": "2023-10-19T10:27:42.900Z"
   },
   {
    "duration": 34,
    "start_time": "2023-10-19T10:27:42.914Z"
   },
   {
    "duration": 3,
    "start_time": "2023-10-19T10:27:42.950Z"
   },
   {
    "duration": 24,
    "start_time": "2023-10-19T10:27:42.955Z"
   },
   {
    "duration": 2005,
    "start_time": "2023-10-19T10:27:42.981Z"
   },
   {
    "duration": 0,
    "start_time": "2023-10-19T10:27:44.987Z"
   },
   {
    "duration": 0,
    "start_time": "2023-10-19T10:27:44.989Z"
   },
   {
    "duration": 0,
    "start_time": "2023-10-19T10:27:44.990Z"
   },
   {
    "duration": 0,
    "start_time": "2023-10-19T10:27:44.991Z"
   },
   {
    "duration": 0,
    "start_time": "2023-10-19T10:27:44.992Z"
   },
   {
    "duration": 10,
    "start_time": "2023-10-19T10:28:07.679Z"
   },
   {
    "duration": 1227,
    "start_time": "2023-10-19T10:28:15.295Z"
   },
   {
    "duration": 3,
    "start_time": "2023-10-19T10:28:16.524Z"
   },
   {
    "duration": 53,
    "start_time": "2023-10-19T10:28:16.529Z"
   },
   {
    "duration": 31,
    "start_time": "2023-10-19T10:28:16.583Z"
   },
   {
    "duration": 66,
    "start_time": "2023-10-19T10:28:16.616Z"
   },
   {
    "duration": 67,
    "start_time": "2023-10-19T10:28:16.684Z"
   },
   {
    "duration": 6,
    "start_time": "2023-10-19T10:28:16.753Z"
   },
   {
    "duration": 13,
    "start_time": "2023-10-19T10:28:16.761Z"
   },
   {
    "duration": 11,
    "start_time": "2023-10-19T10:28:16.776Z"
   },
   {
    "duration": 27,
    "start_time": "2023-10-19T10:28:16.789Z"
   },
   {
    "duration": 5,
    "start_time": "2023-10-19T10:28:16.818Z"
   },
   {
    "duration": 19,
    "start_time": "2023-10-19T10:28:16.848Z"
   },
   {
    "duration": 9,
    "start_time": "2023-10-19T10:28:16.869Z"
   },
   {
    "duration": 15,
    "start_time": "2023-10-19T10:28:16.881Z"
   },
   {
    "duration": 9,
    "start_time": "2023-10-19T10:28:16.898Z"
   },
   {
    "duration": 52,
    "start_time": "2023-10-19T10:28:16.909Z"
   },
   {
    "duration": 962,
    "start_time": "2023-10-19T10:28:16.963Z"
   },
   {
    "duration": 10,
    "start_time": "2023-10-19T10:28:17.927Z"
   },
   {
    "duration": 26,
    "start_time": "2023-10-19T10:28:17.939Z"
   },
   {
    "duration": 22,
    "start_time": "2023-10-19T10:28:17.966Z"
   },
   {
    "duration": 20,
    "start_time": "2023-10-19T10:28:17.989Z"
   },
   {
    "duration": 165,
    "start_time": "2023-10-19T10:28:18.011Z"
   },
   {
    "duration": 1257,
    "start_time": "2023-10-19T10:28:48.770Z"
   },
   {
    "duration": 4,
    "start_time": "2023-10-19T10:28:50.029Z"
   },
   {
    "duration": 95,
    "start_time": "2023-10-19T10:28:50.034Z"
   },
   {
    "duration": 34,
    "start_time": "2023-10-19T10:28:50.132Z"
   },
   {
    "duration": 12,
    "start_time": "2023-10-19T10:28:50.169Z"
   },
   {
    "duration": 8,
    "start_time": "2023-10-19T10:28:50.183Z"
   },
   {
    "duration": 10,
    "start_time": "2023-10-19T10:28:50.192Z"
   },
   {
    "duration": 18,
    "start_time": "2023-10-19T10:28:50.203Z"
   },
   {
    "duration": 25,
    "start_time": "2023-10-19T10:28:50.223Z"
   },
   {
    "duration": 26,
    "start_time": "2023-10-19T10:28:50.250Z"
   },
   {
    "duration": 5,
    "start_time": "2023-10-19T10:28:50.278Z"
   },
   {
    "duration": 49,
    "start_time": "2023-10-19T10:28:50.284Z"
   },
   {
    "duration": 19,
    "start_time": "2023-10-19T10:28:50.335Z"
   },
   {
    "duration": 10,
    "start_time": "2023-10-19T10:28:50.357Z"
   },
   {
    "duration": 34,
    "start_time": "2023-10-19T10:28:50.369Z"
   },
   {
    "duration": 17,
    "start_time": "2023-10-19T10:28:50.406Z"
   },
   {
    "duration": 34,
    "start_time": "2023-10-19T10:28:50.425Z"
   },
   {
    "duration": 11,
    "start_time": "2023-10-19T10:28:50.461Z"
   },
   {
    "duration": 29,
    "start_time": "2023-10-19T10:28:50.474Z"
   },
   {
    "duration": 49,
    "start_time": "2023-10-19T10:28:50.505Z"
   },
   {
    "duration": 20,
    "start_time": "2023-10-19T10:28:50.556Z"
   },
   {
    "duration": 137,
    "start_time": "2023-10-19T10:28:50.578Z"
   },
   {
    "duration": 20,
    "start_time": "2023-10-19T10:29:36.831Z"
   },
   {
    "duration": 24,
    "start_time": "2023-10-19T10:29:48.949Z"
   },
   {
    "duration": 7,
    "start_time": "2023-10-19T10:30:09.277Z"
   },
   {
    "duration": 22,
    "start_time": "2023-10-19T10:30:12.176Z"
   },
   {
    "duration": 20,
    "start_time": "2023-10-19T10:30:13.403Z"
   },
   {
    "duration": 20,
    "start_time": "2023-10-19T10:30:15.171Z"
   },
   {
    "duration": 15,
    "start_time": "2023-10-19T10:30:19.826Z"
   },
   {
    "duration": 442,
    "start_time": "2023-10-19T10:30:41.738Z"
   },
   {
    "duration": 458,
    "start_time": "2023-10-19T10:31:01.289Z"
   },
   {
    "duration": 450,
    "start_time": "2023-10-19T10:32:54.138Z"
   },
   {
    "duration": 11,
    "start_time": "2023-10-19T10:37:57.958Z"
   },
   {
    "duration": 1164,
    "start_time": "2023-10-19T10:38:13.344Z"
   },
   {
    "duration": 1152,
    "start_time": "2023-10-19T10:38:47.668Z"
   },
   {
    "duration": 2776,
    "start_time": "2023-10-19T10:40:55.601Z"
   },
   {
    "duration": 7799,
    "start_time": "2023-10-19T10:45:23.453Z"
   },
   {
    "duration": 7485,
    "start_time": "2023-10-19T10:46:10.964Z"
   },
   {
    "duration": 7805,
    "start_time": "2023-10-19T10:46:41.547Z"
   },
   {
    "duration": 1066,
    "start_time": "2023-10-22T10:07:20.097Z"
   },
   {
    "duration": 3,
    "start_time": "2023-10-22T10:07:21.165Z"
   },
   {
    "duration": 120,
    "start_time": "2023-10-22T10:07:21.170Z"
   },
   {
    "duration": 39,
    "start_time": "2023-10-22T10:07:21.293Z"
   },
   {
    "duration": 11,
    "start_time": "2023-10-22T10:07:21.334Z"
   },
   {
    "duration": 15,
    "start_time": "2023-10-22T10:07:21.347Z"
   },
   {
    "duration": 34,
    "start_time": "2023-10-22T10:07:21.364Z"
   },
   {
    "duration": 34,
    "start_time": "2023-10-22T10:07:21.400Z"
   },
   {
    "duration": 31,
    "start_time": "2023-10-22T10:07:21.435Z"
   },
   {
    "duration": 51,
    "start_time": "2023-10-22T10:07:21.469Z"
   },
   {
    "duration": 46,
    "start_time": "2023-10-22T10:07:21.522Z"
   },
   {
    "duration": 44,
    "start_time": "2023-10-22T10:07:21.569Z"
   },
   {
    "duration": 43,
    "start_time": "2023-10-22T10:07:21.614Z"
   },
   {
    "duration": 47,
    "start_time": "2023-10-22T10:07:21.659Z"
   },
   {
    "duration": 40,
    "start_time": "2023-10-22T10:07:21.707Z"
   },
   {
    "duration": 55,
    "start_time": "2023-10-22T10:07:21.749Z"
   },
   {
    "duration": 54,
    "start_time": "2023-10-22T10:07:21.806Z"
   },
   {
    "duration": 32,
    "start_time": "2023-10-22T10:07:21.862Z"
   },
   {
    "duration": 54,
    "start_time": "2023-10-22T10:07:21.896Z"
   },
   {
    "duration": 24,
    "start_time": "2023-10-22T10:07:21.952Z"
   },
   {
    "duration": 38,
    "start_time": "2023-10-22T10:07:21.978Z"
   },
   {
    "duration": 455,
    "start_time": "2023-10-22T10:07:22.018Z"
   },
   {
    "duration": 1095,
    "start_time": "2023-10-22T10:07:22.475Z"
   },
   {
    "duration": 2656,
    "start_time": "2023-10-22T10:07:23.572Z"
   },
   {
    "duration": 13815,
    "start_time": "2023-10-22T10:07:26.229Z"
   },
   {
    "duration": 4,
    "start_time": "2023-10-22T10:13:58.604Z"
   },
   {
    "duration": 4,
    "start_time": "2023-10-22T10:14:19.949Z"
   },
   {
    "duration": 5,
    "start_time": "2023-10-22T10:14:25.669Z"
   },
   {
    "duration": 5,
    "start_time": "2023-10-22T10:14:38.266Z"
   },
   {
    "duration": 5,
    "start_time": "2023-10-22T10:14:43.174Z"
   },
   {
    "duration": 4,
    "start_time": "2023-10-22T10:15:53.386Z"
   },
   {
    "duration": 4,
    "start_time": "2023-10-22T10:16:06.871Z"
   },
   {
    "duration": 3,
    "start_time": "2023-10-22T10:16:21.441Z"
   },
   {
    "duration": 4,
    "start_time": "2023-10-22T10:21:41.742Z"
   },
   {
    "duration": 298,
    "start_time": "2023-10-22T10:28:51.189Z"
   },
   {
    "duration": 4,
    "start_time": "2023-10-22T10:46:02.261Z"
   },
   {
    "duration": 106,
    "start_time": "2023-10-22T10:49:07.793Z"
   },
   {
    "duration": 4,
    "start_time": "2023-10-22T10:49:44.246Z"
   },
   {
    "duration": 18,
    "start_time": "2023-10-22T10:49:51.072Z"
   },
   {
    "duration": 1097,
    "start_time": "2023-10-22T10:50:39.158Z"
   },
   {
    "duration": 3,
    "start_time": "2023-10-22T10:50:40.256Z"
   },
   {
    "duration": 65,
    "start_time": "2023-10-22T10:50:40.261Z"
   },
   {
    "duration": 33,
    "start_time": "2023-10-22T10:50:40.328Z"
   },
   {
    "duration": 26,
    "start_time": "2023-10-22T10:50:40.363Z"
   },
   {
    "duration": 9,
    "start_time": "2023-10-22T10:50:40.391Z"
   },
   {
    "duration": 16,
    "start_time": "2023-10-22T10:50:40.401Z"
   },
   {
    "duration": 16,
    "start_time": "2023-10-22T10:50:40.419Z"
   },
   {
    "duration": 22,
    "start_time": "2023-10-22T10:50:40.437Z"
   },
   {
    "duration": 20,
    "start_time": "2023-10-22T10:50:40.461Z"
   },
   {
    "duration": 9,
    "start_time": "2023-10-22T10:50:40.483Z"
   },
   {
    "duration": 33,
    "start_time": "2023-10-22T10:50:40.494Z"
   },
   {
    "duration": 16,
    "start_time": "2023-10-22T10:50:40.528Z"
   },
   {
    "duration": 13,
    "start_time": "2023-10-22T10:50:40.548Z"
   },
   {
    "duration": 48,
    "start_time": "2023-10-22T10:50:40.563Z"
   },
   {
    "duration": 41,
    "start_time": "2023-10-22T10:50:40.614Z"
   },
   {
    "duration": 122,
    "start_time": "2023-10-22T10:50:40.657Z"
   },
   {
    "duration": 35,
    "start_time": "2023-10-22T10:50:40.781Z"
   },
   {
    "duration": 54,
    "start_time": "2023-10-22T10:50:40.818Z"
   },
   {
    "duration": 44,
    "start_time": "2023-10-22T10:50:40.874Z"
   },
   {
    "duration": 42,
    "start_time": "2023-10-22T10:50:40.919Z"
   },
   {
    "duration": 10,
    "start_time": "2023-10-22T10:50:40.963Z"
   },
   {
    "duration": 34,
    "start_time": "2023-10-22T10:50:40.975Z"
   },
   {
    "duration": 40,
    "start_time": "2023-10-22T10:50:41.011Z"
   },
   {
    "duration": 32,
    "start_time": "2023-10-22T10:50:41.053Z"
   },
   {
    "duration": 410,
    "start_time": "2023-10-22T10:50:41.087Z"
   },
   {
    "duration": 1169,
    "start_time": "2023-10-22T10:50:41.499Z"
   },
   {
    "duration": 2621,
    "start_time": "2023-10-22T10:50:42.670Z"
   },
   {
    "duration": 11251,
    "start_time": "2023-10-22T10:50:45.293Z"
   },
   {
    "duration": 6,
    "start_time": "2023-10-22T10:50:56.546Z"
   },
   {
    "duration": 699,
    "start_time": "2023-10-22T10:50:56.554Z"
   },
   {
    "duration": 4,
    "start_time": "2023-10-22T10:50:57.254Z"
   },
   {
    "duration": 212,
    "start_time": "2023-10-22T10:50:57.260Z"
   },
   {
    "duration": 4,
    "start_time": "2023-10-22T10:55:56.882Z"
   },
   {
    "duration": 830,
    "start_time": "2023-10-22T10:55:58.309Z"
   },
   {
    "duration": 858,
    "start_time": "2023-10-22T10:56:08.153Z"
   },
   {
    "duration": 3,
    "start_time": "2023-10-22T11:00:33.971Z"
   },
   {
    "duration": 4,
    "start_time": "2023-10-22T11:03:45.585Z"
   },
   {
    "duration": 5,
    "start_time": "2023-10-22T11:05:24.102Z"
   },
   {
    "duration": 13,
    "start_time": "2023-10-22T11:05:53.533Z"
   },
   {
    "duration": 16,
    "start_time": "2023-10-22T11:06:21.115Z"
   },
   {
    "duration": 4,
    "start_time": "2023-10-22T11:06:28.452Z"
   },
   {
    "duration": 14,
    "start_time": "2023-10-22T11:06:29.526Z"
   },
   {
    "duration": 20,
    "start_time": "2023-10-22T11:06:46.179Z"
   },
   {
    "duration": 12,
    "start_time": "2023-10-22T11:07:11.514Z"
   },
   {
    "duration": 348,
    "start_time": "2023-10-22T11:08:14.651Z"
   },
   {
    "duration": 291,
    "start_time": "2023-10-22T11:10:18.064Z"
   },
   {
    "duration": 836,
    "start_time": "2023-10-22T11:10:49.201Z"
   },
   {
    "duration": 331,
    "start_time": "2023-10-22T11:11:39.115Z"
   },
   {
    "duration": 135,
    "start_time": "2023-10-22T11:14:44.971Z"
   },
   {
    "duration": 4,
    "start_time": "2023-10-22T11:14:54.948Z"
   },
   {
    "duration": 863,
    "start_time": "2023-10-22T11:16:34.949Z"
   },
   {
    "duration": 3,
    "start_time": "2023-10-22T11:18:01.366Z"
   },
   {
    "duration": 8,
    "start_time": "2023-10-22T11:21:22.443Z"
   },
   {
    "duration": 432,
    "start_time": "2023-10-22T11:21:34.080Z"
   },
   {
    "duration": 4,
    "start_time": "2023-10-22T11:23:35.967Z"
   },
   {
    "duration": 24,
    "start_time": "2023-10-22T11:26:20.401Z"
   },
   {
    "duration": 64,
    "start_time": "2023-10-22T11:26:27.279Z"
   },
   {
    "duration": 1412,
    "start_time": "2023-10-23T18:09:40.167Z"
   },
   {
    "duration": 4,
    "start_time": "2023-10-23T18:09:41.582Z"
   },
   {
    "duration": 226,
    "start_time": "2023-10-23T18:09:41.589Z"
   },
   {
    "duration": 54,
    "start_time": "2023-10-23T18:09:41.818Z"
   },
   {
    "duration": 31,
    "start_time": "2023-10-23T18:09:41.874Z"
   },
   {
    "duration": 19,
    "start_time": "2023-10-23T18:09:41.907Z"
   },
   {
    "duration": 22,
    "start_time": "2023-10-23T18:09:41.931Z"
   },
   {
    "duration": 38,
    "start_time": "2023-10-23T18:09:41.955Z"
   },
   {
    "duration": 36,
    "start_time": "2023-10-23T18:09:41.994Z"
   },
   {
    "duration": 41,
    "start_time": "2023-10-23T18:09:42.033Z"
   },
   {
    "duration": 25,
    "start_time": "2023-10-23T18:09:42.076Z"
   },
   {
    "duration": 72,
    "start_time": "2023-10-23T18:09:42.104Z"
   },
   {
    "duration": 45,
    "start_time": "2023-10-23T18:09:42.179Z"
   },
   {
    "duration": 20,
    "start_time": "2023-10-23T18:09:42.226Z"
   },
   {
    "duration": 23,
    "start_time": "2023-10-23T18:09:42.249Z"
   },
   {
    "duration": 29,
    "start_time": "2023-10-23T18:09:42.274Z"
   },
   {
    "duration": 50,
    "start_time": "2023-10-23T18:09:42.305Z"
   },
   {
    "duration": 11,
    "start_time": "2023-10-23T18:09:42.358Z"
   },
   {
    "duration": 33,
    "start_time": "2023-10-23T18:09:42.371Z"
   },
   {
    "duration": 30,
    "start_time": "2023-10-23T18:09:42.406Z"
   },
   {
    "duration": 47,
    "start_time": "2023-10-23T18:09:42.439Z"
   },
   {
    "duration": 6,
    "start_time": "2023-10-23T18:09:42.488Z"
   },
   {
    "duration": 557,
    "start_time": "2023-10-23T18:09:42.495Z"
   },
   {
    "duration": 1377,
    "start_time": "2023-10-23T18:09:43.054Z"
   },
   {
    "duration": 2819,
    "start_time": "2023-10-23T18:09:44.434Z"
   },
   {
    "duration": 7812,
    "start_time": "2023-10-23T18:09:47.255Z"
   },
   {
    "duration": 94,
    "start_time": "2023-10-23T18:09:55.074Z"
   },
   {
    "duration": 356,
    "start_time": "2023-10-23T18:09:55.171Z"
   },
   {
    "duration": 4,
    "start_time": "2023-10-23T18:09:55.531Z"
   },
   {
    "duration": 36,
    "start_time": "2023-10-23T18:09:55.537Z"
   },
   {
    "duration": 981,
    "start_time": "2023-10-23T18:09:55.575Z"
   },
   {
    "duration": 19,
    "start_time": "2023-10-23T18:09:56.558Z"
   },
   {
    "duration": 33,
    "start_time": "2023-10-23T18:09:56.580Z"
   },
   {
    "duration": 449,
    "start_time": "2023-10-23T18:09:56.615Z"
   },
   {
    "duration": 5,
    "start_time": "2023-10-23T18:09:57.067Z"
   },
   {
    "duration": 1106,
    "start_time": "2023-10-23T18:09:57.074Z"
   },
   {
    "duration": 4,
    "start_time": "2023-10-23T18:09:58.183Z"
   },
   {
    "duration": 75,
    "start_time": "2023-10-23T18:09:58.190Z"
   },
   {
    "duration": 1336,
    "start_time": "2023-10-24T10:08:29.985Z"
   },
   {
    "duration": 3,
    "start_time": "2023-10-24T10:08:31.323Z"
   },
   {
    "duration": 216,
    "start_time": "2023-10-24T10:08:31.328Z"
   },
   {
    "duration": 34,
    "start_time": "2023-10-24T10:08:31.546Z"
   },
   {
    "duration": 31,
    "start_time": "2023-10-24T10:08:31.583Z"
   },
   {
    "duration": 32,
    "start_time": "2023-10-24T10:08:31.616Z"
   },
   {
    "duration": 35,
    "start_time": "2023-10-24T10:08:31.649Z"
   },
   {
    "duration": 48,
    "start_time": "2023-10-24T10:08:31.686Z"
   },
   {
    "duration": 59,
    "start_time": "2023-10-24T10:08:31.736Z"
   },
   {
    "duration": 124,
    "start_time": "2023-10-24T10:08:31.797Z"
   },
   {
    "duration": 242,
    "start_time": "2023-10-24T10:08:31.922Z"
   },
   {
    "duration": 57,
    "start_time": "2023-10-24T10:08:32.165Z"
   },
   {
    "duration": 62,
    "start_time": "2023-10-24T10:08:32.224Z"
   },
   {
    "duration": 67,
    "start_time": "2023-10-24T10:08:32.289Z"
   },
   {
    "duration": 149,
    "start_time": "2023-10-24T10:08:32.357Z"
   },
   {
    "duration": 88,
    "start_time": "2023-10-24T10:08:32.507Z"
   },
   {
    "duration": 47,
    "start_time": "2023-10-24T10:08:32.597Z"
   },
   {
    "duration": 40,
    "start_time": "2023-10-24T10:08:32.646Z"
   },
   {
    "duration": 299,
    "start_time": "2023-10-24T10:08:32.688Z"
   },
   {
    "duration": 261,
    "start_time": "2023-10-24T10:08:32.989Z"
   },
   {
    "duration": 292,
    "start_time": "2023-10-24T10:08:33.252Z"
   },
   {
    "duration": 20,
    "start_time": "2023-10-24T10:08:33.546Z"
   },
   {
    "duration": 795,
    "start_time": "2023-10-24T10:08:33.568Z"
   },
   {
    "duration": 1925,
    "start_time": "2023-10-24T10:08:34.365Z"
   },
   {
    "duration": 2955,
    "start_time": "2023-10-24T10:08:36.292Z"
   },
   {
    "duration": 9007,
    "start_time": "2023-10-24T10:08:39.256Z"
   },
   {
    "duration": 96,
    "start_time": "2023-10-24T10:08:48.265Z"
   },
   {
    "duration": 408,
    "start_time": "2023-10-24T10:08:48.364Z"
   },
   {
    "duration": 5,
    "start_time": "2023-10-24T10:08:48.774Z"
   },
   {
    "duration": 28,
    "start_time": "2023-10-24T10:08:48.781Z"
   },
   {
    "duration": 1019,
    "start_time": "2023-10-24T10:08:48.812Z"
   },
   {
    "duration": 4,
    "start_time": "2023-10-24T10:08:49.833Z"
   },
   {
    "duration": 34,
    "start_time": "2023-10-24T10:08:49.839Z"
   },
   {
    "duration": 399,
    "start_time": "2023-10-24T10:08:49.875Z"
   },
   {
    "duration": 4,
    "start_time": "2023-10-24T10:08:50.276Z"
   },
   {
    "duration": 1191,
    "start_time": "2023-10-24T10:08:50.282Z"
   },
   {
    "duration": 4,
    "start_time": "2023-10-24T10:08:51.475Z"
   },
   {
    "duration": 120,
    "start_time": "2023-10-24T10:08:51.481Z"
   },
   {
    "duration": 5,
    "start_time": "2023-10-24T10:15:03.645Z"
   },
   {
    "duration": 118,
    "start_time": "2023-10-24T10:18:16.225Z"
   },
   {
    "duration": 11,
    "start_time": "2023-10-24T10:18:32.311Z"
   },
   {
    "duration": 9,
    "start_time": "2023-10-24T10:18:40.991Z"
   },
   {
    "duration": 9,
    "start_time": "2023-10-24T10:19:23.546Z"
   },
   {
    "duration": 13,
    "start_time": "2023-10-24T10:19:42.931Z"
   },
   {
    "duration": 1380,
    "start_time": "2023-10-24T10:19:56.836Z"
   },
   {
    "duration": 3,
    "start_time": "2023-10-24T10:19:58.218Z"
   },
   {
    "duration": 156,
    "start_time": "2023-10-24T10:19:58.222Z"
   },
   {
    "duration": 89,
    "start_time": "2023-10-24T10:19:58.380Z"
   },
   {
    "duration": 30,
    "start_time": "2023-10-24T10:19:58.471Z"
   },
   {
    "duration": 32,
    "start_time": "2023-10-24T10:19:58.502Z"
   },
   {
    "duration": 72,
    "start_time": "2023-10-24T10:19:58.536Z"
   },
   {
    "duration": 65,
    "start_time": "2023-10-24T10:19:58.610Z"
   },
   {
    "duration": 82,
    "start_time": "2023-10-24T10:19:58.678Z"
   },
   {
    "duration": 69,
    "start_time": "2023-10-24T10:19:58.763Z"
   },
   {
    "duration": 7,
    "start_time": "2023-10-24T10:19:58.835Z"
   },
   {
    "duration": 60,
    "start_time": "2023-10-24T10:19:58.845Z"
   },
   {
    "duration": 13,
    "start_time": "2023-10-24T10:19:58.907Z"
   },
   {
    "duration": 44,
    "start_time": "2023-10-24T10:19:58.925Z"
   },
   {
    "duration": 33,
    "start_time": "2023-10-24T10:19:58.972Z"
   },
   {
    "duration": 66,
    "start_time": "2023-10-24T10:19:59.008Z"
   },
   {
    "duration": 65,
    "start_time": "2023-10-24T10:19:59.076Z"
   },
   {
    "duration": 73,
    "start_time": "2023-10-24T10:19:59.143Z"
   },
   {
    "duration": 47,
    "start_time": "2023-10-24T10:19:59.219Z"
   },
   {
    "duration": 44,
    "start_time": "2023-10-24T10:19:59.268Z"
   },
   {
    "duration": 40,
    "start_time": "2023-10-24T10:19:59.316Z"
   },
   {
    "duration": 22,
    "start_time": "2023-10-24T10:19:59.358Z"
   },
   {
    "duration": 11,
    "start_time": "2023-10-24T10:19:59.382Z"
   },
   {
    "duration": 547,
    "start_time": "2023-10-24T10:19:59.396Z"
   },
   {
    "duration": 1360,
    "start_time": "2023-10-24T10:19:59.958Z"
   },
   {
    "duration": 3009,
    "start_time": "2023-10-24T10:20:01.320Z"
   },
   {
    "duration": 3131,
    "start_time": "2023-10-24T10:20:04.331Z"
   },
   {
    "duration": 94,
    "start_time": "2023-10-24T10:20:07.464Z"
   },
   {
    "duration": 807,
    "start_time": "2023-10-24T10:20:07.560Z"
   },
   {
    "duration": 4,
    "start_time": "2023-10-24T10:20:08.369Z"
   },
   {
    "duration": 35,
    "start_time": "2023-10-24T10:20:08.375Z"
   },
   {
    "duration": 1638,
    "start_time": "2023-10-24T10:20:08.412Z"
   },
   {
    "duration": 5,
    "start_time": "2023-10-24T10:20:10.057Z"
   },
   {
    "duration": 66,
    "start_time": "2023-10-24T10:20:10.064Z"
   },
   {
    "duration": 475,
    "start_time": "2023-10-24T10:20:10.133Z"
   },
   {
    "duration": 5,
    "start_time": "2023-10-24T10:20:10.610Z"
   },
   {
    "duration": 995,
    "start_time": "2023-10-24T10:20:10.617Z"
   },
   {
    "duration": 3,
    "start_time": "2023-10-24T10:20:11.614Z"
   },
   {
    "duration": 67,
    "start_time": "2023-10-24T10:20:11.619Z"
   },
   {
    "duration": 125,
    "start_time": "2023-10-24T10:20:27.240Z"
   },
   {
    "duration": 117,
    "start_time": "2023-10-24T10:20:42.990Z"
   },
   {
    "duration": 1262,
    "start_time": "2023-10-24T10:20:53.055Z"
   },
   {
    "duration": 4,
    "start_time": "2023-10-24T10:20:54.320Z"
   },
   {
    "duration": 63,
    "start_time": "2023-10-24T10:20:54.326Z"
   },
   {
    "duration": 34,
    "start_time": "2023-10-24T10:20:54.391Z"
   },
   {
    "duration": 12,
    "start_time": "2023-10-24T10:20:54.428Z"
   },
   {
    "duration": 25,
    "start_time": "2023-10-24T10:20:54.442Z"
   },
   {
    "duration": 10,
    "start_time": "2023-10-24T10:20:54.469Z"
   },
   {
    "duration": 27,
    "start_time": "2023-10-24T10:20:54.481Z"
   },
   {
    "duration": 30,
    "start_time": "2023-10-24T10:20:54.510Z"
   },
   {
    "duration": 41,
    "start_time": "2023-10-24T10:20:54.542Z"
   },
   {
    "duration": 6,
    "start_time": "2023-10-24T10:20:54.585Z"
   },
   {
    "duration": 57,
    "start_time": "2023-10-24T10:20:54.593Z"
   },
   {
    "duration": 10,
    "start_time": "2023-10-24T10:20:54.651Z"
   },
   {
    "duration": 10,
    "start_time": "2023-10-24T10:20:54.665Z"
   },
   {
    "duration": 13,
    "start_time": "2023-10-24T10:20:54.677Z"
   },
   {
    "duration": 22,
    "start_time": "2023-10-24T10:20:54.691Z"
   },
   {
    "duration": 49,
    "start_time": "2023-10-24T10:20:54.715Z"
   },
   {
    "duration": 35,
    "start_time": "2023-10-24T10:20:54.766Z"
   },
   {
    "duration": 34,
    "start_time": "2023-10-24T10:20:54.803Z"
   },
   {
    "duration": 40,
    "start_time": "2023-10-24T10:20:54.839Z"
   },
   {
    "duration": 28,
    "start_time": "2023-10-24T10:20:54.881Z"
   },
   {
    "duration": 136,
    "start_time": "2023-10-24T10:20:54.911Z"
   },
   {
    "duration": 0,
    "start_time": "2023-10-24T10:20:55.049Z"
   },
   {
    "duration": 0,
    "start_time": "2023-10-24T10:20:55.050Z"
   },
   {
    "duration": 0,
    "start_time": "2023-10-24T10:20:55.051Z"
   },
   {
    "duration": 0,
    "start_time": "2023-10-24T10:20:55.053Z"
   },
   {
    "duration": 0,
    "start_time": "2023-10-24T10:20:55.053Z"
   },
   {
    "duration": 0,
    "start_time": "2023-10-24T10:20:55.055Z"
   },
   {
    "duration": 0,
    "start_time": "2023-10-24T10:20:55.056Z"
   },
   {
    "duration": 0,
    "start_time": "2023-10-24T10:20:55.057Z"
   },
   {
    "duration": 0,
    "start_time": "2023-10-24T10:20:55.058Z"
   },
   {
    "duration": 0,
    "start_time": "2023-10-24T10:20:55.059Z"
   },
   {
    "duration": 0,
    "start_time": "2023-10-24T10:20:55.060Z"
   },
   {
    "duration": 0,
    "start_time": "2023-10-24T10:20:55.062Z"
   },
   {
    "duration": 0,
    "start_time": "2023-10-24T10:20:55.062Z"
   },
   {
    "duration": 0,
    "start_time": "2023-10-24T10:20:55.063Z"
   },
   {
    "duration": 0,
    "start_time": "2023-10-24T10:20:55.064Z"
   },
   {
    "duration": 0,
    "start_time": "2023-10-24T10:20:55.065Z"
   },
   {
    "duration": 0,
    "start_time": "2023-10-24T10:20:55.067Z"
   },
   {
    "duration": 21,
    "start_time": "2023-10-24T10:21:14.916Z"
   },
   {
    "duration": 17,
    "start_time": "2023-10-24T10:21:36.611Z"
   },
   {
    "duration": 20,
    "start_time": "2023-10-24T10:22:00.811Z"
   },
   {
    "duration": 119,
    "start_time": "2023-10-24T10:22:20.950Z"
   },
   {
    "duration": 10,
    "start_time": "2023-10-24T10:22:34.599Z"
   },
   {
    "duration": 5,
    "start_time": "2023-10-24T10:22:39.318Z"
   },
   {
    "duration": 27,
    "start_time": "2023-10-24T10:24:37.232Z"
   },
   {
    "duration": 31,
    "start_time": "2023-10-24T10:24:46.712Z"
   },
   {
    "duration": 28,
    "start_time": "2023-10-24T10:24:57.145Z"
   },
   {
    "duration": 5,
    "start_time": "2023-10-24T10:26:34.910Z"
   },
   {
    "duration": 452,
    "start_time": "2023-10-24T10:26:41.190Z"
   },
   {
    "duration": 1206,
    "start_time": "2023-10-24T10:26:53.735Z"
   },
   {
    "duration": 2991,
    "start_time": "2023-10-24T10:26:58.516Z"
   },
   {
    "duration": 3587,
    "start_time": "2023-10-24T10:27:07.470Z"
   },
   {
    "duration": 6,
    "start_time": "2023-10-24T10:27:14.636Z"
   },
   {
    "duration": 400,
    "start_time": "2023-10-24T10:27:18.740Z"
   },
   {
    "duration": 5,
    "start_time": "2023-10-24T10:27:24.380Z"
   },
   {
    "duration": 15,
    "start_time": "2023-10-24T10:27:26.240Z"
   },
   {
    "duration": 969,
    "start_time": "2023-10-24T10:27:27.846Z"
   },
   {
    "duration": 4,
    "start_time": "2023-10-24T10:27:31.952Z"
   },
   {
    "duration": 13,
    "start_time": "2023-10-24T10:27:32.660Z"
   },
   {
    "duration": 352,
    "start_time": "2023-10-24T10:27:34.901Z"
   },
   {
    "duration": 5,
    "start_time": "2023-10-24T10:27:37.980Z"
   },
   {
    "duration": 950,
    "start_time": "2023-10-24T10:27:45.649Z"
   },
   {
    "duration": 5,
    "start_time": "2023-10-24T10:27:48.871Z"
   },
   {
    "duration": 3,
    "start_time": "2023-10-24T10:29:08.406Z"
   },
   {
    "duration": 1325,
    "start_time": "2023-10-24T10:29:24.226Z"
   },
   {
    "duration": 3,
    "start_time": "2023-10-24T10:29:25.556Z"
   },
   {
    "duration": 55,
    "start_time": "2023-10-24T10:29:25.561Z"
   },
   {
    "duration": 35,
    "start_time": "2023-10-24T10:29:25.618Z"
   },
   {
    "duration": 12,
    "start_time": "2023-10-24T10:29:25.655Z"
   },
   {
    "duration": 5,
    "start_time": "2023-10-24T10:29:25.669Z"
   },
   {
    "duration": 15,
    "start_time": "2023-10-24T10:29:25.675Z"
   },
   {
    "duration": 23,
    "start_time": "2023-10-24T10:29:25.692Z"
   },
   {
    "duration": 12,
    "start_time": "2023-10-24T10:29:25.717Z"
   },
   {
    "duration": 43,
    "start_time": "2023-10-24T10:29:25.731Z"
   },
   {
    "duration": 7,
    "start_time": "2023-10-24T10:29:25.776Z"
   },
   {
    "duration": 40,
    "start_time": "2023-10-24T10:29:25.784Z"
   },
   {
    "duration": 14,
    "start_time": "2023-10-24T10:29:25.825Z"
   },
   {
    "duration": 27,
    "start_time": "2023-10-24T10:29:25.842Z"
   },
   {
    "duration": 18,
    "start_time": "2023-10-24T10:29:25.871Z"
   },
   {
    "duration": 64,
    "start_time": "2023-10-24T10:29:25.890Z"
   },
   {
    "duration": 29,
    "start_time": "2023-10-24T10:29:25.956Z"
   },
   {
    "duration": 19,
    "start_time": "2023-10-24T10:29:25.987Z"
   },
   {
    "duration": 45,
    "start_time": "2023-10-24T10:29:26.008Z"
   },
   {
    "duration": 28,
    "start_time": "2023-10-24T10:29:26.055Z"
   },
   {
    "duration": 30,
    "start_time": "2023-10-24T10:29:26.085Z"
   },
   {
    "duration": 11,
    "start_time": "2023-10-24T10:29:26.117Z"
   },
   {
    "duration": 33,
    "start_time": "2023-10-24T10:29:26.130Z"
   },
   {
    "duration": 496,
    "start_time": "2023-10-24T10:29:26.165Z"
   },
   {
    "duration": 1271,
    "start_time": "2023-10-24T10:29:26.662Z"
   },
   {
    "duration": 3027,
    "start_time": "2023-10-24T10:29:27.935Z"
   },
   {
    "duration": 8393,
    "start_time": "2023-10-24T10:29:30.965Z"
   },
   {
    "duration": 97,
    "start_time": "2023-10-24T10:29:39.361Z"
   },
   {
    "duration": 332,
    "start_time": "2023-10-24T10:29:39.460Z"
   },
   {
    "duration": 4,
    "start_time": "2023-10-24T10:29:39.794Z"
   },
   {
    "duration": 21,
    "start_time": "2023-10-24T10:29:39.800Z"
   },
   {
    "duration": 1665,
    "start_time": "2023-10-24T10:29:39.823Z"
   },
   {
    "duration": 5,
    "start_time": "2023-10-24T10:29:41.490Z"
   },
   {
    "duration": 70,
    "start_time": "2023-10-24T10:29:41.496Z"
   },
   {
    "duration": 655,
    "start_time": "2023-10-24T10:29:41.568Z"
   },
   {
    "duration": 4,
    "start_time": "2023-10-24T10:29:42.225Z"
   },
   {
    "duration": 1016,
    "start_time": "2023-10-24T10:29:42.230Z"
   },
   {
    "duration": 3,
    "start_time": "2023-10-24T10:29:43.256Z"
   },
   {
    "duration": 78,
    "start_time": "2023-10-24T10:29:43.261Z"
   },
   {
    "duration": 55,
    "start_time": "2023-10-24T10:32:48.140Z"
   },
   {
    "duration": 463,
    "start_time": "2023-10-24T10:32:51.975Z"
   },
   {
    "duration": 473,
    "start_time": "2023-10-24T10:34:37.486Z"
   },
   {
    "duration": 1268,
    "start_time": "2023-10-24T10:35:43.775Z"
   },
   {
    "duration": 2906,
    "start_time": "2023-10-24T10:36:35.270Z"
   },
   {
    "duration": 8417,
    "start_time": "2023-10-24T10:37:36.646Z"
   },
   {
    "duration": 4,
    "start_time": "2023-10-24T10:38:07.895Z"
   },
   {
    "duration": 1299,
    "start_time": "2023-10-24T10:39:00.204Z"
   },
   {
    "duration": 8392,
    "start_time": "2023-10-24T10:39:14.665Z"
   },
   {
    "duration": 479,
    "start_time": "2023-10-24T10:39:34.018Z"
   },
   {
    "duration": 1374,
    "start_time": "2023-10-24T10:39:45.675Z"
   },
   {
    "duration": 2957,
    "start_time": "2023-10-24T10:40:04.175Z"
   },
   {
    "duration": 9071,
    "start_time": "2023-10-24T10:40:18.600Z"
   },
   {
    "duration": 5,
    "start_time": "2023-10-24T10:40:51.215Z"
   },
   {
    "duration": 5,
    "start_time": "2023-10-24T10:42:42.657Z"
   },
   {
    "duration": 5,
    "start_time": "2023-10-24T10:42:54.928Z"
   },
   {
    "duration": 367,
    "start_time": "2023-10-24T10:44:48.181Z"
   },
   {
    "duration": 1085,
    "start_time": "2023-10-24T10:45:44.451Z"
   },
   {
    "duration": 423,
    "start_time": "2023-10-24T10:46:38.223Z"
   },
   {
    "duration": 6,
    "start_time": "2023-10-24T10:47:02.873Z"
   },
   {
    "duration": 981,
    "start_time": "2023-10-24T10:48:07.555Z"
   },
   {
    "duration": 6,
    "start_time": "2023-10-24T10:48:09.915Z"
   },
   {
    "duration": 61,
    "start_time": "2023-10-24T10:48:13.515Z"
   },
   {
    "duration": 5767,
    "start_time": "2023-10-24T14:56:04.796Z"
   },
   {
    "duration": 14,
    "start_time": "2023-10-24T14:56:10.573Z"
   },
   {
    "duration": 255,
    "start_time": "2023-10-24T14:56:10.595Z"
   },
   {
    "duration": 68,
    "start_time": "2023-10-24T14:56:10.852Z"
   },
   {
    "duration": 12,
    "start_time": "2023-10-24T14:56:10.922Z"
   },
   {
    "duration": 47,
    "start_time": "2023-10-24T14:56:10.936Z"
   },
   {
    "duration": 25,
    "start_time": "2023-10-24T14:56:10.986Z"
   },
   {
    "duration": 107,
    "start_time": "2023-10-24T14:56:11.013Z"
   },
   {
    "duration": 91,
    "start_time": "2023-10-24T14:56:11.122Z"
   },
   {
    "duration": 90,
    "start_time": "2023-10-24T14:56:11.215Z"
   },
   {
    "duration": 7,
    "start_time": "2023-10-24T14:56:11.309Z"
   },
   {
    "duration": 80,
    "start_time": "2023-10-24T14:56:11.318Z"
   },
   {
    "duration": 14,
    "start_time": "2023-10-24T14:56:11.404Z"
   },
   {
    "duration": 87,
    "start_time": "2023-10-24T14:56:11.421Z"
   },
   {
    "duration": 81,
    "start_time": "2023-10-24T14:56:11.510Z"
   },
   {
    "duration": 46,
    "start_time": "2023-10-24T14:56:11.593Z"
   },
   {
    "duration": 82,
    "start_time": "2023-10-24T14:56:11.641Z"
   },
   {
    "duration": 67,
    "start_time": "2023-10-24T14:56:11.726Z"
   },
   {
    "duration": 43,
    "start_time": "2023-10-24T14:56:11.796Z"
   },
   {
    "duration": 48,
    "start_time": "2023-10-24T14:56:11.841Z"
   },
   {
    "duration": 36,
    "start_time": "2023-10-24T14:56:11.890Z"
   },
   {
    "duration": 16,
    "start_time": "2023-10-24T14:56:11.928Z"
   },
   {
    "duration": 18,
    "start_time": "2023-10-24T14:56:15.117Z"
   },
   {
    "duration": 176,
    "start_time": "2023-10-24T14:56:27.949Z"
   },
   {
    "duration": 7,
    "start_time": "2023-10-24T14:56:31.604Z"
   },
   {
    "duration": 25,
    "start_time": "2023-10-24T14:56:31.789Z"
   },
   {
    "duration": 1220,
    "start_time": "2023-10-24T14:56:34.592Z"
   },
   {
    "duration": 13,
    "start_time": "2023-10-24T14:56:37.065Z"
   },
   {
    "duration": 18,
    "start_time": "2023-10-24T14:56:41.210Z"
   },
   {
    "duration": 52,
    "start_time": "2023-10-24T14:56:49.083Z"
   },
   {
    "duration": 1164,
    "start_time": "2023-10-24T14:56:54.229Z"
   },
   {
    "duration": 4,
    "start_time": "2023-10-24T14:56:56.618Z"
   },
   {
    "duration": 20,
    "start_time": "2023-10-24T14:57:00.714Z"
   },
   {
    "duration": 10,
    "start_time": "2023-10-24T14:57:03.689Z"
   },
   {
    "duration": 14,
    "start_time": "2023-10-24T14:57:03.930Z"
   },
   {
    "duration": 1209,
    "start_time": "2023-10-24T14:57:06.922Z"
   },
   {
    "duration": 4,
    "start_time": "2023-10-24T14:57:09.027Z"
   }
  ],
  "kernelspec": {
   "display_name": "Python 3 (ipykernel)",
   "language": "python",
   "name": "python3"
  },
  "language_info": {
   "codemirror_mode": {
    "name": "ipython",
    "version": 3
   },
   "file_extension": ".py",
   "mimetype": "text/x-python",
   "name": "python",
   "nbconvert_exporter": "python",
   "pygments_lexer": "ipython3",
   "version": "3.9.5"
  },
  "toc": {
   "base_numbering": 1,
   "nav_menu": {},
   "number_sections": true,
   "sideBar": true,
   "skip_h1_title": true,
   "title_cell": "Содержание",
   "title_sidebar": "Contents",
   "toc_cell": true,
   "toc_position": {
    "height": "calc(100% - 180px)",
    "left": "10px",
    "top": "150px",
    "width": "275px"
   },
   "toc_section_display": true,
   "toc_window_display": true
  }
 },
 "nbformat": 4,
 "nbformat_minor": 2
}
